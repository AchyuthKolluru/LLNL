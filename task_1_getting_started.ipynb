{
 "cells": [
  {
   "cell_type": "markdown",
   "metadata": {},
   "source": [
    "# Getting started with Task 1"
   ]
  },
  {
   "cell_type": "markdown",
   "metadata": {},
   "source": [
    "Instructions:\n",
    "- Download the dataset from the [ECG Heartbeat Categorization Dataset](https://www.kaggle.com/datasets/shayanfazeli/heartbeat)\n",
    "- Unzip the `archive.zip` file\n",
    "- Rename the folder `archive` as `ecg_dataset` and place it in the root of the git repository"
   ]
  },
  {
   "cell_type": "markdown",
   "metadata": {},
   "source": [
    "References:\n",
    "- [ECG Heartbeat Classification: A Deep Transferable Representation](https://arxiv.org/pdf/1805.00794.pdf)"
   ]
  },
  {
   "cell_type": "markdown",
   "metadata": {},
   "source": [
    "## Load dependencies"
   ]
  },
  {
   "cell_type": "code",
   "execution_count": 1,
   "metadata": {},
   "outputs": [],
   "source": [
    "import pandas as pd\n",
    "import numpy as np\n",
    "import matplotlib.pyplot as plt"
   ]
  },
  {
   "cell_type": "markdown",
   "metadata": {},
   "source": [
    "## The PTB Diagnostic ECG Database\n",
    "\n",
    "- Number of Samples: 14552\n",
    "- Number of Categories: 2\n",
    "- Sampling Frequency: 125Hz\n",
    "- Data Source: Physionet's PTB Diagnostic Database\n",
    "- ECG lead II re-sampled to the sampling frequency of 125Hz as the input (from [ECG Heartbeat Classification: A Deep Transferable Representation](https://arxiv.org/pdf/1805.00794.pdf))\n",
    "- Remark: All the samples are cropped, downsampled and padded with zeroes if necessary to the fixed dimension of 188.\n",
    "- The final element of each row denotes the class to which that example belongs.\n"
   ]
  },
  {
   "cell_type": "code",
   "execution_count": 2,
   "metadata": {},
   "outputs": [
    {
     "name": "stdout",
     "output_type": "stream",
     "text": [
      "The shape of the normal dataframe is :  (4046, 188)\n",
      "Class :  0.0\n",
      "The shape of the abnormal dataframe is :  (10506, 188)\n",
      "Class :  1.0\n",
      "The last time value is :  1488.0\n"
     ]
    },
    {
     "data": {
      "image/png": "[encoded data removed]",
      "text/plain": [
       "<Figure size 1000x500 with 1 Axes>"
      ]
     },
     "metadata": {},
     "output_type": "display_data"
    }
   ],
   "source": [
    "df_ptbd_normal = pd.read_csv(\"ecg_dataset/ptbdb_normal.csv\", header = None)\n",
    "df_ptbd_abnormal = pd.read_csv(\"ecg_dataset/ptbdb_abnormal.csv\", header = None)\n",
    "\n",
    "# print shapes of the dataframes\n",
    "print(\"The shape of the normal dataframe is : \", df_ptbd_normal.shape)\n",
    "# print one example of the last column\n",
    "print(\"Class : \", df_ptbd_normal.iloc[:, -1][0])\n",
    "print(\"The shape of the abnormal dataframe is : \", df_ptbd_abnormal.shape)\n",
    "# print one example of the last column\n",
    "print(\"Class : \", df_ptbd_abnormal.iloc[:, -1][0])\n",
    "\n",
    "# classes are 0 (normal) and 1 (abnormal)\n",
    "classes_names = {0 : \"normal\", \n",
    "                 1 : \"abnormal\"}\n",
    "\n",
    "# get the number of columns in the dataframe\n",
    "# the last column is the label/class\n",
    "num_cols = df_ptbd_normal.shape[1] - 1 \n",
    "# the signal was resampled at frequency of 125Hz as the input\n",
    "# compute the time vector\n",
    "time = np.arange(0, num_cols) / 125\n",
    "# convert to milliseconds\n",
    "time = time * 1000\n",
    "# print last time value\n",
    "print(\"The last time value is : \", time[-1])\n",
    "\n",
    "# for the first \"num_cols\" and the time steps as column names\n",
    "df_ptbd_normal.columns = list(time) + [\"label\"]\n",
    "df_ptbd_abnormal.columns = list(time) + [\"label\"]\n",
    "\n",
    "# concatenate the two dataframes\n",
    "df_ptbd = pd.concat([df_ptbd_normal, df_ptbd_abnormal], axis = 0)\n",
    "\n",
    "# count the number of samples in each class and plot a bar chart\n",
    "# change the class names to \"normal\" and \"abnormal\"\n",
    "# count the number of samples in each class\n",
    "counts = df_ptbd[\"label\"].value_counts()\n",
    "# substitute the class names: 0.0 -> normal, 1.0 -> abnormal\n",
    "counts.index = counts.index.map(classes_names)\n",
    "# create a figure \n",
    "plt.figure(figsize = (10, 5))\n",
    "# plot a bar chart\n",
    "counts.plot(kind = \"bar\")\n",
    "# plot xticks in angle\n",
    "plt.xticks(rotation = 0)\n",
    "plt.title(\"Number of samples in each class\")\n",
    "plt.show()"
   ]
  },
  {
   "cell_type": "markdown",
   "metadata": {},
   "source": [
    "# Start Here"
   ]
  },
  {
   "cell_type": "code",
   "execution_count": 3,
   "metadata": {},
   "outputs": [],
   "source": [
    "import os\n",
    "from matplotlib.legend_handler import HandlerLine2D\n",
    "import random\n",
    "from sklearn.model_selection import train_test_split\n",
    "from sklearn.linear_model import LogisticRegression\n",
    "from sklearn.ensemble import GradientBoostingClassifier\n",
    "from sklearn.ensemble import HistGradientBoostingClassifier\n",
    "from sklearn.decomposition import PCA\n",
    "from sklearn import datasets, metrics, model_selection, svm\n",
    "from sklearn.datasets import make_classification\n",
    "from sklearn.metrics import RocCurveDisplay\n",
    "from sklearn.inspection import permutation_importance\n",
    "from sklearn.metrics import confusion_matrix, ConfusionMatrixDisplay\n",
    "import pickle as pk"
   ]
  },
  {
   "cell_type": "code",
   "execution_count": 4,
   "metadata": {},
   "outputs": [],
   "source": [
    "df_ptbd_normal = pd.read_csv(\"ecg_dataset/ptbdb_normal.csv\", header = None)\n",
    "df_ptbd_abnormal = pd.read_csv(\"ecg_dataset/ptbdb_abnormal.csv\", header = None)"
   ]
  },
  {
   "cell_type": "code",
   "execution_count": 5,
   "metadata": {},
   "outputs": [
    {
     "data": {
      "text/plain": [
       "(14552, 188)"
      ]
     },
     "execution_count": 5,
     "metadata": {},
     "output_type": "execute_result"
    }
   ],
   "source": [
    "df_ptbd.shape"
   ]
  },
  {
   "cell_type": "code",
   "execution_count": 6,
   "metadata": {},
   "outputs": [
    {
     "data": {
      "text/html": [
       "<div>\n",
       "<style scoped>\n",
       "    .dataframe tbody tr th:only-of-type {\n",
       "        vertical-align: middle;\n",
       "    }\n",
       "\n",
       "    .dataframe tbody tr th {\n",
       "        vertical-align: top;\n",
       "    }\n",
       "\n",
       "    .dataframe thead th {\n",
       "        text-align: right;\n",
       "    }\n",
       "</style>\n",
       "<table border=\"1\" class=\"dataframe\">\n",
       "  <thead>\n",
       "    <tr style=\"text-align: right;\">\n",
       "      <th></th>\n",
       "      <th>0</th>\n",
       "      <th>1</th>\n",
       "      <th>2</th>\n",
       "      <th>3</th>\n",
       "      <th>4</th>\n",
       "      <th>5</th>\n",
       "      <th>6</th>\n",
       "      <th>7</th>\n",
       "      <th>8</th>\n",
       "      <th>9</th>\n",
       "      <th>...</th>\n",
       "      <th>178</th>\n",
       "      <th>179</th>\n",
       "      <th>180</th>\n",
       "      <th>181</th>\n",
       "      <th>182</th>\n",
       "      <th>183</th>\n",
       "      <th>184</th>\n",
       "      <th>185</th>\n",
       "      <th>186</th>\n",
       "      <th>187</th>\n",
       "    </tr>\n",
       "  </thead>\n",
       "  <tbody>\n",
       "    <tr>\n",
       "      <th>0</th>\n",
       "      <td>1.000000</td>\n",
       "      <td>0.900324</td>\n",
       "      <td>0.358590</td>\n",
       "      <td>0.051459</td>\n",
       "      <td>0.046596</td>\n",
       "      <td>0.126823</td>\n",
       "      <td>0.133306</td>\n",
       "      <td>0.119125</td>\n",
       "      <td>0.110616</td>\n",
       "      <td>0.113047</td>\n",
       "      <td>...</td>\n",
       "      <td>0.0</td>\n",
       "      <td>0.0</td>\n",
       "      <td>0.0</td>\n",
       "      <td>0.0</td>\n",
       "      <td>0.0</td>\n",
       "      <td>0.0</td>\n",
       "      <td>0.0</td>\n",
       "      <td>0.0</td>\n",
       "      <td>0.0</td>\n",
       "      <td>0.0</td>\n",
       "    </tr>\n",
       "    <tr>\n",
       "      <th>1</th>\n",
       "      <td>1.000000</td>\n",
       "      <td>0.794681</td>\n",
       "      <td>0.375387</td>\n",
       "      <td>0.116883</td>\n",
       "      <td>0.000000</td>\n",
       "      <td>0.171923</td>\n",
       "      <td>0.283859</td>\n",
       "      <td>0.293754</td>\n",
       "      <td>0.325912</td>\n",
       "      <td>0.345083</td>\n",
       "      <td>...</td>\n",
       "      <td>0.0</td>\n",
       "      <td>0.0</td>\n",
       "      <td>0.0</td>\n",
       "      <td>0.0</td>\n",
       "      <td>0.0</td>\n",
       "      <td>0.0</td>\n",
       "      <td>0.0</td>\n",
       "      <td>0.0</td>\n",
       "      <td>0.0</td>\n",
       "      <td>0.0</td>\n",
       "    </tr>\n",
       "    <tr>\n",
       "      <th>2</th>\n",
       "      <td>0.909029</td>\n",
       "      <td>0.791482</td>\n",
       "      <td>0.423169</td>\n",
       "      <td>0.186712</td>\n",
       "      <td>0.000000</td>\n",
       "      <td>0.007836</td>\n",
       "      <td>0.063032</td>\n",
       "      <td>0.077002</td>\n",
       "      <td>0.074957</td>\n",
       "      <td>0.077342</td>\n",
       "      <td>...</td>\n",
       "      <td>0.0</td>\n",
       "      <td>0.0</td>\n",
       "      <td>0.0</td>\n",
       "      <td>0.0</td>\n",
       "      <td>0.0</td>\n",
       "      <td>0.0</td>\n",
       "      <td>0.0</td>\n",
       "      <td>0.0</td>\n",
       "      <td>0.0</td>\n",
       "      <td>0.0</td>\n",
       "    </tr>\n",
       "    <tr>\n",
       "      <th>3</th>\n",
       "      <td>1.000000</td>\n",
       "      <td>0.478893</td>\n",
       "      <td>0.056760</td>\n",
       "      <td>0.064176</td>\n",
       "      <td>0.081289</td>\n",
       "      <td>0.072732</td>\n",
       "      <td>0.055619</td>\n",
       "      <td>0.048774</td>\n",
       "      <td>0.054478</td>\n",
       "      <td>0.041643</td>\n",
       "      <td>...</td>\n",
       "      <td>0.0</td>\n",
       "      <td>0.0</td>\n",
       "      <td>0.0</td>\n",
       "      <td>0.0</td>\n",
       "      <td>0.0</td>\n",
       "      <td>0.0</td>\n",
       "      <td>0.0</td>\n",
       "      <td>0.0</td>\n",
       "      <td>0.0</td>\n",
       "      <td>0.0</td>\n",
       "    </tr>\n",
       "    <tr>\n",
       "      <th>4</th>\n",
       "      <td>1.000000</td>\n",
       "      <td>0.867238</td>\n",
       "      <td>0.201360</td>\n",
       "      <td>0.099349</td>\n",
       "      <td>0.141336</td>\n",
       "      <td>0.120934</td>\n",
       "      <td>0.108516</td>\n",
       "      <td>0.096393</td>\n",
       "      <td>0.093436</td>\n",
       "      <td>0.100828</td>\n",
       "      <td>...</td>\n",
       "      <td>0.0</td>\n",
       "      <td>0.0</td>\n",
       "      <td>0.0</td>\n",
       "      <td>0.0</td>\n",
       "      <td>0.0</td>\n",
       "      <td>0.0</td>\n",
       "      <td>0.0</td>\n",
       "      <td>0.0</td>\n",
       "      <td>0.0</td>\n",
       "      <td>0.0</td>\n",
       "    </tr>\n",
       "    <tr>\n",
       "      <th>...</th>\n",
       "      <td>...</td>\n",
       "      <td>...</td>\n",
       "      <td>...</td>\n",
       "      <td>...</td>\n",
       "      <td>...</td>\n",
       "      <td>...</td>\n",
       "      <td>...</td>\n",
       "      <td>...</td>\n",
       "      <td>...</td>\n",
       "      <td>...</td>\n",
       "      <td>...</td>\n",
       "      <td>...</td>\n",
       "      <td>...</td>\n",
       "      <td>...</td>\n",
       "      <td>...</td>\n",
       "      <td>...</td>\n",
       "      <td>...</td>\n",
       "      <td>...</td>\n",
       "      <td>...</td>\n",
       "      <td>...</td>\n",
       "      <td>...</td>\n",
       "    </tr>\n",
       "    <tr>\n",
       "      <th>4041</th>\n",
       "      <td>1.000000</td>\n",
       "      <td>0.929586</td>\n",
       "      <td>0.503550</td>\n",
       "      <td>0.293491</td>\n",
       "      <td>0.169822</td>\n",
       "      <td>0.159763</td>\n",
       "      <td>0.130769</td>\n",
       "      <td>0.125444</td>\n",
       "      <td>0.137278</td>\n",
       "      <td>0.111243</td>\n",
       "      <td>...</td>\n",
       "      <td>0.0</td>\n",
       "      <td>0.0</td>\n",
       "      <td>0.0</td>\n",
       "      <td>0.0</td>\n",
       "      <td>0.0</td>\n",
       "      <td>0.0</td>\n",
       "      <td>0.0</td>\n",
       "      <td>0.0</td>\n",
       "      <td>0.0</td>\n",
       "      <td>0.0</td>\n",
       "    </tr>\n",
       "    <tr>\n",
       "      <th>4042</th>\n",
       "      <td>1.000000</td>\n",
       "      <td>0.637579</td>\n",
       "      <td>0.154837</td>\n",
       "      <td>0.061983</td>\n",
       "      <td>0.088965</td>\n",
       "      <td>0.083374</td>\n",
       "      <td>0.065143</td>\n",
       "      <td>0.057365</td>\n",
       "      <td>0.060039</td>\n",
       "      <td>0.060039</td>\n",
       "      <td>...</td>\n",
       "      <td>0.0</td>\n",
       "      <td>0.0</td>\n",
       "      <td>0.0</td>\n",
       "      <td>0.0</td>\n",
       "      <td>0.0</td>\n",
       "      <td>0.0</td>\n",
       "      <td>0.0</td>\n",
       "      <td>0.0</td>\n",
       "      <td>0.0</td>\n",
       "      <td>0.0</td>\n",
       "    </tr>\n",
       "    <tr>\n",
       "      <th>4043</th>\n",
       "      <td>1.000000</td>\n",
       "      <td>0.872574</td>\n",
       "      <td>0.465071</td>\n",
       "      <td>0.232212</td>\n",
       "      <td>0.126132</td>\n",
       "      <td>0.155886</td>\n",
       "      <td>0.174644</td>\n",
       "      <td>0.190168</td>\n",
       "      <td>0.203752</td>\n",
       "      <td>0.168823</td>\n",
       "      <td>...</td>\n",
       "      <td>0.0</td>\n",
       "      <td>0.0</td>\n",
       "      <td>0.0</td>\n",
       "      <td>0.0</td>\n",
       "      <td>0.0</td>\n",
       "      <td>0.0</td>\n",
       "      <td>0.0</td>\n",
       "      <td>0.0</td>\n",
       "      <td>0.0</td>\n",
       "      <td>0.0</td>\n",
       "    </tr>\n",
       "    <tr>\n",
       "      <th>4044</th>\n",
       "      <td>0.915983</td>\n",
       "      <td>0.529373</td>\n",
       "      <td>0.288406</td>\n",
       "      <td>0.144536</td>\n",
       "      <td>0.171802</td>\n",
       "      <td>0.180669</td>\n",
       "      <td>0.177566</td>\n",
       "      <td>0.176458</td>\n",
       "      <td>0.178896</td>\n",
       "      <td>0.180448</td>\n",
       "      <td>...</td>\n",
       "      <td>0.0</td>\n",
       "      <td>0.0</td>\n",
       "      <td>0.0</td>\n",
       "      <td>0.0</td>\n",
       "      <td>0.0</td>\n",
       "      <td>0.0</td>\n",
       "      <td>0.0</td>\n",
       "      <td>0.0</td>\n",
       "      <td>0.0</td>\n",
       "      <td>0.0</td>\n",
       "    </tr>\n",
       "    <tr>\n",
       "      <th>4045</th>\n",
       "      <td>1.000000</td>\n",
       "      <td>0.838643</td>\n",
       "      <td>0.390567</td>\n",
       "      <td>0.191146</td>\n",
       "      <td>0.033513</td>\n",
       "      <td>0.055854</td>\n",
       "      <td>0.129086</td>\n",
       "      <td>0.147290</td>\n",
       "      <td>0.155151</td>\n",
       "      <td>0.165494</td>\n",
       "      <td>...</td>\n",
       "      <td>0.0</td>\n",
       "      <td>0.0</td>\n",
       "      <td>0.0</td>\n",
       "      <td>0.0</td>\n",
       "      <td>0.0</td>\n",
       "      <td>0.0</td>\n",
       "      <td>0.0</td>\n",
       "      <td>0.0</td>\n",
       "      <td>0.0</td>\n",
       "      <td>0.0</td>\n",
       "    </tr>\n",
       "  </tbody>\n",
       "</table>\n",
       "<p>4046 rows × 188 columns</p>\n",
       "</div>"
      ],
      "text/plain": [
       "           0         1         2         3         4         5         6    \\\n",
       "0     1.000000  0.900324  0.358590  0.051459  0.046596  0.126823  0.133306   \n",
       "1     1.000000  0.794681  0.375387  0.116883  0.000000  0.171923  0.283859   \n",
       "2     0.909029  0.791482  0.423169  0.186712  0.000000  0.007836  0.063032   \n",
       "3     1.000000  0.478893  0.056760  0.064176  0.081289  0.072732  0.055619   \n",
       "4     1.000000  0.867238  0.201360  0.099349  0.141336  0.120934  0.108516   \n",
       "...        ...       ...       ...       ...       ...       ...       ...   \n",
       "4041  1.000000  0.929586  0.503550  0.293491  0.169822  0.159763  0.130769   \n",
       "4042  1.000000  0.637579  0.154837  0.061983  0.088965  0.083374  0.065143   \n",
       "4043  1.000000  0.872574  0.465071  0.232212  0.126132  0.155886  0.174644   \n",
       "4044  0.915983  0.529373  0.288406  0.144536  0.171802  0.180669  0.177566   \n",
       "4045  1.000000  0.838643  0.390567  0.191146  0.033513  0.055854  0.129086   \n",
       "\n",
       "           7         8         9    ...  178  179  180  181  182  183  184  \\\n",
       "0     0.119125  0.110616  0.113047  ...  0.0  0.0  0.0  0.0  0.0  0.0  0.0   \n",
       "1     0.293754  0.325912  0.345083  ...  0.0  0.0  0.0  0.0  0.0  0.0  0.0   \n",
       "2     0.077002  0.074957  0.077342  ...  0.0  0.0  0.0  0.0  0.0  0.0  0.0   \n",
       "3     0.048774  0.054478  0.041643  ...  0.0  0.0  0.0  0.0  0.0  0.0  0.0   \n",
       "4     0.096393  0.093436  0.100828  ...  0.0  0.0  0.0  0.0  0.0  0.0  0.0   \n",
       "...        ...       ...       ...  ...  ...  ...  ...  ...  ...  ...  ...   \n",
       "4041  0.125444  0.137278  0.111243  ...  0.0  0.0  0.0  0.0  0.0  0.0  0.0   \n",
       "4042  0.057365  0.060039  0.060039  ...  0.0  0.0  0.0  0.0  0.0  0.0  0.0   \n",
       "4043  0.190168  0.203752  0.168823  ...  0.0  0.0  0.0  0.0  0.0  0.0  0.0   \n",
       "4044  0.176458  0.178896  0.180448  ...  0.0  0.0  0.0  0.0  0.0  0.0  0.0   \n",
       "4045  0.147290  0.155151  0.165494  ...  0.0  0.0  0.0  0.0  0.0  0.0  0.0   \n",
       "\n",
       "      185  186  187  \n",
       "0     0.0  0.0  0.0  \n",
       "1     0.0  0.0  0.0  \n",
       "2     0.0  0.0  0.0  \n",
       "3     0.0  0.0  0.0  \n",
       "4     0.0  0.0  0.0  \n",
       "...   ...  ...  ...  \n",
       "4041  0.0  0.0  0.0  \n",
       "4042  0.0  0.0  0.0  \n",
       "4043  0.0  0.0  0.0  \n",
       "4044  0.0  0.0  0.0  \n",
       "4045  0.0  0.0  0.0  \n",
       "\n",
       "[4046 rows x 188 columns]"
      ]
     },
     "execution_count": 6,
     "metadata": {},
     "output_type": "execute_result"
    }
   ],
   "source": [
    "df_ptbd_normal"
   ]
  },
  {
   "cell_type": "code",
   "execution_count": 7,
   "metadata": {},
   "outputs": [
    {
     "data": {
      "text/html": [
       "<div>\n",
       "<style scoped>\n",
       "    .dataframe tbody tr th:only-of-type {\n",
       "        vertical-align: middle;\n",
       "    }\n",
       "\n",
       "    .dataframe tbody tr th {\n",
       "        vertical-align: top;\n",
       "    }\n",
       "\n",
       "    .dataframe thead th {\n",
       "        text-align: right;\n",
       "    }\n",
       "</style>\n",
       "<table border=\"1\" class=\"dataframe\">\n",
       "  <thead>\n",
       "    <tr style=\"text-align: right;\">\n",
       "      <th></th>\n",
       "      <th>0</th>\n",
       "      <th>1</th>\n",
       "      <th>2</th>\n",
       "      <th>3</th>\n",
       "      <th>4</th>\n",
       "      <th>5</th>\n",
       "      <th>6</th>\n",
       "      <th>7</th>\n",
       "      <th>8</th>\n",
       "      <th>9</th>\n",
       "      <th>...</th>\n",
       "      <th>178</th>\n",
       "      <th>179</th>\n",
       "      <th>180</th>\n",
       "      <th>181</th>\n",
       "      <th>182</th>\n",
       "      <th>183</th>\n",
       "      <th>184</th>\n",
       "      <th>185</th>\n",
       "      <th>186</th>\n",
       "      <th>187</th>\n",
       "    </tr>\n",
       "  </thead>\n",
       "  <tbody>\n",
       "    <tr>\n",
       "      <th>0</th>\n",
       "      <td>0.932233</td>\n",
       "      <td>0.869679</td>\n",
       "      <td>0.886186</td>\n",
       "      <td>0.929626</td>\n",
       "      <td>0.908775</td>\n",
       "      <td>0.933970</td>\n",
       "      <td>0.801043</td>\n",
       "      <td>0.749783</td>\n",
       "      <td>0.687229</td>\n",
       "      <td>0.635100</td>\n",
       "      <td>...</td>\n",
       "      <td>0.0</td>\n",
       "      <td>0.0</td>\n",
       "      <td>0.0</td>\n",
       "      <td>0.0</td>\n",
       "      <td>0.0</td>\n",
       "      <td>0.0</td>\n",
       "      <td>0.0</td>\n",
       "      <td>0.0</td>\n",
       "      <td>0.0</td>\n",
       "      <td>1.0</td>\n",
       "    </tr>\n",
       "    <tr>\n",
       "      <th>1</th>\n",
       "      <td>1.000000</td>\n",
       "      <td>0.606941</td>\n",
       "      <td>0.384181</td>\n",
       "      <td>0.254237</td>\n",
       "      <td>0.223567</td>\n",
       "      <td>0.276836</td>\n",
       "      <td>0.253430</td>\n",
       "      <td>0.184826</td>\n",
       "      <td>0.153349</td>\n",
       "      <td>0.121872</td>\n",
       "      <td>...</td>\n",
       "      <td>0.0</td>\n",
       "      <td>0.0</td>\n",
       "      <td>0.0</td>\n",
       "      <td>0.0</td>\n",
       "      <td>0.0</td>\n",
       "      <td>0.0</td>\n",
       "      <td>0.0</td>\n",
       "      <td>0.0</td>\n",
       "      <td>0.0</td>\n",
       "      <td>1.0</td>\n",
       "    </tr>\n",
       "    <tr>\n",
       "      <th>2</th>\n",
       "      <td>1.000000</td>\n",
       "      <td>0.951613</td>\n",
       "      <td>0.923963</td>\n",
       "      <td>0.853303</td>\n",
       "      <td>0.791859</td>\n",
       "      <td>0.734255</td>\n",
       "      <td>0.672043</td>\n",
       "      <td>0.685100</td>\n",
       "      <td>0.670507</td>\n",
       "      <td>0.667435</td>\n",
       "      <td>...</td>\n",
       "      <td>0.0</td>\n",
       "      <td>0.0</td>\n",
       "      <td>0.0</td>\n",
       "      <td>0.0</td>\n",
       "      <td>0.0</td>\n",
       "      <td>0.0</td>\n",
       "      <td>0.0</td>\n",
       "      <td>0.0</td>\n",
       "      <td>0.0</td>\n",
       "      <td>1.0</td>\n",
       "    </tr>\n",
       "    <tr>\n",
       "      <th>3</th>\n",
       "      <td>0.977819</td>\n",
       "      <td>0.899261</td>\n",
       "      <td>0.230129</td>\n",
       "      <td>0.032348</td>\n",
       "      <td>0.142329</td>\n",
       "      <td>0.223660</td>\n",
       "      <td>0.328096</td>\n",
       "      <td>0.367837</td>\n",
       "      <td>0.381701</td>\n",
       "      <td>0.389094</td>\n",
       "      <td>...</td>\n",
       "      <td>0.0</td>\n",
       "      <td>0.0</td>\n",
       "      <td>0.0</td>\n",
       "      <td>0.0</td>\n",
       "      <td>0.0</td>\n",
       "      <td>0.0</td>\n",
       "      <td>0.0</td>\n",
       "      <td>0.0</td>\n",
       "      <td>0.0</td>\n",
       "      <td>1.0</td>\n",
       "    </tr>\n",
       "    <tr>\n",
       "      <th>4</th>\n",
       "      <td>0.935618</td>\n",
       "      <td>0.801661</td>\n",
       "      <td>0.805815</td>\n",
       "      <td>1.000000</td>\n",
       "      <td>0.722741</td>\n",
       "      <td>0.480789</td>\n",
       "      <td>0.454829</td>\n",
       "      <td>0.319834</td>\n",
       "      <td>0.266874</td>\n",
       "      <td>0.308411</td>\n",
       "      <td>...</td>\n",
       "      <td>0.0</td>\n",
       "      <td>0.0</td>\n",
       "      <td>0.0</td>\n",
       "      <td>0.0</td>\n",
       "      <td>0.0</td>\n",
       "      <td>0.0</td>\n",
       "      <td>0.0</td>\n",
       "      <td>0.0</td>\n",
       "      <td>0.0</td>\n",
       "      <td>1.0</td>\n",
       "    </tr>\n",
       "    <tr>\n",
       "      <th>...</th>\n",
       "      <td>...</td>\n",
       "      <td>...</td>\n",
       "      <td>...</td>\n",
       "      <td>...</td>\n",
       "      <td>...</td>\n",
       "      <td>...</td>\n",
       "      <td>...</td>\n",
       "      <td>...</td>\n",
       "      <td>...</td>\n",
       "      <td>...</td>\n",
       "      <td>...</td>\n",
       "      <td>...</td>\n",
       "      <td>...</td>\n",
       "      <td>...</td>\n",
       "      <td>...</td>\n",
       "      <td>...</td>\n",
       "      <td>...</td>\n",
       "      <td>...</td>\n",
       "      <td>...</td>\n",
       "      <td>...</td>\n",
       "      <td>...</td>\n",
       "    </tr>\n",
       "    <tr>\n",
       "      <th>10501</th>\n",
       "      <td>0.981409</td>\n",
       "      <td>1.000000</td>\n",
       "      <td>0.559171</td>\n",
       "      <td>0.287093</td>\n",
       "      <td>0.196639</td>\n",
       "      <td>0.204862</td>\n",
       "      <td>0.215946</td>\n",
       "      <td>0.243833</td>\n",
       "      <td>0.242760</td>\n",
       "      <td>0.250268</td>\n",
       "      <td>...</td>\n",
       "      <td>0.0</td>\n",
       "      <td>0.0</td>\n",
       "      <td>0.0</td>\n",
       "      <td>0.0</td>\n",
       "      <td>0.0</td>\n",
       "      <td>0.0</td>\n",
       "      <td>0.0</td>\n",
       "      <td>0.0</td>\n",
       "      <td>0.0</td>\n",
       "      <td>1.0</td>\n",
       "    </tr>\n",
       "    <tr>\n",
       "      <th>10502</th>\n",
       "      <td>0.906250</td>\n",
       "      <td>0.922379</td>\n",
       "      <td>0.878024</td>\n",
       "      <td>0.810484</td>\n",
       "      <td>0.712702</td>\n",
       "      <td>0.667339</td>\n",
       "      <td>0.608871</td>\n",
       "      <td>0.527218</td>\n",
       "      <td>0.480847</td>\n",
       "      <td>0.442540</td>\n",
       "      <td>...</td>\n",
       "      <td>0.0</td>\n",
       "      <td>0.0</td>\n",
       "      <td>0.0</td>\n",
       "      <td>0.0</td>\n",
       "      <td>0.0</td>\n",
       "      <td>0.0</td>\n",
       "      <td>0.0</td>\n",
       "      <td>0.0</td>\n",
       "      <td>0.0</td>\n",
       "      <td>1.0</td>\n",
       "    </tr>\n",
       "    <tr>\n",
       "      <th>10503</th>\n",
       "      <td>1.000000</td>\n",
       "      <td>0.867971</td>\n",
       "      <td>0.674122</td>\n",
       "      <td>0.470332</td>\n",
       "      <td>0.296987</td>\n",
       "      <td>0.169307</td>\n",
       "      <td>0.077664</td>\n",
       "      <td>0.081392</td>\n",
       "      <td>0.074868</td>\n",
       "      <td>0.089779</td>\n",
       "      <td>...</td>\n",
       "      <td>0.0</td>\n",
       "      <td>0.0</td>\n",
       "      <td>0.0</td>\n",
       "      <td>0.0</td>\n",
       "      <td>0.0</td>\n",
       "      <td>0.0</td>\n",
       "      <td>0.0</td>\n",
       "      <td>0.0</td>\n",
       "      <td>0.0</td>\n",
       "      <td>1.0</td>\n",
       "    </tr>\n",
       "    <tr>\n",
       "      <th>10504</th>\n",
       "      <td>1.000000</td>\n",
       "      <td>0.984672</td>\n",
       "      <td>0.658888</td>\n",
       "      <td>0.556394</td>\n",
       "      <td>0.446809</td>\n",
       "      <td>0.395790</td>\n",
       "      <td>0.315260</td>\n",
       "      <td>0.276367</td>\n",
       "      <td>0.261039</td>\n",
       "      <td>0.258522</td>\n",
       "      <td>...</td>\n",
       "      <td>0.0</td>\n",
       "      <td>0.0</td>\n",
       "      <td>0.0</td>\n",
       "      <td>0.0</td>\n",
       "      <td>0.0</td>\n",
       "      <td>0.0</td>\n",
       "      <td>0.0</td>\n",
       "      <td>0.0</td>\n",
       "      <td>0.0</td>\n",
       "      <td>1.0</td>\n",
       "    </tr>\n",
       "    <tr>\n",
       "      <th>10505</th>\n",
       "      <td>0.997886</td>\n",
       "      <td>0.700317</td>\n",
       "      <td>0.464059</td>\n",
       "      <td>0.318182</td>\n",
       "      <td>0.233615</td>\n",
       "      <td>0.184989</td>\n",
       "      <td>0.124207</td>\n",
       "      <td>0.082981</td>\n",
       "      <td>0.087738</td>\n",
       "      <td>0.063953</td>\n",
       "      <td>...</td>\n",
       "      <td>0.0</td>\n",
       "      <td>0.0</td>\n",
       "      <td>0.0</td>\n",
       "      <td>0.0</td>\n",
       "      <td>0.0</td>\n",
       "      <td>0.0</td>\n",
       "      <td>0.0</td>\n",
       "      <td>0.0</td>\n",
       "      <td>0.0</td>\n",
       "      <td>1.0</td>\n",
       "    </tr>\n",
       "  </tbody>\n",
       "</table>\n",
       "<p>10506 rows × 188 columns</p>\n",
       "</div>"
      ],
      "text/plain": [
       "            0         1         2         3         4         5         6    \\\n",
       "0      0.932233  0.869679  0.886186  0.929626  0.908775  0.933970  0.801043   \n",
       "1      1.000000  0.606941  0.384181  0.254237  0.223567  0.276836  0.253430   \n",
       "2      1.000000  0.951613  0.923963  0.853303  0.791859  0.734255  0.672043   \n",
       "3      0.977819  0.899261  0.230129  0.032348  0.142329  0.223660  0.328096   \n",
       "4      0.935618  0.801661  0.805815  1.000000  0.722741  0.480789  0.454829   \n",
       "...         ...       ...       ...       ...       ...       ...       ...   \n",
       "10501  0.981409  1.000000  0.559171  0.287093  0.196639  0.204862  0.215946   \n",
       "10502  0.906250  0.922379  0.878024  0.810484  0.712702  0.667339  0.608871   \n",
       "10503  1.000000  0.867971  0.674122  0.470332  0.296987  0.169307  0.077664   \n",
       "10504  1.000000  0.984672  0.658888  0.556394  0.446809  0.395790  0.315260   \n",
       "10505  0.997886  0.700317  0.464059  0.318182  0.233615  0.184989  0.124207   \n",
       "\n",
       "            7         8         9    ...  178  179  180  181  182  183  184  \\\n",
       "0      0.749783  0.687229  0.635100  ...  0.0  0.0  0.0  0.0  0.0  0.0  0.0   \n",
       "1      0.184826  0.153349  0.121872  ...  0.0  0.0  0.0  0.0  0.0  0.0  0.0   \n",
       "2      0.685100  0.670507  0.667435  ...  0.0  0.0  0.0  0.0  0.0  0.0  0.0   \n",
       "3      0.367837  0.381701  0.389094  ...  0.0  0.0  0.0  0.0  0.0  0.0  0.0   \n",
       "4      0.319834  0.266874  0.308411  ...  0.0  0.0  0.0  0.0  0.0  0.0  0.0   \n",
       "...         ...       ...       ...  ...  ...  ...  ...  ...  ...  ...  ...   \n",
       "10501  0.243833  0.242760  0.250268  ...  0.0  0.0  0.0  0.0  0.0  0.0  0.0   \n",
       "10502  0.527218  0.480847  0.442540  ...  0.0  0.0  0.0  0.0  0.0  0.0  0.0   \n",
       "10503  0.081392  0.074868  0.089779  ...  0.0  0.0  0.0  0.0  0.0  0.0  0.0   \n",
       "10504  0.276367  0.261039  0.258522  ...  0.0  0.0  0.0  0.0  0.0  0.0  0.0   \n",
       "10505  0.082981  0.087738  0.063953  ...  0.0  0.0  0.0  0.0  0.0  0.0  0.0   \n",
       "\n",
       "       185  186  187  \n",
       "0      0.0  0.0  1.0  \n",
       "1      0.0  0.0  1.0  \n",
       "2      0.0  0.0  1.0  \n",
       "3      0.0  0.0  1.0  \n",
       "4      0.0  0.0  1.0  \n",
       "...    ...  ...  ...  \n",
       "10501  0.0  0.0  1.0  \n",
       "10502  0.0  0.0  1.0  \n",
       "10503  0.0  0.0  1.0  \n",
       "10504  0.0  0.0  1.0  \n",
       "10505  0.0  0.0  1.0  \n",
       "\n",
       "[10506 rows x 188 columns]"
      ]
     },
     "execution_count": 7,
     "metadata": {},
     "output_type": "execute_result"
    }
   ],
   "source": [
    "df_ptbd_abnormal"
   ]
  },
  {
   "cell_type": "code",
   "execution_count": 8,
   "metadata": {},
   "outputs": [
    {
     "name": "stdout",
     "output_type": "stream",
     "text": [
      "The last time value is :  1488.0\n"
     ]
    }
   ],
   "source": [
    "# the last column is the label/class\n",
    "num_cols = df_ptbd_normal.shape[1] - 1 \n",
    "# the signal was resampled at frequency of 125Hz as the input\n",
    "# compute the time vector\n",
    "time = np.arange(0, num_cols) / 125\n",
    "# convert to milliseconds\n",
    "time = time * 1000\n",
    "# print last time value\n",
    "print(\"The last time value is : \", time[-1])\n",
    "\n",
    "# for the first \"num_cols\" and the time steps as column names\n",
    "df_ptbd_normal.columns = list(time) + [\"label\"]\n",
    "df_ptbd_abnormal.columns = list(time) + [\"label\"]"
   ]
  },
  {
   "cell_type": "code",
   "execution_count": 9,
   "metadata": {},
   "outputs": [
    {
     "data": {
      "text/html": [
       "<div>\n",
       "<style scoped>\n",
       "    .dataframe tbody tr th:only-of-type {\n",
       "        vertical-align: middle;\n",
       "    }\n",
       "\n",
       "    .dataframe tbody tr th {\n",
       "        vertical-align: top;\n",
       "    }\n",
       "\n",
       "    .dataframe thead th {\n",
       "        text-align: right;\n",
       "    }\n",
       "</style>\n",
       "<table border=\"1\" class=\"dataframe\">\n",
       "  <thead>\n",
       "    <tr style=\"text-align: right;\">\n",
       "      <th></th>\n",
       "      <th>label</th>\n",
       "    </tr>\n",
       "  </thead>\n",
       "  <tbody>\n",
       "    <tr>\n",
       "      <th>0</th>\n",
       "      <td>0.0</td>\n",
       "    </tr>\n",
       "    <tr>\n",
       "      <th>1</th>\n",
       "      <td>0.0</td>\n",
       "    </tr>\n",
       "    <tr>\n",
       "      <th>2</th>\n",
       "      <td>0.0</td>\n",
       "    </tr>\n",
       "    <tr>\n",
       "      <th>3</th>\n",
       "      <td>0.0</td>\n",
       "    </tr>\n",
       "    <tr>\n",
       "      <th>4</th>\n",
       "      <td>0.0</td>\n",
       "    </tr>\n",
       "    <tr>\n",
       "      <th>...</th>\n",
       "      <td>...</td>\n",
       "    </tr>\n",
       "    <tr>\n",
       "      <th>4041</th>\n",
       "      <td>0.0</td>\n",
       "    </tr>\n",
       "    <tr>\n",
       "      <th>4042</th>\n",
       "      <td>0.0</td>\n",
       "    </tr>\n",
       "    <tr>\n",
       "      <th>4043</th>\n",
       "      <td>0.0</td>\n",
       "    </tr>\n",
       "    <tr>\n",
       "      <th>4044</th>\n",
       "      <td>0.0</td>\n",
       "    </tr>\n",
       "    <tr>\n",
       "      <th>4045</th>\n",
       "      <td>0.0</td>\n",
       "    </tr>\n",
       "  </tbody>\n",
       "</table>\n",
       "<p>4046 rows × 1 columns</p>\n",
       "</div>"
      ],
      "text/plain": [
       "      label\n",
       "0       0.0\n",
       "1       0.0\n",
       "2       0.0\n",
       "3       0.0\n",
       "4       0.0\n",
       "...     ...\n",
       "4041    0.0\n",
       "4042    0.0\n",
       "4043    0.0\n",
       "4044    0.0\n",
       "4045    0.0\n",
       "\n",
       "[4046 rows x 1 columns]"
      ]
     },
     "execution_count": 9,
     "metadata": {},
     "output_type": "execute_result"
    }
   ],
   "source": [
    "df1L= df_ptbd_normal.iloc[:,-1:]\n",
    "df1L"
   ]
  },
  {
   "cell_type": "code",
   "execution_count": 10,
   "metadata": {},
   "outputs": [
    {
     "data": {
      "text/html": [
       "<div>\n",
       "<style scoped>\n",
       "    .dataframe tbody tr th:only-of-type {\n",
       "        vertical-align: middle;\n",
       "    }\n",
       "\n",
       "    .dataframe tbody tr th {\n",
       "        vertical-align: top;\n",
       "    }\n",
       "\n",
       "    .dataframe thead th {\n",
       "        text-align: right;\n",
       "    }\n",
       "</style>\n",
       "<table border=\"1\" class=\"dataframe\">\n",
       "  <thead>\n",
       "    <tr style=\"text-align: right;\">\n",
       "      <th></th>\n",
       "      <th>label</th>\n",
       "    </tr>\n",
       "  </thead>\n",
       "  <tbody>\n",
       "    <tr>\n",
       "      <th>0</th>\n",
       "      <td>1.0</td>\n",
       "    </tr>\n",
       "    <tr>\n",
       "      <th>1</th>\n",
       "      <td>1.0</td>\n",
       "    </tr>\n",
       "    <tr>\n",
       "      <th>2</th>\n",
       "      <td>1.0</td>\n",
       "    </tr>\n",
       "    <tr>\n",
       "      <th>3</th>\n",
       "      <td>1.0</td>\n",
       "    </tr>\n",
       "    <tr>\n",
       "      <th>4</th>\n",
       "      <td>1.0</td>\n",
       "    </tr>\n",
       "    <tr>\n",
       "      <th>...</th>\n",
       "      <td>...</td>\n",
       "    </tr>\n",
       "    <tr>\n",
       "      <th>10501</th>\n",
       "      <td>1.0</td>\n",
       "    </tr>\n",
       "    <tr>\n",
       "      <th>10502</th>\n",
       "      <td>1.0</td>\n",
       "    </tr>\n",
       "    <tr>\n",
       "      <th>10503</th>\n",
       "      <td>1.0</td>\n",
       "    </tr>\n",
       "    <tr>\n",
       "      <th>10504</th>\n",
       "      <td>1.0</td>\n",
       "    </tr>\n",
       "    <tr>\n",
       "      <th>10505</th>\n",
       "      <td>1.0</td>\n",
       "    </tr>\n",
       "  </tbody>\n",
       "</table>\n",
       "<p>10506 rows × 1 columns</p>\n",
       "</div>"
      ],
      "text/plain": [
       "       label\n",
       "0        1.0\n",
       "1        1.0\n",
       "2        1.0\n",
       "3        1.0\n",
       "4        1.0\n",
       "...      ...\n",
       "10501    1.0\n",
       "10502    1.0\n",
       "10503    1.0\n",
       "10504    1.0\n",
       "10505    1.0\n",
       "\n",
       "[10506 rows x 1 columns]"
      ]
     },
     "execution_count": 10,
     "metadata": {},
     "output_type": "execute_result"
    }
   ],
   "source": [
    "df2L = df_ptbd_abnormal.iloc[:,-1:]\n",
    "df2L"
   ]
  },
  {
   "cell_type": "code",
   "execution_count": 11,
   "metadata": {},
   "outputs": [
    {
     "data": {
      "text/html": [
       "<div>\n",
       "<style scoped>\n",
       "    .dataframe tbody tr th:only-of-type {\n",
       "        vertical-align: middle;\n",
       "    }\n",
       "\n",
       "    .dataframe tbody tr th {\n",
       "        vertical-align: top;\n",
       "    }\n",
       "\n",
       "    .dataframe thead th {\n",
       "        text-align: right;\n",
       "    }\n",
       "</style>\n",
       "<table border=\"1\" class=\"dataframe\">\n",
       "  <thead>\n",
       "    <tr style=\"text-align: right;\">\n",
       "      <th></th>\n",
       "      <th>0.0</th>\n",
       "      <th>8.0</th>\n",
       "      <th>16.0</th>\n",
       "      <th>24.0</th>\n",
       "      <th>32.0</th>\n",
       "      <th>40.0</th>\n",
       "      <th>48.0</th>\n",
       "      <th>56.0</th>\n",
       "      <th>64.0</th>\n",
       "      <th>72.0</th>\n",
       "      <th>...</th>\n",
       "      <th>1416.0</th>\n",
       "      <th>1424.0</th>\n",
       "      <th>1432.0</th>\n",
       "      <th>1440.0</th>\n",
       "      <th>1448.0</th>\n",
       "      <th>1456.0</th>\n",
       "      <th>1464.0</th>\n",
       "      <th>1472.0</th>\n",
       "      <th>1480.0</th>\n",
       "      <th>1488.0</th>\n",
       "    </tr>\n",
       "  </thead>\n",
       "  <tbody>\n",
       "    <tr>\n",
       "      <th>0</th>\n",
       "      <td>1.000000</td>\n",
       "      <td>0.900324</td>\n",
       "      <td>0.358590</td>\n",
       "      <td>0.051459</td>\n",
       "      <td>0.046596</td>\n",
       "      <td>0.126823</td>\n",
       "      <td>0.133306</td>\n",
       "      <td>0.119125</td>\n",
       "      <td>0.110616</td>\n",
       "      <td>0.113047</td>\n",
       "      <td>...</td>\n",
       "      <td>0.0</td>\n",
       "      <td>0.0</td>\n",
       "      <td>0.0</td>\n",
       "      <td>0.0</td>\n",
       "      <td>0.0</td>\n",
       "      <td>0.0</td>\n",
       "      <td>0.0</td>\n",
       "      <td>0.0</td>\n",
       "      <td>0.0</td>\n",
       "      <td>0.0</td>\n",
       "    </tr>\n",
       "    <tr>\n",
       "      <th>1</th>\n",
       "      <td>1.000000</td>\n",
       "      <td>0.794681</td>\n",
       "      <td>0.375387</td>\n",
       "      <td>0.116883</td>\n",
       "      <td>0.000000</td>\n",
       "      <td>0.171923</td>\n",
       "      <td>0.283859</td>\n",
       "      <td>0.293754</td>\n",
       "      <td>0.325912</td>\n",
       "      <td>0.345083</td>\n",
       "      <td>...</td>\n",
       "      <td>0.0</td>\n",
       "      <td>0.0</td>\n",
       "      <td>0.0</td>\n",
       "      <td>0.0</td>\n",
       "      <td>0.0</td>\n",
       "      <td>0.0</td>\n",
       "      <td>0.0</td>\n",
       "      <td>0.0</td>\n",
       "      <td>0.0</td>\n",
       "      <td>0.0</td>\n",
       "    </tr>\n",
       "    <tr>\n",
       "      <th>2</th>\n",
       "      <td>0.909029</td>\n",
       "      <td>0.791482</td>\n",
       "      <td>0.423169</td>\n",
       "      <td>0.186712</td>\n",
       "      <td>0.000000</td>\n",
       "      <td>0.007836</td>\n",
       "      <td>0.063032</td>\n",
       "      <td>0.077002</td>\n",
       "      <td>0.074957</td>\n",
       "      <td>0.077342</td>\n",
       "      <td>...</td>\n",
       "      <td>0.0</td>\n",
       "      <td>0.0</td>\n",
       "      <td>0.0</td>\n",
       "      <td>0.0</td>\n",
       "      <td>0.0</td>\n",
       "      <td>0.0</td>\n",
       "      <td>0.0</td>\n",
       "      <td>0.0</td>\n",
       "      <td>0.0</td>\n",
       "      <td>0.0</td>\n",
       "    </tr>\n",
       "    <tr>\n",
       "      <th>3</th>\n",
       "      <td>1.000000</td>\n",
       "      <td>0.478893</td>\n",
       "      <td>0.056760</td>\n",
       "      <td>0.064176</td>\n",
       "      <td>0.081289</td>\n",
       "      <td>0.072732</td>\n",
       "      <td>0.055619</td>\n",
       "      <td>0.048774</td>\n",
       "      <td>0.054478</td>\n",
       "      <td>0.041643</td>\n",
       "      <td>...</td>\n",
       "      <td>0.0</td>\n",
       "      <td>0.0</td>\n",
       "      <td>0.0</td>\n",
       "      <td>0.0</td>\n",
       "      <td>0.0</td>\n",
       "      <td>0.0</td>\n",
       "      <td>0.0</td>\n",
       "      <td>0.0</td>\n",
       "      <td>0.0</td>\n",
       "      <td>0.0</td>\n",
       "    </tr>\n",
       "    <tr>\n",
       "      <th>4</th>\n",
       "      <td>1.000000</td>\n",
       "      <td>0.867238</td>\n",
       "      <td>0.201360</td>\n",
       "      <td>0.099349</td>\n",
       "      <td>0.141336</td>\n",
       "      <td>0.120934</td>\n",
       "      <td>0.108516</td>\n",
       "      <td>0.096393</td>\n",
       "      <td>0.093436</td>\n",
       "      <td>0.100828</td>\n",
       "      <td>...</td>\n",
       "      <td>0.0</td>\n",
       "      <td>0.0</td>\n",
       "      <td>0.0</td>\n",
       "      <td>0.0</td>\n",
       "      <td>0.0</td>\n",
       "      <td>0.0</td>\n",
       "      <td>0.0</td>\n",
       "      <td>0.0</td>\n",
       "      <td>0.0</td>\n",
       "      <td>0.0</td>\n",
       "    </tr>\n",
       "    <tr>\n",
       "      <th>...</th>\n",
       "      <td>...</td>\n",
       "      <td>...</td>\n",
       "      <td>...</td>\n",
       "      <td>...</td>\n",
       "      <td>...</td>\n",
       "      <td>...</td>\n",
       "      <td>...</td>\n",
       "      <td>...</td>\n",
       "      <td>...</td>\n",
       "      <td>...</td>\n",
       "      <td>...</td>\n",
       "      <td>...</td>\n",
       "      <td>...</td>\n",
       "      <td>...</td>\n",
       "      <td>...</td>\n",
       "      <td>...</td>\n",
       "      <td>...</td>\n",
       "      <td>...</td>\n",
       "      <td>...</td>\n",
       "      <td>...</td>\n",
       "      <td>...</td>\n",
       "    </tr>\n",
       "    <tr>\n",
       "      <th>4041</th>\n",
       "      <td>1.000000</td>\n",
       "      <td>0.929586</td>\n",
       "      <td>0.503550</td>\n",
       "      <td>0.293491</td>\n",
       "      <td>0.169822</td>\n",
       "      <td>0.159763</td>\n",
       "      <td>0.130769</td>\n",
       "      <td>0.125444</td>\n",
       "      <td>0.137278</td>\n",
       "      <td>0.111243</td>\n",
       "      <td>...</td>\n",
       "      <td>0.0</td>\n",
       "      <td>0.0</td>\n",
       "      <td>0.0</td>\n",
       "      <td>0.0</td>\n",
       "      <td>0.0</td>\n",
       "      <td>0.0</td>\n",
       "      <td>0.0</td>\n",
       "      <td>0.0</td>\n",
       "      <td>0.0</td>\n",
       "      <td>0.0</td>\n",
       "    </tr>\n",
       "    <tr>\n",
       "      <th>4042</th>\n",
       "      <td>1.000000</td>\n",
       "      <td>0.637579</td>\n",
       "      <td>0.154837</td>\n",
       "      <td>0.061983</td>\n",
       "      <td>0.088965</td>\n",
       "      <td>0.083374</td>\n",
       "      <td>0.065143</td>\n",
       "      <td>0.057365</td>\n",
       "      <td>0.060039</td>\n",
       "      <td>0.060039</td>\n",
       "      <td>...</td>\n",
       "      <td>0.0</td>\n",
       "      <td>0.0</td>\n",
       "      <td>0.0</td>\n",
       "      <td>0.0</td>\n",
       "      <td>0.0</td>\n",
       "      <td>0.0</td>\n",
       "      <td>0.0</td>\n",
       "      <td>0.0</td>\n",
       "      <td>0.0</td>\n",
       "      <td>0.0</td>\n",
       "    </tr>\n",
       "    <tr>\n",
       "      <th>4043</th>\n",
       "      <td>1.000000</td>\n",
       "      <td>0.872574</td>\n",
       "      <td>0.465071</td>\n",
       "      <td>0.232212</td>\n",
       "      <td>0.126132</td>\n",
       "      <td>0.155886</td>\n",
       "      <td>0.174644</td>\n",
       "      <td>0.190168</td>\n",
       "      <td>0.203752</td>\n",
       "      <td>0.168823</td>\n",
       "      <td>...</td>\n",
       "      <td>0.0</td>\n",
       "      <td>0.0</td>\n",
       "      <td>0.0</td>\n",
       "      <td>0.0</td>\n",
       "      <td>0.0</td>\n",
       "      <td>0.0</td>\n",
       "      <td>0.0</td>\n",
       "      <td>0.0</td>\n",
       "      <td>0.0</td>\n",
       "      <td>0.0</td>\n",
       "    </tr>\n",
       "    <tr>\n",
       "      <th>4044</th>\n",
       "      <td>0.915983</td>\n",
       "      <td>0.529373</td>\n",
       "      <td>0.288406</td>\n",
       "      <td>0.144536</td>\n",
       "      <td>0.171802</td>\n",
       "      <td>0.180669</td>\n",
       "      <td>0.177566</td>\n",
       "      <td>0.176458</td>\n",
       "      <td>0.178896</td>\n",
       "      <td>0.180448</td>\n",
       "      <td>...</td>\n",
       "      <td>0.0</td>\n",
       "      <td>0.0</td>\n",
       "      <td>0.0</td>\n",
       "      <td>0.0</td>\n",
       "      <td>0.0</td>\n",
       "      <td>0.0</td>\n",
       "      <td>0.0</td>\n",
       "      <td>0.0</td>\n",
       "      <td>0.0</td>\n",
       "      <td>0.0</td>\n",
       "    </tr>\n",
       "    <tr>\n",
       "      <th>4045</th>\n",
       "      <td>1.000000</td>\n",
       "      <td>0.838643</td>\n",
       "      <td>0.390567</td>\n",
       "      <td>0.191146</td>\n",
       "      <td>0.033513</td>\n",
       "      <td>0.055854</td>\n",
       "      <td>0.129086</td>\n",
       "      <td>0.147290</td>\n",
       "      <td>0.155151</td>\n",
       "      <td>0.165494</td>\n",
       "      <td>...</td>\n",
       "      <td>0.0</td>\n",
       "      <td>0.0</td>\n",
       "      <td>0.0</td>\n",
       "      <td>0.0</td>\n",
       "      <td>0.0</td>\n",
       "      <td>0.0</td>\n",
       "      <td>0.0</td>\n",
       "      <td>0.0</td>\n",
       "      <td>0.0</td>\n",
       "      <td>0.0</td>\n",
       "    </tr>\n",
       "  </tbody>\n",
       "</table>\n",
       "<p>4046 rows × 187 columns</p>\n",
       "</div>"
      ],
      "text/plain": [
       "        0.0       8.0       16.0      24.0      32.0      40.0      48.0    \\\n",
       "0     1.000000  0.900324  0.358590  0.051459  0.046596  0.126823  0.133306   \n",
       "1     1.000000  0.794681  0.375387  0.116883  0.000000  0.171923  0.283859   \n",
       "2     0.909029  0.791482  0.423169  0.186712  0.000000  0.007836  0.063032   \n",
       "3     1.000000  0.478893  0.056760  0.064176  0.081289  0.072732  0.055619   \n",
       "4     1.000000  0.867238  0.201360  0.099349  0.141336  0.120934  0.108516   \n",
       "...        ...       ...       ...       ...       ...       ...       ...   \n",
       "4041  1.000000  0.929586  0.503550  0.293491  0.169822  0.159763  0.130769   \n",
       "4042  1.000000  0.637579  0.154837  0.061983  0.088965  0.083374  0.065143   \n",
       "4043  1.000000  0.872574  0.465071  0.232212  0.126132  0.155886  0.174644   \n",
       "4044  0.915983  0.529373  0.288406  0.144536  0.171802  0.180669  0.177566   \n",
       "4045  1.000000  0.838643  0.390567  0.191146  0.033513  0.055854  0.129086   \n",
       "\n",
       "        56.0      64.0      72.0    ...  1416.0  1424.0  1432.0  1440.0  \\\n",
       "0     0.119125  0.110616  0.113047  ...     0.0     0.0     0.0     0.0   \n",
       "1     0.293754  0.325912  0.345083  ...     0.0     0.0     0.0     0.0   \n",
       "2     0.077002  0.074957  0.077342  ...     0.0     0.0     0.0     0.0   \n",
       "3     0.048774  0.054478  0.041643  ...     0.0     0.0     0.0     0.0   \n",
       "4     0.096393  0.093436  0.100828  ...     0.0     0.0     0.0     0.0   \n",
       "...        ...       ...       ...  ...     ...     ...     ...     ...   \n",
       "4041  0.125444  0.137278  0.111243  ...     0.0     0.0     0.0     0.0   \n",
       "4042  0.057365  0.060039  0.060039  ...     0.0     0.0     0.0     0.0   \n",
       "4043  0.190168  0.203752  0.168823  ...     0.0     0.0     0.0     0.0   \n",
       "4044  0.176458  0.178896  0.180448  ...     0.0     0.0     0.0     0.0   \n",
       "4045  0.147290  0.155151  0.165494  ...     0.0     0.0     0.0     0.0   \n",
       "\n",
       "      1448.0  1456.0  1464.0  1472.0  1480.0  1488.0  \n",
       "0        0.0     0.0     0.0     0.0     0.0     0.0  \n",
       "1        0.0     0.0     0.0     0.0     0.0     0.0  \n",
       "2        0.0     0.0     0.0     0.0     0.0     0.0  \n",
       "3        0.0     0.0     0.0     0.0     0.0     0.0  \n",
       "4        0.0     0.0     0.0     0.0     0.0     0.0  \n",
       "...      ...     ...     ...     ...     ...     ...  \n",
       "4041     0.0     0.0     0.0     0.0     0.0     0.0  \n",
       "4042     0.0     0.0     0.0     0.0     0.0     0.0  \n",
       "4043     0.0     0.0     0.0     0.0     0.0     0.0  \n",
       "4044     0.0     0.0     0.0     0.0     0.0     0.0  \n",
       "4045     0.0     0.0     0.0     0.0     0.0     0.0  \n",
       "\n",
       "[4046 rows x 187 columns]"
      ]
     },
     "execution_count": 11,
     "metadata": {},
     "output_type": "execute_result"
    }
   ],
   "source": [
    "col = 'label'\n",
    "df1 = df_ptbd_normal.loc[:, df_ptbd_normal.columns != col]\n",
    "df2 = df_ptbd_abnormal.loc[:, df_ptbd_abnormal.columns != col]\n",
    "df1"
   ]
  },
  {
   "cell_type": "code",
   "execution_count": 12,
   "metadata": {},
   "outputs": [],
   "source": [
    "x_rem1, x_test1, y_rem1, y_test1 = train_test_split(df1,df1L, test_size=0.2, random_state=8, shuffle=True)\n",
    "x_train1, x_valid1, y_train1, y_valid1 = train_test_split(x_rem1, y_rem1, test_size=0.2)"
   ]
  },
  {
   "cell_type": "code",
   "execution_count": 13,
   "metadata": {},
   "outputs": [],
   "source": [
    "x_rem2, x_test2, y_rem2, y_test2 = train_test_split(df2,df2L, test_size=0.2, random_state=8, shuffle=True)\n",
    "x_train2, x_valid2, y_train2, y_valid2 = train_test_split(x_rem2, y_rem2, test_size=0.2)"
   ]
  },
  {
   "cell_type": "code",
   "execution_count": 14,
   "metadata": {},
   "outputs": [],
   "source": [
    "x_train = pd.concat([x_train1, x_train2], axis = 0)\n",
    "y_train = pd.concat([y_train1, y_train2], axis = 0)\n",
    "\n",
    "x_test = pd.concat([x_test1, x_test2], axis = 0)\n",
    "y_test = pd.concat([y_test1, y_test2], axis = 0)\n",
    "\n",
    "x_valid = pd.concat([x_valid1, x_valid2], axis = 0)\n",
    "y_valid = pd.concat([y_valid1, y_valid2], axis = 0)"
   ]
  },
  {
   "cell_type": "code",
   "execution_count": 15,
   "metadata": {},
   "outputs": [],
   "source": [
    "# x_train.shape\n",
    "# y_train.shape\n",
    "\n",
    "# x_test.shape\n",
    "# y_test.shape\n",
    "\n",
    "# x_valid.shape\n",
    "# y_valid.shape"
   ]
  },
  {
   "cell_type": "code",
   "execution_count": 74,
   "metadata": {},
   "outputs": [
    {
     "name": "stderr",
     "output_type": "stream",
     "text": [
      "/Users/achyuth/miniconda3/envs/Proj/lib/python3.10/site-packages/sklearn/utils/validation.py:1143: DataConversionWarning: A column-vector y was passed when a 1d array was expected. Please change the shape of y to (n_samples, ), for example using ravel().\n",
      "  y = column_or_1d(y, warn=True)\n",
      "/Users/achyuth/miniconda3/envs/Proj/lib/python3.10/site-packages/sklearn/linear_model/_logistic.py:458: ConvergenceWarning: lbfgs failed to converge (status=1):\n",
      "STOP: TOTAL NO. of ITERATIONS REACHED LIMIT.\n",
      "\n",
      "Increase the number of iterations (max_iter) or scale the data as shown in:\n",
      "    https://scikit-learn.org/stable/modules/preprocessing.html\n",
      "Please also refer to the documentation for alternative solver options:\n",
      "    https://scikit-learn.org/stable/modules/linear_model.html#logistic-regression\n",
      "  n_iter_i = _check_optimize_result(\n"
     ]
    },
    {
     "data": {
      "text/plain": [
       "0.8273937312151138"
      ]
     },
     "execution_count": 74,
     "metadata": {},
     "output_type": "execute_result"
    }
   ],
   "source": [
    "baseModel = LogisticRegression().fit(x_train,y_train)\n",
    "baseModel.score(x_valid, y_valid)"
   ]
  },
  {
   "cell_type": "code",
   "execution_count": 75,
   "metadata": {},
   "outputs": [
    {
     "data": {
      "image/png": "[encoded data removed]",
      "text/plain": [
       "<Figure size 640x480 with 2 Axes>"
      ]
     },
     "metadata": {},
     "output_type": "display_data"
    }
   ],
   "source": [
    "predictions = baseModel.predict(x_test)\n",
    "cm = confusion_matrix(y_test, predictions, labels=baseModel.classes_)\n",
    "disp = ConfusionMatrixDisplay(confusion_matrix=cm, display_labels=baseModel.classes_)\n",
    "disp.plot()\n",
    "fig = plt.gcf()\n",
    "plt.show()\n",
    "fig.savefig('BaseModel_ConfusionMatrixLog.png')"
   ]
  },
  {
   "cell_type": "code",
   "execution_count": 71,
   "metadata": {},
   "outputs": [
    {
     "name": "stdout",
     "output_type": "stream",
     "text": [
      "Compiled Model: 0\n",
      "\n",
      "Compiled Model: 1\n",
      "\n",
      "Compiled Model: 2\n",
      "\n",
      "Compiled Model: 3\n",
      "\n",
      "Compiled Model: 4\n",
      "\n",
      "Compiled Model: 5\n",
      "\n",
      "Compiled Model: 6\n",
      "\n",
      "Compiled Model: 7\n",
      "\n",
      "Compiled Model: 8\n",
      "\n"
     ]
    },
    {
     "name": "stderr",
     "output_type": "stream",
     "text": [
      "/Users/achyuth/miniconda3/envs/Proj/lib/python3.10/site-packages/sklearn/utils/validation.py:1143: DataConversionWarning: A column-vector y was passed when a 1d array was expected. Please change the shape of y to (n_samples, ), for example using ravel().\n",
      "  y = column_or_1d(y, warn=True)\n"
     ]
    },
    {
     "name": "stdout",
     "output_type": "stream",
     "text": [
      "Compiled Model: 9\n",
      "\n"
     ]
    },
    {
     "name": "stderr",
     "output_type": "stream",
     "text": [
      "/Users/achyuth/miniconda3/envs/Proj/lib/python3.10/site-packages/sklearn/utils/validation.py:1143: DataConversionWarning: A column-vector y was passed when a 1d array was expected. Please change the shape of y to (n_samples, ), for example using ravel().\n",
      "  y = column_or_1d(y, warn=True)\n"
     ]
    },
    {
     "name": "stdout",
     "output_type": "stream",
     "text": [
      "Compiled Model: 10\n",
      "\n"
     ]
    },
    {
     "name": "stderr",
     "output_type": "stream",
     "text": [
      "/Users/achyuth/miniconda3/envs/Proj/lib/python3.10/site-packages/sklearn/utils/validation.py:1143: DataConversionWarning: A column-vector y was passed when a 1d array was expected. Please change the shape of y to (n_samples, ), for example using ravel().\n",
      "  y = column_or_1d(y, warn=True)\n"
     ]
    },
    {
     "name": "stdout",
     "output_type": "stream",
     "text": [
      "Compiled Model: 11\n",
      "\n"
     ]
    },
    {
     "name": "stderr",
     "output_type": "stream",
     "text": [
      "/Users/achyuth/miniconda3/envs/Proj/lib/python3.10/site-packages/sklearn/utils/validation.py:1143: DataConversionWarning: A column-vector y was passed when a 1d array was expected. Please change the shape of y to (n_samples, ), for example using ravel().\n",
      "  y = column_or_1d(y, warn=True)\n"
     ]
    },
    {
     "name": "stdout",
     "output_type": "stream",
     "text": [
      "Compiled Model: 12\n",
      "\n",
      "Compiled Model: 13\n",
      "\n",
      "Compiled Model: 14\n",
      "\n",
      "Compiled Model: 15\n",
      "\n",
      "Compiled Model: 16\n",
      "\n",
      "Compiled Model: 17\n",
      "\n",
      "Compiled Model: 18\n",
      "\n",
      "Compiled Model: 19\n",
      "\n",
      "Compiled Model: 20\n",
      "\n",
      "Compiled Model: 21\n",
      "\n",
      "Compiled Model: 22\n",
      "\n",
      "Compiled Model: 23\n",
      "\n",
      "Compiled Model: 24\n",
      "\n",
      "Compiled Model: 25\n",
      "\n",
      "Compiled Model: 26\n",
      "\n",
      "Compiled Model: 27\n",
      "\n",
      "Compiled Model: 28\n",
      "\n",
      "Compiled Model: 29\n",
      "\n",
      "Compiled Model: 30\n",
      "\n",
      "Compiled Model: 31\n",
      "\n",
      "Compiled Model: 32\n",
      "\n",
      "Compiled Model: 33\n",
      "\n",
      "Compiled Model: 34\n",
      "\n",
      "Compiled Model: 35\n",
      "\n",
      "Compiled Model: 36\n",
      "\n",
      "Compiled Model: 37\n",
      "\n",
      "Compiled Model: 38\n",
      "\n",
      "Compiled Model: 39\n",
      "\n",
      "Compiled Model: 40\n",
      "\n",
      "Compiled Model: 41\n",
      "\n",
      "Compiled Model: 42\n",
      "\n",
      "Compiled Model: 43\n",
      "\n",
      "Compiled Model: 44\n",
      "\n",
      "Compiled Model: 45\n",
      "\n",
      "Compiled Model: 46\n",
      "\n",
      "Compiled Model: 47\n",
      "\n",
      "Compiled Model: 48\n",
      "\n",
      "Compiled Model: 49\n",
      "\n",
      "Compiled Model: 50\n",
      "\n",
      "Compiled Model: 51\n",
      "\n",
      "Compiled Model: 52\n",
      "\n",
      "Compiled Model: 53\n",
      "\n",
      "Compiled Model: 54\n",
      "\n",
      "Compiled Model: 55\n",
      "\n",
      "Compiled Model: 56\n",
      "\n",
      "Compiled Model: 57\n",
      "\n",
      "Compiled Model: 58\n",
      "\n",
      "Compiled Model: 59\n",
      "\n",
      "Compiled Model: 60\n",
      "\n",
      "Compiled Model: 61\n",
      "\n",
      "Compiled Model: 62\n",
      "\n",
      "Compiled Model: 63\n",
      "\n",
      "Compiled Model: 64\n",
      "\n",
      "Compiled Model: 65\n",
      "\n",
      "Compiled Model: 66\n",
      "\n",
      "Compiled Model: 67\n",
      "\n",
      "Compiled Model: 68\n",
      "\n",
      "Compiled Model: 69\n",
      "\n",
      "Compiled Model: 70\n",
      "\n",
      "Compiled Model: 71\n",
      "\n",
      "Compiled Model: 72\n",
      "\n",
      "Compiled Model: 73\n",
      "\n",
      "Compiled Model: 74\n",
      "\n",
      "Compiled Model: 75\n",
      "\n",
      "Compiled Model: 76\n",
      "\n",
      "Compiled Model: 77\n",
      "\n",
      "Compiled Model: 78\n",
      "\n",
      "Compiled Model: 79\n",
      "\n",
      "Compiled Model: 80\n",
      "\n",
      "Compiled Model: 81\n",
      "\n",
      "Compiled Model: 82\n",
      "\n",
      "Compiled Model: 83\n",
      "\n",
      "Compiled Model: 84\n",
      "\n",
      "Compiled Model: 85\n",
      "\n",
      "Compiled Model: 86\n",
      "\n",
      "Compiled Model: 87\n",
      "\n",
      "Compiled Model: 88\n",
      "\n",
      "Compiled Model: 89\n",
      "\n",
      "Compiled Model: 90\n",
      "\n",
      "Compiled Model: 91\n",
      "\n",
      "Compiled Model: 92\n",
      "\n",
      "Compiled Model: 93\n",
      "\n",
      "Compiled Model: 94\n",
      "\n",
      "Compiled Model: 95\n",
      "\n",
      "Compiled Model: 96\n",
      "\n"
     ]
    },
    {
     "name": "stderr",
     "output_type": "stream",
     "text": [
      "/Users/achyuth/miniconda3/envs/Proj/lib/python3.10/site-packages/sklearn/utils/validation.py:1143: DataConversionWarning: A column-vector y was passed when a 1d array was expected. Please change the shape of y to (n_samples, ), for example using ravel().\n",
      "  y = column_or_1d(y, warn=True)\n",
      "/Users/achyuth/miniconda3/envs/Proj/lib/python3.10/site-packages/sklearn/utils/validation.py:1143: DataConversionWarning: A column-vector y was passed when a 1d array was expected. Please change the shape of y to (n_samples, ), for example using ravel().\n",
      "  y = column_or_1d(y, warn=True)\n",
      "/Users/achyuth/miniconda3/envs/Proj/lib/python3.10/site-packages/sklearn/utils/validation.py:1143: DataConversionWarning: A column-vector y was passed when a 1d array was expected. Please change the shape of y to (n_samples, ), for example using ravel().\n",
      "  y = column_or_1d(y, warn=True)\n",
      "/Users/achyuth/miniconda3/envs/Proj/lib/python3.10/site-packages/sklearn/utils/validation.py:1143: DataConversionWarning: A column-vector y was passed when a 1d array was expected. Please change the shape of y to (n_samples, ), for example using ravel().\n",
      "  y = column_or_1d(y, warn=True)\n",
      "/Users/achyuth/miniconda3/envs/Proj/lib/python3.10/site-packages/sklearn/utils/validation.py:1143: DataConversionWarning: A column-vector y was passed when a 1d array was expected. Please change the shape of y to (n_samples, ), for example using ravel().\n",
      "  y = column_or_1d(y, warn=True)\n"
     ]
    },
    {
     "name": "stdout",
     "output_type": "stream",
     "text": [
      "Compiled Model: 97\n",
      "\n"
     ]
    },
    {
     "name": "stderr",
     "output_type": "stream",
     "text": [
      "/Users/achyuth/miniconda3/envs/Proj/lib/python3.10/site-packages/sklearn/utils/validation.py:1143: DataConversionWarning: A column-vector y was passed when a 1d array was expected. Please change the shape of y to (n_samples, ), for example using ravel().\n",
      "  y = column_or_1d(y, warn=True)\n"
     ]
    },
    {
     "name": "stdout",
     "output_type": "stream",
     "text": [
      "Compiled Model: 98\n",
      "\n"
     ]
    },
    {
     "name": "stderr",
     "output_type": "stream",
     "text": [
      "/Users/achyuth/miniconda3/envs/Proj/lib/python3.10/site-packages/sklearn/utils/validation.py:1143: DataConversionWarning: A column-vector y was passed when a 1d array was expected. Please change the shape of y to (n_samples, ), for example using ravel().\n",
      "  y = column_or_1d(y, warn=True)\n"
     ]
    },
    {
     "name": "stdout",
     "output_type": "stream",
     "text": [
      "Compiled Model: 99\n",
      "\n"
     ]
    },
    {
     "name": "stderr",
     "output_type": "stream",
     "text": [
      "/Users/achyuth/miniconda3/envs/Proj/lib/python3.10/site-packages/sklearn/utils/validation.py:1143: DataConversionWarning: A column-vector y was passed when a 1d array was expected. Please change the shape of y to (n_samples, ), for example using ravel().\n",
      "  y = column_or_1d(y, warn=True)\n"
     ]
    },
    {
     "name": "stdout",
     "output_type": "stream",
     "text": [
      "Compiled Model: 100\n",
      "\n",
      "Compiled Model: 101\n",
      "\n",
      "Compiled Model: 102\n",
      "\n",
      "Compiled Model: 103\n",
      "\n",
      "Compiled Model: 104\n",
      "\n"
     ]
    },
    {
     "name": "stderr",
     "output_type": "stream",
     "text": [
      "/Users/achyuth/miniconda3/envs/Proj/lib/python3.10/site-packages/sklearn/utils/validation.py:1143: DataConversionWarning: A column-vector y was passed when a 1d array was expected. Please change the shape of y to (n_samples, ), for example using ravel().\n",
      "  y = column_or_1d(y, warn=True)\n"
     ]
    },
    {
     "name": "stdout",
     "output_type": "stream",
     "text": [
      "Compiled Model: 105\n",
      "\n"
     ]
    },
    {
     "name": "stderr",
     "output_type": "stream",
     "text": [
      "/Users/achyuth/miniconda3/envs/Proj/lib/python3.10/site-packages/sklearn/utils/validation.py:1143: DataConversionWarning: A column-vector y was passed when a 1d array was expected. Please change the shape of y to (n_samples, ), for example using ravel().\n",
      "  y = column_or_1d(y, warn=True)\n"
     ]
    },
    {
     "name": "stdout",
     "output_type": "stream",
     "text": [
      "Compiled Model: 106\n",
      "\n"
     ]
    },
    {
     "name": "stderr",
     "output_type": "stream",
     "text": [
      "/Users/achyuth/miniconda3/envs/Proj/lib/python3.10/site-packages/sklearn/utils/validation.py:1143: DataConversionWarning: A column-vector y was passed when a 1d array was expected. Please change the shape of y to (n_samples, ), for example using ravel().\n",
      "  y = column_or_1d(y, warn=True)\n"
     ]
    },
    {
     "name": "stdout",
     "output_type": "stream",
     "text": [
      "Compiled Model: 107\n",
      "\n"
     ]
    },
    {
     "name": "stderr",
     "output_type": "stream",
     "text": [
      "/Users/achyuth/miniconda3/envs/Proj/lib/python3.10/site-packages/sklearn/utils/validation.py:1143: DataConversionWarning: A column-vector y was passed when a 1d array was expected. Please change the shape of y to (n_samples, ), for example using ravel().\n",
      "  y = column_or_1d(y, warn=True)\n"
     ]
    },
    {
     "name": "stdout",
     "output_type": "stream",
     "text": [
      "Compiled Model: 108\n",
      "\n",
      "Compiled Model: 109\n",
      "\n",
      "Compiled Model: 110\n",
      "\n",
      "Compiled Model: 111\n",
      "\n",
      "Compiled Model: 112\n",
      "\n"
     ]
    },
    {
     "name": "stderr",
     "output_type": "stream",
     "text": [
      "/Users/achyuth/miniconda3/envs/Proj/lib/python3.10/site-packages/sklearn/utils/validation.py:1143: DataConversionWarning: A column-vector y was passed when a 1d array was expected. Please change the shape of y to (n_samples, ), for example using ravel().\n",
      "  y = column_or_1d(y, warn=True)\n"
     ]
    },
    {
     "name": "stdout",
     "output_type": "stream",
     "text": [
      "Compiled Model: 113\n",
      "\n"
     ]
    },
    {
     "name": "stderr",
     "output_type": "stream",
     "text": [
      "/Users/achyuth/miniconda3/envs/Proj/lib/python3.10/site-packages/sklearn/utils/validation.py:1143: DataConversionWarning: A column-vector y was passed when a 1d array was expected. Please change the shape of y to (n_samples, ), for example using ravel().\n",
      "  y = column_or_1d(y, warn=True)\n"
     ]
    },
    {
     "name": "stdout",
     "output_type": "stream",
     "text": [
      "Compiled Model: 114\n",
      "\n"
     ]
    },
    {
     "name": "stderr",
     "output_type": "stream",
     "text": [
      "/Users/achyuth/miniconda3/envs/Proj/lib/python3.10/site-packages/sklearn/utils/validation.py:1143: DataConversionWarning: A column-vector y was passed when a 1d array was expected. Please change the shape of y to (n_samples, ), for example using ravel().\n",
      "  y = column_or_1d(y, warn=True)\n"
     ]
    },
    {
     "name": "stdout",
     "output_type": "stream",
     "text": [
      "Compiled Model: 115\n",
      "\n"
     ]
    },
    {
     "name": "stderr",
     "output_type": "stream",
     "text": [
      "/Users/achyuth/miniconda3/envs/Proj/lib/python3.10/site-packages/sklearn/utils/validation.py:1143: DataConversionWarning: A column-vector y was passed when a 1d array was expected. Please change the shape of y to (n_samples, ), for example using ravel().\n",
      "  y = column_or_1d(y, warn=True)\n"
     ]
    },
    {
     "name": "stdout",
     "output_type": "stream",
     "text": [
      "Compiled Model: 116\n",
      "\n",
      "Compiled Model: 117\n",
      "\n",
      "Compiled Model: 118\n",
      "\n",
      "Compiled Model: 119\n",
      "\n",
      "Compiled Model: 120\n",
      "\n"
     ]
    },
    {
     "name": "stderr",
     "output_type": "stream",
     "text": [
      "/Users/achyuth/miniconda3/envs/Proj/lib/python3.10/site-packages/sklearn/utils/validation.py:1143: DataConversionWarning: A column-vector y was passed when a 1d array was expected. Please change the shape of y to (n_samples, ), for example using ravel().\n",
      "  y = column_or_1d(y, warn=True)\n"
     ]
    },
    {
     "name": "stdout",
     "output_type": "stream",
     "text": [
      "Compiled Model: 121\n",
      "\n"
     ]
    },
    {
     "name": "stderr",
     "output_type": "stream",
     "text": [
      "/Users/achyuth/miniconda3/envs/Proj/lib/python3.10/site-packages/sklearn/utils/validation.py:1143: DataConversionWarning: A column-vector y was passed when a 1d array was expected. Please change the shape of y to (n_samples, ), for example using ravel().\n",
      "  y = column_or_1d(y, warn=True)\n"
     ]
    },
    {
     "name": "stdout",
     "output_type": "stream",
     "text": [
      "Compiled Model: 122\n",
      "\n"
     ]
    },
    {
     "name": "stderr",
     "output_type": "stream",
     "text": [
      "/Users/achyuth/miniconda3/envs/Proj/lib/python3.10/site-packages/sklearn/utils/validation.py:1143: DataConversionWarning: A column-vector y was passed when a 1d array was expected. Please change the shape of y to (n_samples, ), for example using ravel().\n",
      "  y = column_or_1d(y, warn=True)\n"
     ]
    },
    {
     "name": "stdout",
     "output_type": "stream",
     "text": [
      "Compiled Model: 123\n",
      "\n"
     ]
    },
    {
     "name": "stderr",
     "output_type": "stream",
     "text": [
      "/Users/achyuth/miniconda3/envs/Proj/lib/python3.10/site-packages/sklearn/utils/validation.py:1143: DataConversionWarning: A column-vector y was passed when a 1d array was expected. Please change the shape of y to (n_samples, ), for example using ravel().\n",
      "  y = column_or_1d(y, warn=True)\n"
     ]
    },
    {
     "name": "stdout",
     "output_type": "stream",
     "text": [
      "Compiled Model: 124\n",
      "\n",
      "Compiled Model: 125\n",
      "\n",
      "Compiled Model: 126\n",
      "\n",
      "Compiled Model: 127\n",
      "\n",
      "Compiled Model: 128\n",
      "\n",
      "Compiled Model: 129\n",
      "\n",
      "Compiled Model: 130\n",
      "\n",
      "Compiled Model: 131\n",
      "\n",
      "Compiled Model: 132\n",
      "\n",
      "Compiled Model: 133\n",
      "\n",
      "Compiled Model: 134\n",
      "\n",
      "Compiled Model: 135\n",
      "\n",
      "Compiled Model: 136\n",
      "\n"
     ]
    },
    {
     "name": "stderr",
     "output_type": "stream",
     "text": [
      "/Users/achyuth/miniconda3/envs/Proj/lib/python3.10/site-packages/sklearn/utils/validation.py:1143: DataConversionWarning: A column-vector y was passed when a 1d array was expected. Please change the shape of y to (n_samples, ), for example using ravel().\n",
      "  y = column_or_1d(y, warn=True)\n"
     ]
    },
    {
     "name": "stdout",
     "output_type": "stream",
     "text": [
      "Compiled Model: 137\n",
      "\n"
     ]
    },
    {
     "name": "stderr",
     "output_type": "stream",
     "text": [
      "/Users/achyuth/miniconda3/envs/Proj/lib/python3.10/site-packages/sklearn/utils/validation.py:1143: DataConversionWarning: A column-vector y was passed when a 1d array was expected. Please change the shape of y to (n_samples, ), for example using ravel().\n",
      "  y = column_or_1d(y, warn=True)\n"
     ]
    },
    {
     "name": "stdout",
     "output_type": "stream",
     "text": [
      "Compiled Model: 138\n",
      "\n"
     ]
    },
    {
     "name": "stderr",
     "output_type": "stream",
     "text": [
      "/Users/achyuth/miniconda3/envs/Proj/lib/python3.10/site-packages/sklearn/utils/validation.py:1143: DataConversionWarning: A column-vector y was passed when a 1d array was expected. Please change the shape of y to (n_samples, ), for example using ravel().\n",
      "  y = column_or_1d(y, warn=True)\n"
     ]
    },
    {
     "name": "stdout",
     "output_type": "stream",
     "text": [
      "Compiled Model: 139\n",
      "\n"
     ]
    },
    {
     "name": "stderr",
     "output_type": "stream",
     "text": [
      "/Users/achyuth/miniconda3/envs/Proj/lib/python3.10/site-packages/sklearn/utils/validation.py:1143: DataConversionWarning: A column-vector y was passed when a 1d array was expected. Please change the shape of y to (n_samples, ), for example using ravel().\n",
      "  y = column_or_1d(y, warn=True)\n"
     ]
    },
    {
     "name": "stdout",
     "output_type": "stream",
     "text": [
      "Compiled Model: 140\n",
      "\n",
      "Compiled Model: 141\n",
      "\n",
      "Compiled Model: 142\n",
      "\n",
      "Compiled Model: 143\n",
      "\n",
      "Compiled Model: 144\n",
      "\n",
      "Compiled Model: 145\n",
      "\n",
      "Compiled Model: 146\n",
      "\n",
      "Compiled Model: 147\n",
      "\n",
      "Compiled Model: 148\n",
      "\n",
      "Compiled Model: 149\n",
      "\n",
      "Compiled Model: 150\n",
      "\n",
      "Compiled Model: 151\n",
      "\n",
      "Compiled Model: 152\n",
      "\n"
     ]
    },
    {
     "name": "stderr",
     "output_type": "stream",
     "text": [
      "/Users/achyuth/miniconda3/envs/Proj/lib/python3.10/site-packages/sklearn/utils/validation.py:1143: DataConversionWarning: A column-vector y was passed when a 1d array was expected. Please change the shape of y to (n_samples, ), for example using ravel().\n",
      "  y = column_or_1d(y, warn=True)\n"
     ]
    },
    {
     "name": "stdout",
     "output_type": "stream",
     "text": [
      "Compiled Model: 153\n",
      "\n"
     ]
    },
    {
     "name": "stderr",
     "output_type": "stream",
     "text": [
      "/Users/achyuth/miniconda3/envs/Proj/lib/python3.10/site-packages/sklearn/utils/validation.py:1143: DataConversionWarning: A column-vector y was passed when a 1d array was expected. Please change the shape of y to (n_samples, ), for example using ravel().\n",
      "  y = column_or_1d(y, warn=True)\n"
     ]
    },
    {
     "name": "stdout",
     "output_type": "stream",
     "text": [
      "Compiled Model: 154\n",
      "\n"
     ]
    },
    {
     "name": "stderr",
     "output_type": "stream",
     "text": [
      "/Users/achyuth/miniconda3/envs/Proj/lib/python3.10/site-packages/sklearn/utils/validation.py:1143: DataConversionWarning: A column-vector y was passed when a 1d array was expected. Please change the shape of y to (n_samples, ), for example using ravel().\n",
      "  y = column_or_1d(y, warn=True)\n"
     ]
    },
    {
     "name": "stdout",
     "output_type": "stream",
     "text": [
      "Compiled Model: 155\n",
      "\n"
     ]
    },
    {
     "name": "stderr",
     "output_type": "stream",
     "text": [
      "/Users/achyuth/miniconda3/envs/Proj/lib/python3.10/site-packages/sklearn/utils/validation.py:1143: DataConversionWarning: A column-vector y was passed when a 1d array was expected. Please change the shape of y to (n_samples, ), for example using ravel().\n",
      "  y = column_or_1d(y, warn=True)\n"
     ]
    },
    {
     "name": "stdout",
     "output_type": "stream",
     "text": [
      "Compiled Model: 156\n",
      "\n",
      "Compiled Model: 157\n",
      "\n",
      "Compiled Model: 158\n",
      "\n",
      "Compiled Model: 159\n",
      "\n",
      "Compiled Model: 160\n",
      "\n",
      "Compiled Model: 161\n",
      "\n",
      "Compiled Model: 162\n",
      "\n",
      "Compiled Model: 163\n",
      "\n",
      "Compiled Model: 164\n",
      "\n",
      "Compiled Model: 165\n",
      "\n",
      "Compiled Model: 166\n",
      "\n",
      "Compiled Model: 167\n",
      "\n",
      "Compiled Model: 168\n",
      "\n",
      "Compiled Model: 169\n",
      "\n",
      "Compiled Model: 170\n",
      "\n",
      "Compiled Model: 171\n",
      "\n",
      "Compiled Model: 172\n",
      "\n",
      "Compiled Model: 173\n",
      "\n",
      "Compiled Model: 174\n",
      "\n",
      "Compiled Model: 175\n",
      "\n",
      "Compiled Model: 176\n",
      "\n",
      "Compiled Model: 177\n",
      "\n",
      "Compiled Model: 178\n",
      "\n",
      "Compiled Model: 179\n",
      "\n",
      "Compiled Model: 180\n",
      "\n",
      "Compiled Model: 181\n",
      "\n",
      "Compiled Model: 182\n",
      "\n",
      "Compiled Model: 183\n",
      "\n",
      "Compiled Model: 184\n",
      "\n",
      "Compiled Model: 185\n",
      "\n",
      "Compiled Model: 186\n",
      "\n",
      "Compiled Model: 187\n",
      "\n",
      "Compiled Model: 188\n",
      "\n",
      "Compiled Model: 189\n",
      "\n",
      "Compiled Model: 190\n",
      "\n",
      "Compiled Model: 191\n",
      "\n",
      "Compiled Model: 192\n",
      "\n",
      "Compiled Model: 193\n",
      "\n",
      "Compiled Model: 194\n",
      "\n",
      "Compiled Model: 195\n",
      "\n",
      "Compiled Model: 196\n",
      "\n",
      "Compiled Model: 197\n",
      "\n",
      "Compiled Model: 198\n",
      "\n",
      "Compiled Model: 199\n",
      "\n",
      "Compiled Model: 200\n",
      "\n"
     ]
    },
    {
     "name": "stderr",
     "output_type": "stream",
     "text": [
      "/Users/achyuth/miniconda3/envs/Proj/lib/python3.10/site-packages/sklearn/utils/validation.py:1143: DataConversionWarning: A column-vector y was passed when a 1d array was expected. Please change the shape of y to (n_samples, ), for example using ravel().\n",
      "  y = column_or_1d(y, warn=True)\n",
      "/Users/achyuth/miniconda3/envs/Proj/lib/python3.10/site-packages/sklearn/utils/validation.py:1143: DataConversionWarning: A column-vector y was passed when a 1d array was expected. Please change the shape of y to (n_samples, ), for example using ravel().\n",
      "  y = column_or_1d(y, warn=True)\n",
      "/Users/achyuth/miniconda3/envs/Proj/lib/python3.10/site-packages/sklearn/utils/validation.py:1143: DataConversionWarning: A column-vector y was passed when a 1d array was expected. Please change the shape of y to (n_samples, ), for example using ravel().\n",
      "  y = column_or_1d(y, warn=True)\n",
      "/Users/achyuth/miniconda3/envs/Proj/lib/python3.10/site-packages/sklearn/utils/validation.py:1143: DataConversionWarning: A column-vector y was passed when a 1d array was expected. Please change the shape of y to (n_samples, ), for example using ravel().\n",
      "  y = column_or_1d(y, warn=True)\n",
      "/Users/achyuth/miniconda3/envs/Proj/lib/python3.10/site-packages/sklearn/utils/validation.py:1143: DataConversionWarning: A column-vector y was passed when a 1d array was expected. Please change the shape of y to (n_samples, ), for example using ravel().\n",
      "  y = column_or_1d(y, warn=True)\n"
     ]
    },
    {
     "name": "stdout",
     "output_type": "stream",
     "text": [
      "Compiled Model: 201\n",
      "\n"
     ]
    },
    {
     "name": "stderr",
     "output_type": "stream",
     "text": [
      "/Users/achyuth/miniconda3/envs/Proj/lib/python3.10/site-packages/sklearn/utils/validation.py:1143: DataConversionWarning: A column-vector y was passed when a 1d array was expected. Please change the shape of y to (n_samples, ), for example using ravel().\n",
      "  y = column_or_1d(y, warn=True)\n"
     ]
    },
    {
     "name": "stdout",
     "output_type": "stream",
     "text": [
      "Compiled Model: 202\n",
      "\n"
     ]
    },
    {
     "name": "stderr",
     "output_type": "stream",
     "text": [
      "/Users/achyuth/miniconda3/envs/Proj/lib/python3.10/site-packages/sklearn/utils/validation.py:1143: DataConversionWarning: A column-vector y was passed when a 1d array was expected. Please change the shape of y to (n_samples, ), for example using ravel().\n",
      "  y = column_or_1d(y, warn=True)\n"
     ]
    },
    {
     "name": "stdout",
     "output_type": "stream",
     "text": [
      "Compiled Model: 203\n",
      "\n"
     ]
    },
    {
     "name": "stderr",
     "output_type": "stream",
     "text": [
      "/Users/achyuth/miniconda3/envs/Proj/lib/python3.10/site-packages/sklearn/utils/validation.py:1143: DataConversionWarning: A column-vector y was passed when a 1d array was expected. Please change the shape of y to (n_samples, ), for example using ravel().\n",
      "  y = column_or_1d(y, warn=True)\n"
     ]
    },
    {
     "name": "stdout",
     "output_type": "stream",
     "text": [
      "Compiled Model: 204\n",
      "\n",
      "Compiled Model: 205\n",
      "\n",
      "Compiled Model: 206\n",
      "\n",
      "Compiled Model: 207\n",
      "\n",
      "Compiled Model: 208\n",
      "\n",
      "Compiled Model: 209\n",
      "\n",
      "Compiled Model: 210\n",
      "\n",
      "Compiled Model: 211\n",
      "\n",
      "Compiled Model: 212\n",
      "\n",
      "Compiled Model: 213\n",
      "\n",
      "Compiled Model: 214\n",
      "\n",
      "Compiled Model: 215\n",
      "\n",
      "Compiled Model: 216\n",
      "\n",
      "Compiled Model: 217\n",
      "\n",
      "Compiled Model: 218\n",
      "\n",
      "Compiled Model: 219\n",
      "\n",
      "Compiled Model: 220\n",
      "\n",
      "Compiled Model: 221\n",
      "\n",
      "Compiled Model: 222\n",
      "\n",
      "Compiled Model: 223\n",
      "\n",
      "Compiled Model: 224\n",
      "\n",
      "Compiled Model: 225\n",
      "\n",
      "Compiled Model: 226\n",
      "\n",
      "Compiled Model: 227\n",
      "\n",
      "Compiled Model: 228\n",
      "\n",
      "Compiled Model: 229\n",
      "\n",
      "Compiled Model: 230\n",
      "\n",
      "Compiled Model: 231\n",
      "\n",
      "Compiled Model: 232\n",
      "\n",
      "Compiled Model: 233\n",
      "\n",
      "Compiled Model: 234\n",
      "\n",
      "Compiled Model: 235\n",
      "\n",
      "Compiled Model: 236\n",
      "\n",
      "Compiled Model: 237\n",
      "\n",
      "Compiled Model: 238\n",
      "\n",
      "Compiled Model: 239\n",
      "\n",
      "Compiled Model: 240\n",
      "\n",
      "Compiled Model: 241\n",
      "\n",
      "Compiled Model: 242\n",
      "\n",
      "Compiled Model: 243\n",
      "\n",
      "Compiled Model: 244\n",
      "\n",
      "Compiled Model: 245\n",
      "\n",
      "Compiled Model: 246\n",
      "\n",
      "Compiled Model: 247\n",
      "\n",
      "Compiled Model: 248\n",
      "\n",
      "Compiled Model: 249\n",
      "\n",
      "Compiled Model: 250\n",
      "\n",
      "Compiled Model: 251\n",
      "\n",
      "Compiled Model: 252\n",
      "\n",
      "Compiled Model: 253\n",
      "\n",
      "Compiled Model: 254\n",
      "\n",
      "Compiled Model: 255\n",
      "\n",
      "Compiled Model: 256\n",
      "\n",
      "Compiled Model: 257\n",
      "\n",
      "Compiled Model: 258\n",
      "\n",
      "Compiled Model: 259\n",
      "\n",
      "Compiled Model: 260\n",
      "\n",
      "Compiled Model: 261\n",
      "\n",
      "Compiled Model: 262\n",
      "\n",
      "Compiled Model: 263\n",
      "\n",
      "Compiled Model: 264\n",
      "\n",
      "Compiled Model: 265\n",
      "\n",
      "Compiled Model: 266\n",
      "\n",
      "Compiled Model: 267\n",
      "\n",
      "Compiled Model: 268\n",
      "\n",
      "Compiled Model: 269\n",
      "\n",
      "Compiled Model: 270\n",
      "\n",
      "Compiled Model: 271\n",
      "\n",
      "Compiled Model: 272\n",
      "\n",
      "Compiled Model: 273\n",
      "\n",
      "Compiled Model: 274\n",
      "\n",
      "Compiled Model: 275\n",
      "\n",
      "Compiled Model: 276\n",
      "\n",
      "Compiled Model: 277\n",
      "\n",
      "Compiled Model: 278\n",
      "\n",
      "Compiled Model: 279\n",
      "\n",
      "Compiled Model: 280\n",
      "\n",
      "Compiled Model: 281\n",
      "\n",
      "Compiled Model: 282\n",
      "\n",
      "Compiled Model: 283\n",
      "\n",
      "Compiled Model: 284\n",
      "\n",
      "Compiled Model: 285\n",
      "\n",
      "Compiled Model: 286\n",
      "\n",
      "Compiled Model: 287\n",
      "\n",
      "Compiled Model: 288\n",
      "\n"
     ]
    },
    {
     "name": "stderr",
     "output_type": "stream",
     "text": [
      "/Users/achyuth/miniconda3/envs/Proj/lib/python3.10/site-packages/sklearn/utils/validation.py:1143: DataConversionWarning: A column-vector y was passed when a 1d array was expected. Please change the shape of y to (n_samples, ), for example using ravel().\n",
      "  y = column_or_1d(y, warn=True)\n",
      "/Users/achyuth/miniconda3/envs/Proj/lib/python3.10/site-packages/sklearn/utils/validation.py:1143: DataConversionWarning: A column-vector y was passed when a 1d array was expected. Please change the shape of y to (n_samples, ), for example using ravel().\n",
      "  y = column_or_1d(y, warn=True)\n",
      "/Users/achyuth/miniconda3/envs/Proj/lib/python3.10/site-packages/sklearn/utils/validation.py:1143: DataConversionWarning: A column-vector y was passed when a 1d array was expected. Please change the shape of y to (n_samples, ), for example using ravel().\n",
      "  y = column_or_1d(y, warn=True)\n",
      "/Users/achyuth/miniconda3/envs/Proj/lib/python3.10/site-packages/sklearn/utils/validation.py:1143: DataConversionWarning: A column-vector y was passed when a 1d array was expected. Please change the shape of y to (n_samples, ), for example using ravel().\n",
      "  y = column_or_1d(y, warn=True)\n",
      "/Users/achyuth/miniconda3/envs/Proj/lib/python3.10/site-packages/sklearn/utils/validation.py:1143: DataConversionWarning: A column-vector y was passed when a 1d array was expected. Please change the shape of y to (n_samples, ), for example using ravel().\n",
      "  y = column_or_1d(y, warn=True)\n"
     ]
    },
    {
     "name": "stdout",
     "output_type": "stream",
     "text": [
      "Compiled Model: 289\n",
      "\n"
     ]
    },
    {
     "name": "stderr",
     "output_type": "stream",
     "text": [
      "/Users/achyuth/miniconda3/envs/Proj/lib/python3.10/site-packages/sklearn/utils/validation.py:1143: DataConversionWarning: A column-vector y was passed when a 1d array was expected. Please change the shape of y to (n_samples, ), for example using ravel().\n",
      "  y = column_or_1d(y, warn=True)\n"
     ]
    },
    {
     "name": "stdout",
     "output_type": "stream",
     "text": [
      "Compiled Model: 290\n",
      "\n"
     ]
    },
    {
     "name": "stderr",
     "output_type": "stream",
     "text": [
      "/Users/achyuth/miniconda3/envs/Proj/lib/python3.10/site-packages/sklearn/utils/validation.py:1143: DataConversionWarning: A column-vector y was passed when a 1d array was expected. Please change the shape of y to (n_samples, ), for example using ravel().\n",
      "  y = column_or_1d(y, warn=True)\n"
     ]
    },
    {
     "name": "stdout",
     "output_type": "stream",
     "text": [
      "Compiled Model: 291\n",
      "\n"
     ]
    },
    {
     "name": "stderr",
     "output_type": "stream",
     "text": [
      "/Users/achyuth/miniconda3/envs/Proj/lib/python3.10/site-packages/sklearn/utils/validation.py:1143: DataConversionWarning: A column-vector y was passed when a 1d array was expected. Please change the shape of y to (n_samples, ), for example using ravel().\n",
      "  y = column_or_1d(y, warn=True)\n"
     ]
    },
    {
     "name": "stdout",
     "output_type": "stream",
     "text": [
      "Compiled Model: 292\n",
      "\n",
      "Compiled Model: 293\n",
      "\n",
      "Compiled Model: 294\n",
      "\n",
      "Compiled Model: 295\n",
      "\n",
      "Compiled Model: 296\n",
      "\n"
     ]
    },
    {
     "name": "stderr",
     "output_type": "stream",
     "text": [
      "/Users/achyuth/miniconda3/envs/Proj/lib/python3.10/site-packages/sklearn/utils/validation.py:1143: DataConversionWarning: A column-vector y was passed when a 1d array was expected. Please change the shape of y to (n_samples, ), for example using ravel().\n",
      "  y = column_or_1d(y, warn=True)\n"
     ]
    },
    {
     "name": "stdout",
     "output_type": "stream",
     "text": [
      "Compiled Model: 297\n",
      "\n"
     ]
    },
    {
     "name": "stderr",
     "output_type": "stream",
     "text": [
      "/Users/achyuth/miniconda3/envs/Proj/lib/python3.10/site-packages/sklearn/utils/validation.py:1143: DataConversionWarning: A column-vector y was passed when a 1d array was expected. Please change the shape of y to (n_samples, ), for example using ravel().\n",
      "  y = column_or_1d(y, warn=True)\n"
     ]
    },
    {
     "name": "stdout",
     "output_type": "stream",
     "text": [
      "Compiled Model: 298\n",
      "\n"
     ]
    },
    {
     "name": "stderr",
     "output_type": "stream",
     "text": [
      "/Users/achyuth/miniconda3/envs/Proj/lib/python3.10/site-packages/sklearn/utils/validation.py:1143: DataConversionWarning: A column-vector y was passed when a 1d array was expected. Please change the shape of y to (n_samples, ), for example using ravel().\n",
      "  y = column_or_1d(y, warn=True)\n"
     ]
    },
    {
     "name": "stdout",
     "output_type": "stream",
     "text": [
      "Compiled Model: 299\n",
      "\n"
     ]
    },
    {
     "name": "stderr",
     "output_type": "stream",
     "text": [
      "/Users/achyuth/miniconda3/envs/Proj/lib/python3.10/site-packages/sklearn/utils/validation.py:1143: DataConversionWarning: A column-vector y was passed when a 1d array was expected. Please change the shape of y to (n_samples, ), for example using ravel().\n",
      "  y = column_or_1d(y, warn=True)\n"
     ]
    },
    {
     "name": "stdout",
     "output_type": "stream",
     "text": [
      "Compiled Model: 300\n",
      "\n",
      "Compiled Model: 301\n",
      "\n",
      "Compiled Model: 302\n",
      "\n",
      "Compiled Model: 303\n",
      "\n",
      "Compiled Model: 304\n",
      "\n"
     ]
    },
    {
     "name": "stderr",
     "output_type": "stream",
     "text": [
      "/Users/achyuth/miniconda3/envs/Proj/lib/python3.10/site-packages/sklearn/utils/validation.py:1143: DataConversionWarning: A column-vector y was passed when a 1d array was expected. Please change the shape of y to (n_samples, ), for example using ravel().\n",
      "  y = column_or_1d(y, warn=True)\n"
     ]
    },
    {
     "name": "stdout",
     "output_type": "stream",
     "text": [
      "Compiled Model: 305\n",
      "\n"
     ]
    },
    {
     "name": "stderr",
     "output_type": "stream",
     "text": [
      "/Users/achyuth/miniconda3/envs/Proj/lib/python3.10/site-packages/sklearn/utils/validation.py:1143: DataConversionWarning: A column-vector y was passed when a 1d array was expected. Please change the shape of y to (n_samples, ), for example using ravel().\n",
      "  y = column_or_1d(y, warn=True)\n"
     ]
    },
    {
     "name": "stdout",
     "output_type": "stream",
     "text": [
      "Compiled Model: 306\n",
      "\n"
     ]
    },
    {
     "name": "stderr",
     "output_type": "stream",
     "text": [
      "/Users/achyuth/miniconda3/envs/Proj/lib/python3.10/site-packages/sklearn/utils/validation.py:1143: DataConversionWarning: A column-vector y was passed when a 1d array was expected. Please change the shape of y to (n_samples, ), for example using ravel().\n",
      "  y = column_or_1d(y, warn=True)\n"
     ]
    },
    {
     "name": "stdout",
     "output_type": "stream",
     "text": [
      "Compiled Model: 307\n",
      "\n"
     ]
    },
    {
     "name": "stderr",
     "output_type": "stream",
     "text": [
      "/Users/achyuth/miniconda3/envs/Proj/lib/python3.10/site-packages/sklearn/utils/validation.py:1143: DataConversionWarning: A column-vector y was passed when a 1d array was expected. Please change the shape of y to (n_samples, ), for example using ravel().\n",
      "  y = column_or_1d(y, warn=True)\n"
     ]
    },
    {
     "name": "stdout",
     "output_type": "stream",
     "text": [
      "Compiled Model: 308\n",
      "\n",
      "Compiled Model: 309\n",
      "\n",
      "Compiled Model: 310\n",
      "\n",
      "Compiled Model: 311\n",
      "\n",
      "Compiled Model: 312\n",
      "\n"
     ]
    },
    {
     "name": "stderr",
     "output_type": "stream",
     "text": [
      "/Users/achyuth/miniconda3/envs/Proj/lib/python3.10/site-packages/sklearn/utils/validation.py:1143: DataConversionWarning: A column-vector y was passed when a 1d array was expected. Please change the shape of y to (n_samples, ), for example using ravel().\n",
      "  y = column_or_1d(y, warn=True)\n"
     ]
    },
    {
     "name": "stdout",
     "output_type": "stream",
     "text": [
      "Compiled Model: 313\n",
      "\n"
     ]
    },
    {
     "name": "stderr",
     "output_type": "stream",
     "text": [
      "/Users/achyuth/miniconda3/envs/Proj/lib/python3.10/site-packages/sklearn/utils/validation.py:1143: DataConversionWarning: A column-vector y was passed when a 1d array was expected. Please change the shape of y to (n_samples, ), for example using ravel().\n",
      "  y = column_or_1d(y, warn=True)\n"
     ]
    },
    {
     "name": "stdout",
     "output_type": "stream",
     "text": [
      "Compiled Model: 314\n",
      "\n"
     ]
    },
    {
     "name": "stderr",
     "output_type": "stream",
     "text": [
      "/Users/achyuth/miniconda3/envs/Proj/lib/python3.10/site-packages/sklearn/utils/validation.py:1143: DataConversionWarning: A column-vector y was passed when a 1d array was expected. Please change the shape of y to (n_samples, ), for example using ravel().\n",
      "  y = column_or_1d(y, warn=True)\n"
     ]
    },
    {
     "name": "stdout",
     "output_type": "stream",
     "text": [
      "Compiled Model: 315\n",
      "\n"
     ]
    },
    {
     "name": "stderr",
     "output_type": "stream",
     "text": [
      "/Users/achyuth/miniconda3/envs/Proj/lib/python3.10/site-packages/sklearn/utils/validation.py:1143: DataConversionWarning: A column-vector y was passed when a 1d array was expected. Please change the shape of y to (n_samples, ), for example using ravel().\n",
      "  y = column_or_1d(y, warn=True)\n"
     ]
    },
    {
     "name": "stdout",
     "output_type": "stream",
     "text": [
      "Compiled Model: 316\n",
      "\n",
      "Compiled Model: 317\n",
      "\n",
      "Compiled Model: 318\n",
      "\n",
      "Compiled Model: 319\n",
      "\n",
      "Compiled Model: 320\n",
      "\n",
      "Compiled Model: 321\n",
      "\n",
      "Compiled Model: 322\n",
      "\n",
      "Compiled Model: 323\n",
      "\n",
      "Compiled Model: 324\n",
      "\n",
      "Compiled Model: 325\n",
      "\n",
      "Compiled Model: 326\n",
      "\n",
      "Compiled Model: 327\n",
      "\n",
      "Compiled Model: 328\n",
      "\n"
     ]
    },
    {
     "name": "stderr",
     "output_type": "stream",
     "text": [
      "/Users/achyuth/miniconda3/envs/Proj/lib/python3.10/site-packages/sklearn/utils/validation.py:1143: DataConversionWarning: A column-vector y was passed when a 1d array was expected. Please change the shape of y to (n_samples, ), for example using ravel().\n",
      "  y = column_or_1d(y, warn=True)\n"
     ]
    },
    {
     "name": "stdout",
     "output_type": "stream",
     "text": [
      "Compiled Model: 329\n",
      "\n"
     ]
    },
    {
     "name": "stderr",
     "output_type": "stream",
     "text": [
      "/Users/achyuth/miniconda3/envs/Proj/lib/python3.10/site-packages/sklearn/utils/validation.py:1143: DataConversionWarning: A column-vector y was passed when a 1d array was expected. Please change the shape of y to (n_samples, ), for example using ravel().\n",
      "  y = column_or_1d(y, warn=True)\n"
     ]
    },
    {
     "name": "stdout",
     "output_type": "stream",
     "text": [
      "Compiled Model: 330\n",
      "\n"
     ]
    },
    {
     "name": "stderr",
     "output_type": "stream",
     "text": [
      "/Users/achyuth/miniconda3/envs/Proj/lib/python3.10/site-packages/sklearn/utils/validation.py:1143: DataConversionWarning: A column-vector y was passed when a 1d array was expected. Please change the shape of y to (n_samples, ), for example using ravel().\n",
      "  y = column_or_1d(y, warn=True)\n"
     ]
    },
    {
     "name": "stdout",
     "output_type": "stream",
     "text": [
      "Compiled Model: 331\n",
      "\n"
     ]
    },
    {
     "name": "stderr",
     "output_type": "stream",
     "text": [
      "/Users/achyuth/miniconda3/envs/Proj/lib/python3.10/site-packages/sklearn/utils/validation.py:1143: DataConversionWarning: A column-vector y was passed when a 1d array was expected. Please change the shape of y to (n_samples, ), for example using ravel().\n",
      "  y = column_or_1d(y, warn=True)\n"
     ]
    },
    {
     "name": "stdout",
     "output_type": "stream",
     "text": [
      "Compiled Model: 332\n",
      "\n",
      "Compiled Model: 333\n",
      "\n",
      "Compiled Model: 334\n",
      "\n",
      "Compiled Model: 335\n",
      "\n",
      "Compiled Model: 336\n",
      "\n",
      "Compiled Model: 337\n",
      "\n",
      "Compiled Model: 338\n",
      "\n",
      "Compiled Model: 339\n",
      "\n",
      "Compiled Model: 340\n",
      "\n",
      "Compiled Model: 341\n",
      "\n",
      "Compiled Model: 342\n",
      "\n",
      "Compiled Model: 343\n",
      "\n",
      "Compiled Model: 344\n",
      "\n"
     ]
    },
    {
     "name": "stderr",
     "output_type": "stream",
     "text": [
      "/Users/achyuth/miniconda3/envs/Proj/lib/python3.10/site-packages/sklearn/utils/validation.py:1143: DataConversionWarning: A column-vector y was passed when a 1d array was expected. Please change the shape of y to (n_samples, ), for example using ravel().\n",
      "  y = column_or_1d(y, warn=True)\n",
      "/Users/achyuth/miniconda3/envs/Proj/lib/python3.10/site-packages/sklearn/linear_model/_sag.py:350: ConvergenceWarning: The max_iter was reached which means the coef_ did not converge\n",
      "  warnings.warn(\n",
      "/Users/achyuth/miniconda3/envs/Proj/lib/python3.10/site-packages/sklearn/utils/validation.py:1143: DataConversionWarning: A column-vector y was passed when a 1d array was expected. Please change the shape of y to (n_samples, ), for example using ravel().\n",
      "  y = column_or_1d(y, warn=True)\n"
     ]
    },
    {
     "name": "stdout",
     "output_type": "stream",
     "text": [
      "Compiled Model: 345\n",
      "\n"
     ]
    },
    {
     "name": "stderr",
     "output_type": "stream",
     "text": [
      "/Users/achyuth/miniconda3/envs/Proj/lib/python3.10/site-packages/sklearn/linear_model/_sag.py:350: ConvergenceWarning: The max_iter was reached which means the coef_ did not converge\n",
      "  warnings.warn(\n",
      "/Users/achyuth/miniconda3/envs/Proj/lib/python3.10/site-packages/sklearn/utils/validation.py:1143: DataConversionWarning: A column-vector y was passed when a 1d array was expected. Please change the shape of y to (n_samples, ), for example using ravel().\n",
      "  y = column_or_1d(y, warn=True)\n"
     ]
    },
    {
     "name": "stdout",
     "output_type": "stream",
     "text": [
      "Compiled Model: 346\n",
      "\n"
     ]
    },
    {
     "name": "stderr",
     "output_type": "stream",
     "text": [
      "/Users/achyuth/miniconda3/envs/Proj/lib/python3.10/site-packages/sklearn/linear_model/_sag.py:350: ConvergenceWarning: The max_iter was reached which means the coef_ did not converge\n",
      "  warnings.warn(\n",
      "/Users/achyuth/miniconda3/envs/Proj/lib/python3.10/site-packages/sklearn/utils/validation.py:1143: DataConversionWarning: A column-vector y was passed when a 1d array was expected. Please change the shape of y to (n_samples, ), for example using ravel().\n",
      "  y = column_or_1d(y, warn=True)\n"
     ]
    },
    {
     "name": "stdout",
     "output_type": "stream",
     "text": [
      "Compiled Model: 347\n",
      "\n"
     ]
    },
    {
     "name": "stderr",
     "output_type": "stream",
     "text": [
      "/Users/achyuth/miniconda3/envs/Proj/lib/python3.10/site-packages/sklearn/linear_model/_sag.py:350: ConvergenceWarning: The max_iter was reached which means the coef_ did not converge\n",
      "  warnings.warn(\n",
      "/Users/achyuth/miniconda3/envs/Proj/lib/python3.10/site-packages/sklearn/utils/validation.py:1143: DataConversionWarning: A column-vector y was passed when a 1d array was expected. Please change the shape of y to (n_samples, ), for example using ravel().\n",
      "  y = column_or_1d(y, warn=True)\n",
      "/Users/achyuth/miniconda3/envs/Proj/lib/python3.10/site-packages/sklearn/utils/validation.py:1143: DataConversionWarning: A column-vector y was passed when a 1d array was expected. Please change the shape of y to (n_samples, ), for example using ravel().\n",
      "  y = column_or_1d(y, warn=True)\n",
      "/Users/achyuth/miniconda3/envs/Proj/lib/python3.10/site-packages/sklearn/utils/validation.py:1143: DataConversionWarning: A column-vector y was passed when a 1d array was expected. Please change the shape of y to (n_samples, ), for example using ravel().\n",
      "  y = column_or_1d(y, warn=True)\n",
      "/Users/achyuth/miniconda3/envs/Proj/lib/python3.10/site-packages/sklearn/utils/validation.py:1143: DataConversionWarning: A column-vector y was passed when a 1d array was expected. Please change the shape of y to (n_samples, ), for example using ravel().\n",
      "  y = column_or_1d(y, warn=True)\n",
      "/Users/achyuth/miniconda3/envs/Proj/lib/python3.10/site-packages/sklearn/utils/validation.py:1143: DataConversionWarning: A column-vector y was passed when a 1d array was expected. Please change the shape of y to (n_samples, ), for example using ravel().\n",
      "  y = column_or_1d(y, warn=True)\n"
     ]
    },
    {
     "name": "stdout",
     "output_type": "stream",
     "text": [
      "Compiled Model: 348\n",
      "\n",
      "Compiled Model: 349\n",
      "\n",
      "Compiled Model: 350\n",
      "\n",
      "Compiled Model: 351\n",
      "\n",
      "Compiled Model: 352\n",
      "\n",
      "Compiled Model: 353\n",
      "\n",
      "Compiled Model: 354\n",
      "\n",
      "Compiled Model: 355\n",
      "\n",
      "Compiled Model: 356\n",
      "\n",
      "Compiled Model: 357\n",
      "\n",
      "Compiled Model: 358\n",
      "\n",
      "Compiled Model: 359\n",
      "\n",
      "Compiled Model: 360\n",
      "\n",
      "Compiled Model: 361\n",
      "\n",
      "Compiled Model: 362\n",
      "\n",
      "Compiled Model: 363\n",
      "\n",
      "Compiled Model: 364\n",
      "\n",
      "Compiled Model: 365\n",
      "\n",
      "Compiled Model: 366\n",
      "\n",
      "Compiled Model: 367\n",
      "\n",
      "Compiled Model: 368\n",
      "\n",
      "Compiled Model: 369\n",
      "\n",
      "Compiled Model: 370\n",
      "\n",
      "Compiled Model: 371\n",
      "\n",
      "Compiled Model: 372\n",
      "\n",
      "Compiled Model: 373\n",
      "\n",
      "Compiled Model: 374\n",
      "\n",
      "Compiled Model: 375\n",
      "\n",
      "Compiled Model: 376\n",
      "\n",
      "Compiled Model: 377\n",
      "\n",
      "Compiled Model: 378\n",
      "\n",
      "Compiled Model: 379\n",
      "\n",
      "Compiled Model: 380\n",
      "\n",
      "Compiled Model: 381\n",
      "\n",
      "Compiled Model: 382\n",
      "\n",
      "Compiled Model: 383\n",
      "\n",
      "Compiled Model: 384\n",
      "\n",
      "Compiled Model: 385\n",
      "\n",
      "Compiled Model: 386\n",
      "\n",
      "Compiled Model: 387\n",
      "\n",
      "Compiled Model: 388\n",
      "\n",
      "Compiled Model: 389\n",
      "\n",
      "Compiled Model: 390\n",
      "\n",
      "Compiled Model: 391\n",
      "\n",
      "Compiled Model: 392\n",
      "\n",
      "Compiled Model: 393\n",
      "\n",
      "Compiled Model: 394\n",
      "\n"
     ]
    },
    {
     "name": "stderr",
     "output_type": "stream",
     "text": [
      "/Users/achyuth/miniconda3/envs/Proj/lib/python3.10/site-packages/sklearn/utils/validation.py:1143: DataConversionWarning: A column-vector y was passed when a 1d array was expected. Please change the shape of y to (n_samples, ), for example using ravel().\n",
      "  y = column_or_1d(y, warn=True)\n",
      "/Users/achyuth/miniconda3/envs/Proj/lib/python3.10/site-packages/sklearn/utils/validation.py:1143: DataConversionWarning: A column-vector y was passed when a 1d array was expected. Please change the shape of y to (n_samples, ), for example using ravel().\n",
      "  y = column_or_1d(y, warn=True)\n"
     ]
    },
    {
     "name": "stdout",
     "output_type": "stream",
     "text": [
      "Compiled Model: 395\n",
      "\n",
      "Compiled Model: 396\n",
      "\n",
      "Compiled Model: 397\n",
      "\n",
      "Compiled Model: 398\n",
      "\n",
      "Compiled Model: 399\n",
      "\n",
      "Compiled Model: 400\n",
      "\n",
      "Compiled Model: 401\n",
      "\n",
      "Compiled Model: 402\n",
      "\n",
      "Compiled Model: 403\n",
      "\n",
      "Compiled Model: 404\n",
      "\n",
      "Compiled Model: 405\n",
      "\n",
      "Compiled Model: 406\n",
      "\n",
      "Compiled Model: 407\n",
      "\n",
      "Compiled Model: 408\n",
      "\n",
      "Compiled Model: 409\n",
      "\n",
      "Compiled Model: 410\n",
      "\n",
      "Compiled Model: 411\n",
      "\n",
      "Compiled Model: 412\n",
      "\n",
      "Compiled Model: 413\n",
      "\n",
      "Compiled Model: 414\n",
      "\n",
      "Compiled Model: 415\n",
      "\n",
      "Compiled Model: 416\n",
      "\n",
      "Compiled Model: 417\n",
      "\n",
      "Compiled Model: 418\n",
      "\n",
      "Compiled Model: 419\n",
      "\n",
      "Compiled Model: 420\n",
      "\n",
      "Compiled Model: 421\n",
      "\n",
      "Compiled Model: 422\n",
      "\n",
      "Compiled Model: 423\n",
      "\n",
      "Compiled Model: 424\n",
      "\n",
      "Compiled Model: 425\n",
      "\n",
      "Compiled Model: 426\n",
      "\n",
      "Compiled Model: 427\n",
      "\n",
      "Compiled Model: 428\n",
      "\n",
      "Compiled Model: 429\n",
      "\n",
      "Compiled Model: 430\n",
      "\n",
      "Compiled Model: 431\n",
      "\n",
      "Compiled Model: 432\n",
      "\n",
      "Compiled Model: 433\n",
      "\n",
      "Compiled Model: 434\n",
      "\n",
      "Compiled Model: 435\n",
      "\n",
      "Compiled Model: 436\n",
      "\n",
      "Compiled Model: 437\n",
      "\n",
      "Compiled Model: 438\n",
      "\n",
      "Compiled Model: 439\n",
      "\n",
      "Compiled Model: 440\n",
      "\n",
      "Compiled Model: 441\n",
      "\n",
      "Compiled Model: 442\n",
      "\n",
      "Compiled Model: 443\n",
      "\n",
      "Compiled Model: 444\n",
      "\n",
      "Compiled Model: 445\n",
      "\n",
      "Compiled Model: 446\n",
      "\n",
      "Compiled Model: 447\n",
      "\n",
      "Compiled Model: 448\n",
      "\n",
      "Compiled Model: 449\n",
      "\n",
      "Compiled Model: 450\n",
      "\n",
      "Compiled Model: 451\n",
      "\n",
      "Compiled Model: 452\n",
      "\n",
      "Compiled Model: 453\n",
      "\n",
      "Compiled Model: 454\n",
      "\n",
      "Compiled Model: 455\n",
      "\n",
      "Compiled Model: 456\n",
      "\n",
      "Compiled Model: 457\n",
      "\n",
      "Compiled Model: 458\n",
      "\n",
      "Compiled Model: 459\n",
      "\n",
      "Compiled Model: 460\n",
      "\n",
      "Compiled Model: 461\n",
      "\n",
      "Compiled Model: 462\n",
      "\n",
      "Compiled Model: 463\n",
      "\n",
      "Compiled Model: 464\n",
      "\n",
      "Compiled Model: 465\n",
      "\n",
      "Compiled Model: 466\n",
      "\n",
      "Compiled Model: 467\n",
      "\n",
      "Compiled Model: 468\n",
      "\n",
      "Compiled Model: 469\n",
      "\n",
      "Compiled Model: 470\n",
      "\n",
      "Compiled Model: 471\n",
      "\n",
      "Compiled Model: 472\n",
      "\n",
      "Compiled Model: 473\n",
      "\n",
      "Compiled Model: 474\n",
      "\n",
      "Compiled Model: 475\n",
      "\n",
      "Compiled Model: 476\n",
      "\n",
      "Compiled Model: 477\n",
      "\n",
      "Compiled Model: 478\n",
      "\n",
      "Compiled Model: 479\n",
      "\n",
      "Compiled Model: 480\n",
      "\n"
     ]
    },
    {
     "name": "stderr",
     "output_type": "stream",
     "text": [
      "/Users/achyuth/miniconda3/envs/Proj/lib/python3.10/site-packages/sklearn/utils/validation.py:1143: DataConversionWarning: A column-vector y was passed when a 1d array was expected. Please change the shape of y to (n_samples, ), for example using ravel().\n",
      "  y = column_or_1d(y, warn=True)\n",
      "/Users/achyuth/miniconda3/envs/Proj/lib/python3.10/site-packages/sklearn/utils/validation.py:1143: DataConversionWarning: A column-vector y was passed when a 1d array was expected. Please change the shape of y to (n_samples, ), for example using ravel().\n",
      "  y = column_or_1d(y, warn=True)\n",
      "/Users/achyuth/miniconda3/envs/Proj/lib/python3.10/site-packages/sklearn/utils/validation.py:1143: DataConversionWarning: A column-vector y was passed when a 1d array was expected. Please change the shape of y to (n_samples, ), for example using ravel().\n",
      "  y = column_or_1d(y, warn=True)\n",
      "/Users/achyuth/miniconda3/envs/Proj/lib/python3.10/site-packages/sklearn/utils/validation.py:1143: DataConversionWarning: A column-vector y was passed when a 1d array was expected. Please change the shape of y to (n_samples, ), for example using ravel().\n",
      "  y = column_or_1d(y, warn=True)\n",
      "/Users/achyuth/miniconda3/envs/Proj/lib/python3.10/site-packages/sklearn/utils/validation.py:1143: DataConversionWarning: A column-vector y was passed when a 1d array was expected. Please change the shape of y to (n_samples, ), for example using ravel().\n",
      "  y = column_or_1d(y, warn=True)\n",
      "/Users/achyuth/miniconda3/envs/Proj/lib/python3.10/site-packages/sklearn/utils/validation.py:1143: DataConversionWarning: A column-vector y was passed when a 1d array was expected. Please change the shape of y to (n_samples, ), for example using ravel().\n",
      "  y = column_or_1d(y, warn=True)\n"
     ]
    },
    {
     "name": "stdout",
     "output_type": "stream",
     "text": [
      "Compiled Model: 481\n",
      "\n"
     ]
    },
    {
     "name": "stderr",
     "output_type": "stream",
     "text": [
      "/Users/achyuth/miniconda3/envs/Proj/lib/python3.10/site-packages/sklearn/utils/validation.py:1143: DataConversionWarning: A column-vector y was passed when a 1d array was expected. Please change the shape of y to (n_samples, ), for example using ravel().\n",
      "  y = column_or_1d(y, warn=True)\n"
     ]
    },
    {
     "name": "stdout",
     "output_type": "stream",
     "text": [
      "Compiled Model: 482\n",
      "\n",
      "Compiled Model: 483\n",
      "\n"
     ]
    },
    {
     "name": "stderr",
     "output_type": "stream",
     "text": [
      "/Users/achyuth/miniconda3/envs/Proj/lib/python3.10/site-packages/sklearn/utils/validation.py:1143: DataConversionWarning: A column-vector y was passed when a 1d array was expected. Please change the shape of y to (n_samples, ), for example using ravel().\n",
      "  y = column_or_1d(y, warn=True)\n",
      "/Users/achyuth/miniconda3/envs/Proj/lib/python3.10/site-packages/sklearn/utils/validation.py:1143: DataConversionWarning: A column-vector y was passed when a 1d array was expected. Please change the shape of y to (n_samples, ), for example using ravel().\n",
      "  y = column_or_1d(y, warn=True)\n",
      "/Users/achyuth/miniconda3/envs/Proj/lib/python3.10/site-packages/sklearn/utils/validation.py:1143: DataConversionWarning: A column-vector y was passed when a 1d array was expected. Please change the shape of y to (n_samples, ), for example using ravel().\n",
      "  y = column_or_1d(y, warn=True)\n"
     ]
    },
    {
     "name": "stdout",
     "output_type": "stream",
     "text": [
      "Compiled Model: 484\n",
      "\n",
      "Compiled Model: 485\n",
      "\n",
      "Compiled Model: 486\n",
      "\n",
      "Compiled Model: 487\n",
      "\n",
      "Compiled Model: 488\n",
      "\n",
      "Compiled Model: 489\n",
      "\n",
      "Compiled Model: 490\n",
      "\n"
     ]
    },
    {
     "name": "stderr",
     "output_type": "stream",
     "text": [
      "/Users/achyuth/miniconda3/envs/Proj/lib/python3.10/site-packages/sklearn/utils/validation.py:1143: DataConversionWarning: A column-vector y was passed when a 1d array was expected. Please change the shape of y to (n_samples, ), for example using ravel().\n",
      "  y = column_or_1d(y, warn=True)\n",
      "/Users/achyuth/miniconda3/envs/Proj/lib/python3.10/site-packages/sklearn/utils/validation.py:1143: DataConversionWarning: A column-vector y was passed when a 1d array was expected. Please change the shape of y to (n_samples, ), for example using ravel().\n",
      "  y = column_or_1d(y, warn=True)\n",
      "/Users/achyuth/miniconda3/envs/Proj/lib/python3.10/site-packages/sklearn/utils/validation.py:1143: DataConversionWarning: A column-vector y was passed when a 1d array was expected. Please change the shape of y to (n_samples, ), for example using ravel().\n",
      "  y = column_or_1d(y, warn=True)\n"
     ]
    },
    {
     "name": "stdout",
     "output_type": "stream",
     "text": [
      "Compiled Model: 491\n",
      "\n",
      "Compiled Model: 492\n",
      "\n",
      "Compiled Model: 493\n",
      "\n",
      "Compiled Model: 494\n",
      "\n",
      "Compiled Model: 495\n",
      "\n",
      "Compiled Model: 496\n",
      "\n"
     ]
    },
    {
     "name": "stderr",
     "output_type": "stream",
     "text": [
      "/Users/achyuth/miniconda3/envs/Proj/lib/python3.10/site-packages/sklearn/utils/validation.py:1143: DataConversionWarning: A column-vector y was passed when a 1d array was expected. Please change the shape of y to (n_samples, ), for example using ravel().\n",
      "  y = column_or_1d(y, warn=True)\n"
     ]
    },
    {
     "name": "stdout",
     "output_type": "stream",
     "text": [
      "Compiled Model: 497\n",
      "\n"
     ]
    },
    {
     "name": "stderr",
     "output_type": "stream",
     "text": [
      "/Users/achyuth/miniconda3/envs/Proj/lib/python3.10/site-packages/sklearn/utils/validation.py:1143: DataConversionWarning: A column-vector y was passed when a 1d array was expected. Please change the shape of y to (n_samples, ), for example using ravel().\n",
      "  y = column_or_1d(y, warn=True)\n"
     ]
    },
    {
     "name": "stdout",
     "output_type": "stream",
     "text": [
      "Compiled Model: 498\n",
      "\n"
     ]
    },
    {
     "name": "stderr",
     "output_type": "stream",
     "text": [
      "/Users/achyuth/miniconda3/envs/Proj/lib/python3.10/site-packages/sklearn/utils/validation.py:1143: DataConversionWarning: A column-vector y was passed when a 1d array was expected. Please change the shape of y to (n_samples, ), for example using ravel().\n",
      "  y = column_or_1d(y, warn=True)\n"
     ]
    },
    {
     "name": "stdout",
     "output_type": "stream",
     "text": [
      "Compiled Model: 499\n",
      "\n"
     ]
    },
    {
     "name": "stderr",
     "output_type": "stream",
     "text": [
      "/Users/achyuth/miniconda3/envs/Proj/lib/python3.10/site-packages/sklearn/utils/validation.py:1143: DataConversionWarning: A column-vector y was passed when a 1d array was expected. Please change the shape of y to (n_samples, ), for example using ravel().\n",
      "  y = column_or_1d(y, warn=True)\n"
     ]
    },
    {
     "name": "stdout",
     "output_type": "stream",
     "text": [
      "Compiled Model: 500\n",
      "\n",
      "Compiled Model: 501\n",
      "\n",
      "Compiled Model: 502\n",
      "\n",
      "Compiled Model: 503\n",
      "\n",
      "Compiled Model: 504\n",
      "\n"
     ]
    },
    {
     "name": "stderr",
     "output_type": "stream",
     "text": [
      "/Users/achyuth/miniconda3/envs/Proj/lib/python3.10/site-packages/sklearn/utils/validation.py:1143: DataConversionWarning: A column-vector y was passed when a 1d array was expected. Please change the shape of y to (n_samples, ), for example using ravel().\n",
      "  y = column_or_1d(y, warn=True)\n"
     ]
    },
    {
     "name": "stdout",
     "output_type": "stream",
     "text": [
      "Compiled Model: 505\n",
      "\n"
     ]
    },
    {
     "name": "stderr",
     "output_type": "stream",
     "text": [
      "/Users/achyuth/miniconda3/envs/Proj/lib/python3.10/site-packages/sklearn/utils/validation.py:1143: DataConversionWarning: A column-vector y was passed when a 1d array was expected. Please change the shape of y to (n_samples, ), for example using ravel().\n",
      "  y = column_or_1d(y, warn=True)\n"
     ]
    },
    {
     "name": "stdout",
     "output_type": "stream",
     "text": [
      "Compiled Model: 506\n",
      "\n"
     ]
    },
    {
     "name": "stderr",
     "output_type": "stream",
     "text": [
      "/Users/achyuth/miniconda3/envs/Proj/lib/python3.10/site-packages/sklearn/utils/validation.py:1143: DataConversionWarning: A column-vector y was passed when a 1d array was expected. Please change the shape of y to (n_samples, ), for example using ravel().\n",
      "  y = column_or_1d(y, warn=True)\n"
     ]
    },
    {
     "name": "stdout",
     "output_type": "stream",
     "text": [
      "Compiled Model: 507\n",
      "\n"
     ]
    },
    {
     "name": "stderr",
     "output_type": "stream",
     "text": [
      "/Users/achyuth/miniconda3/envs/Proj/lib/python3.10/site-packages/sklearn/utils/validation.py:1143: DataConversionWarning: A column-vector y was passed when a 1d array was expected. Please change the shape of y to (n_samples, ), for example using ravel().\n",
      "  y = column_or_1d(y, warn=True)\n"
     ]
    },
    {
     "name": "stdout",
     "output_type": "stream",
     "text": [
      "Compiled Model: 508\n",
      "\n",
      "Compiled Model: 509\n",
      "\n",
      "Compiled Model: 510\n",
      "\n",
      "Compiled Model: 511\n",
      "\n",
      "Compiled Model: 512\n",
      "\n",
      "Compiled Model: 513\n",
      "\n",
      "Compiled Model: 514\n",
      "\n",
      "Compiled Model: 515\n",
      "\n",
      "Compiled Model: 516\n",
      "\n",
      "Compiled Model: 517\n",
      "\n",
      "Compiled Model: 518\n",
      "\n",
      "Compiled Model: 519\n",
      "\n",
      "Compiled Model: 520\n",
      "\n"
     ]
    },
    {
     "name": "stderr",
     "output_type": "stream",
     "text": [
      "/Users/achyuth/miniconda3/envs/Proj/lib/python3.10/site-packages/sklearn/utils/validation.py:1143: DataConversionWarning: A column-vector y was passed when a 1d array was expected. Please change the shape of y to (n_samples, ), for example using ravel().\n",
      "  y = column_or_1d(y, warn=True)\n"
     ]
    },
    {
     "name": "stdout",
     "output_type": "stream",
     "text": [
      "Compiled Model: 521\n",
      "\n"
     ]
    },
    {
     "name": "stderr",
     "output_type": "stream",
     "text": [
      "/Users/achyuth/miniconda3/envs/Proj/lib/python3.10/site-packages/sklearn/utils/validation.py:1143: DataConversionWarning: A column-vector y was passed when a 1d array was expected. Please change the shape of y to (n_samples, ), for example using ravel().\n",
      "  y = column_or_1d(y, warn=True)\n"
     ]
    },
    {
     "name": "stdout",
     "output_type": "stream",
     "text": [
      "Compiled Model: 522\n",
      "\n"
     ]
    },
    {
     "name": "stderr",
     "output_type": "stream",
     "text": [
      "/Users/achyuth/miniconda3/envs/Proj/lib/python3.10/site-packages/sklearn/utils/validation.py:1143: DataConversionWarning: A column-vector y was passed when a 1d array was expected. Please change the shape of y to (n_samples, ), for example using ravel().\n",
      "  y = column_or_1d(y, warn=True)\n"
     ]
    },
    {
     "name": "stdout",
     "output_type": "stream",
     "text": [
      "Compiled Model: 523\n",
      "\n"
     ]
    },
    {
     "name": "stderr",
     "output_type": "stream",
     "text": [
      "/Users/achyuth/miniconda3/envs/Proj/lib/python3.10/site-packages/sklearn/utils/validation.py:1143: DataConversionWarning: A column-vector y was passed when a 1d array was expected. Please change the shape of y to (n_samples, ), for example using ravel().\n",
      "  y = column_or_1d(y, warn=True)\n"
     ]
    },
    {
     "name": "stdout",
     "output_type": "stream",
     "text": [
      "Compiled Model: 524\n",
      "\n",
      "Compiled Model: 525\n",
      "\n",
      "Compiled Model: 526\n",
      "\n",
      "Compiled Model: 527\n",
      "\n",
      "Compiled Model: 528\n",
      "\n",
      "Compiled Model: 529\n",
      "\n",
      "Compiled Model: 530\n",
      "\n",
      "Compiled Model: 531\n",
      "\n",
      "Compiled Model: 532\n",
      "\n",
      "Compiled Model: 533\n",
      "\n",
      "Compiled Model: 534\n",
      "\n",
      "Compiled Model: 535\n",
      "\n",
      "Compiled Model: 536\n",
      "\n"
     ]
    },
    {
     "name": "stderr",
     "output_type": "stream",
     "text": [
      "/Users/achyuth/miniconda3/envs/Proj/lib/python3.10/site-packages/sklearn/utils/validation.py:1143: DataConversionWarning: A column-vector y was passed when a 1d array was expected. Please change the shape of y to (n_samples, ), for example using ravel().\n",
      "  y = column_or_1d(y, warn=True)\n"
     ]
    },
    {
     "name": "stdout",
     "output_type": "stream",
     "text": [
      "Compiled Model: 537\n",
      "\n"
     ]
    },
    {
     "name": "stderr",
     "output_type": "stream",
     "text": [
      "/Users/achyuth/miniconda3/envs/Proj/lib/python3.10/site-packages/sklearn/utils/validation.py:1143: DataConversionWarning: A column-vector y was passed when a 1d array was expected. Please change the shape of y to (n_samples, ), for example using ravel().\n",
      "  y = column_or_1d(y, warn=True)\n"
     ]
    },
    {
     "name": "stdout",
     "output_type": "stream",
     "text": [
      "Compiled Model: 538\n",
      "\n"
     ]
    },
    {
     "name": "stderr",
     "output_type": "stream",
     "text": [
      "/Users/achyuth/miniconda3/envs/Proj/lib/python3.10/site-packages/sklearn/utils/validation.py:1143: DataConversionWarning: A column-vector y was passed when a 1d array was expected. Please change the shape of y to (n_samples, ), for example using ravel().\n",
      "  y = column_or_1d(y, warn=True)\n"
     ]
    },
    {
     "name": "stdout",
     "output_type": "stream",
     "text": [
      "Compiled Model: 539\n",
      "\n"
     ]
    },
    {
     "name": "stderr",
     "output_type": "stream",
     "text": [
      "/Users/achyuth/miniconda3/envs/Proj/lib/python3.10/site-packages/sklearn/utils/validation.py:1143: DataConversionWarning: A column-vector y was passed when a 1d array was expected. Please change the shape of y to (n_samples, ), for example using ravel().\n",
      "  y = column_or_1d(y, warn=True)\n"
     ]
    },
    {
     "name": "stdout",
     "output_type": "stream",
     "text": [
      "Compiled Model: 540\n",
      "\n",
      "Compiled Model: 541\n",
      "\n",
      "Compiled Model: 542\n",
      "\n",
      "Compiled Model: 543\n",
      "\n",
      "Compiled Model: 544\n",
      "\n",
      "Compiled Model: 545\n",
      "\n",
      "Compiled Model: 546\n",
      "\n",
      "Compiled Model: 547\n",
      "\n",
      "Compiled Model: 548\n",
      "\n",
      "Compiled Model: 549\n",
      "\n",
      "Compiled Model: 550\n",
      "\n",
      "Compiled Model: 551\n",
      "\n",
      "Compiled Model: 552\n",
      "\n",
      "Compiled Model: 553\n",
      "\n",
      "Compiled Model: 554\n",
      "\n",
      "Compiled Model: 555\n",
      "\n",
      "Compiled Model: 556\n",
      "\n",
      "Compiled Model: 557\n",
      "\n",
      "Compiled Model: 558\n",
      "\n",
      "Compiled Model: 559\n",
      "\n",
      "Compiled Model: 560\n",
      "\n",
      "Compiled Model: 561\n",
      "\n",
      "Compiled Model: 562\n",
      "\n",
      "Compiled Model: 563\n",
      "\n",
      "Compiled Model: 564\n",
      "\n",
      "Compiled Model: 565\n",
      "\n",
      "Compiled Model: 566\n",
      "\n",
      "Compiled Model: 567\n",
      "\n",
      "Compiled Model: 568\n",
      "\n",
      "Compiled Model: 569\n",
      "\n",
      "Compiled Model: 570\n",
      "\n",
      "Compiled Model: 571\n",
      "\n",
      "Compiled Model: 572\n",
      "\n",
      "Compiled Model: 573\n",
      "\n",
      "Compiled Model: 574\n",
      "\n",
      "Compiled Model: 575\n",
      "\n",
      "Compiled Model: 576\n",
      "\n",
      "Compiled Model: 577\n",
      "\n",
      "Compiled Model: 578\n",
      "\n",
      "Compiled Model: 579\n",
      "\n",
      "Compiled Model: 580\n",
      "\n",
      "Compiled Model: 581\n",
      "\n",
      "Compiled Model: 582\n",
      "\n",
      "Compiled Model: 583\n",
      "\n",
      "Compiled Model: 584\n",
      "\n"
     ]
    },
    {
     "name": "stderr",
     "output_type": "stream",
     "text": [
      "/Users/achyuth/miniconda3/envs/Proj/lib/python3.10/site-packages/sklearn/utils/validation.py:1143: DataConversionWarning: A column-vector y was passed when a 1d array was expected. Please change the shape of y to (n_samples, ), for example using ravel().\n",
      "  y = column_or_1d(y, warn=True)\n",
      "/Users/achyuth/miniconda3/envs/Proj/lib/python3.10/site-packages/sklearn/utils/validation.py:1143: DataConversionWarning: A column-vector y was passed when a 1d array was expected. Please change the shape of y to (n_samples, ), for example using ravel().\n",
      "  y = column_or_1d(y, warn=True)\n",
      "/Users/achyuth/miniconda3/envs/Proj/lib/python3.10/site-packages/sklearn/utils/validation.py:1143: DataConversionWarning: A column-vector y was passed when a 1d array was expected. Please change the shape of y to (n_samples, ), for example using ravel().\n",
      "  y = column_or_1d(y, warn=True)\n",
      "/Users/achyuth/miniconda3/envs/Proj/lib/python3.10/site-packages/sklearn/utils/validation.py:1143: DataConversionWarning: A column-vector y was passed when a 1d array was expected. Please change the shape of y to (n_samples, ), for example using ravel().\n",
      "  y = column_or_1d(y, warn=True)\n",
      "/Users/achyuth/miniconda3/envs/Proj/lib/python3.10/site-packages/sklearn/utils/validation.py:1143: DataConversionWarning: A column-vector y was passed when a 1d array was expected. Please change the shape of y to (n_samples, ), for example using ravel().\n",
      "  y = column_or_1d(y, warn=True)\n"
     ]
    },
    {
     "name": "stdout",
     "output_type": "stream",
     "text": [
      "Compiled Model: 585\n",
      "\n"
     ]
    },
    {
     "name": "stderr",
     "output_type": "stream",
     "text": [
      "/Users/achyuth/miniconda3/envs/Proj/lib/python3.10/site-packages/sklearn/utils/validation.py:1143: DataConversionWarning: A column-vector y was passed when a 1d array was expected. Please change the shape of y to (n_samples, ), for example using ravel().\n",
      "  y = column_or_1d(y, warn=True)\n"
     ]
    },
    {
     "name": "stdout",
     "output_type": "stream",
     "text": [
      "Compiled Model: 586\n",
      "\n",
      "Compiled Model: 587\n",
      "\n"
     ]
    },
    {
     "name": "stderr",
     "output_type": "stream",
     "text": [
      "/Users/achyuth/miniconda3/envs/Proj/lib/python3.10/site-packages/sklearn/utils/validation.py:1143: DataConversionWarning: A column-vector y was passed when a 1d array was expected. Please change the shape of y to (n_samples, ), for example using ravel().\n",
      "  y = column_or_1d(y, warn=True)\n",
      "/Users/achyuth/miniconda3/envs/Proj/lib/python3.10/site-packages/sklearn/utils/validation.py:1143: DataConversionWarning: A column-vector y was passed when a 1d array was expected. Please change the shape of y to (n_samples, ), for example using ravel().\n",
      "  y = column_or_1d(y, warn=True)\n"
     ]
    },
    {
     "name": "stdout",
     "output_type": "stream",
     "text": [
      "Compiled Model: 588\n",
      "\n",
      "Compiled Model: 589\n",
      "\n",
      "Compiled Model: 590\n",
      "\n",
      "Compiled Model: 591\n",
      "\n",
      "Compiled Model: 592\n",
      "\n",
      "Compiled Model: 593\n",
      "\n",
      "Compiled Model: 594\n",
      "\n",
      "Compiled Model: 595\n",
      "\n",
      "Compiled Model: 596\n",
      "\n",
      "Compiled Model: 597\n",
      "\n",
      "Compiled Model: 598\n",
      "\n",
      "Compiled Model: 599\n",
      "\n",
      "Compiled Model: 600\n",
      "\n",
      "Compiled Model: 601\n",
      "\n",
      "Compiled Model: 602\n",
      "\n",
      "Compiled Model: 603\n",
      "\n",
      "Compiled Model: 604\n",
      "\n",
      "Compiled Model: 605\n",
      "\n",
      "Compiled Model: 606\n",
      "\n",
      "Compiled Model: 607\n",
      "\n",
      "Compiled Model: 608\n",
      "\n",
      "Compiled Model: 609\n",
      "\n",
      "Compiled Model: 610\n",
      "\n",
      "Compiled Model: 611\n",
      "\n",
      "Compiled Model: 612\n",
      "\n",
      "Compiled Model: 613\n",
      "\n",
      "Compiled Model: 614\n",
      "\n",
      "Compiled Model: 615\n",
      "\n",
      "Compiled Model: 616\n",
      "\n",
      "Compiled Model: 617\n",
      "\n",
      "Compiled Model: 618\n",
      "\n",
      "Compiled Model: 619\n",
      "\n",
      "Compiled Model: 620\n",
      "\n",
      "Compiled Model: 621\n",
      "\n",
      "Compiled Model: 622\n",
      "\n",
      "Compiled Model: 623\n",
      "\n",
      "Compiled Model: 624\n",
      "\n",
      "Compiled Model: 625\n",
      "\n",
      "Compiled Model: 626\n",
      "\n",
      "Compiled Model: 627\n",
      "\n",
      "Compiled Model: 628\n",
      "\n",
      "Compiled Model: 629\n",
      "\n",
      "Compiled Model: 630\n",
      "\n",
      "Compiled Model: 631\n",
      "\n",
      "Compiled Model: 632\n",
      "\n",
      "Compiled Model: 633\n",
      "\n",
      "Compiled Model: 634\n",
      "\n",
      "Compiled Model: 635\n",
      "\n",
      "Compiled Model: 636\n",
      "\n",
      "Compiled Model: 637\n",
      "\n",
      "Compiled Model: 638\n",
      "\n",
      "Compiled Model: 639\n",
      "\n",
      "Compiled Model: 640\n",
      "\n",
      "Compiled Model: 641\n",
      "\n",
      "Compiled Model: 642\n",
      "\n",
      "Compiled Model: 643\n",
      "\n",
      "Compiled Model: 644\n",
      "\n",
      "Compiled Model: 645\n",
      "\n",
      "Compiled Model: 646\n",
      "\n",
      "Compiled Model: 647\n",
      "\n",
      "Compiled Model: 648\n",
      "\n",
      "Compiled Model: 649\n",
      "\n",
      "Compiled Model: 650\n",
      "\n",
      "Compiled Model: 651\n",
      "\n",
      "Compiled Model: 652\n",
      "\n",
      "Compiled Model: 653\n",
      "\n",
      "Compiled Model: 654\n",
      "\n",
      "Compiled Model: 655\n",
      "\n",
      "Compiled Model: 656\n",
      "\n",
      "Compiled Model: 657\n",
      "\n",
      "Compiled Model: 658\n",
      "\n",
      "Compiled Model: 659\n",
      "\n",
      "Compiled Model: 660\n",
      "\n",
      "Compiled Model: 661\n",
      "\n",
      "Compiled Model: 662\n",
      "\n",
      "Compiled Model: 663\n",
      "\n",
      "Compiled Model: 664\n",
      "\n",
      "Compiled Model: 665\n",
      "\n",
      "Compiled Model: 666\n",
      "\n",
      "Compiled Model: 667\n",
      "\n",
      "Compiled Model: 668\n",
      "\n",
      "Compiled Model: 669\n",
      "\n",
      "Compiled Model: 670\n",
      "\n",
      "Compiled Model: 671\n",
      "\n",
      "Compiled Model: 672\n",
      "\n"
     ]
    },
    {
     "name": "stderr",
     "output_type": "stream",
     "text": [
      "/Users/achyuth/miniconda3/envs/Proj/lib/python3.10/site-packages/sklearn/utils/validation.py:1143: DataConversionWarning: A column-vector y was passed when a 1d array was expected. Please change the shape of y to (n_samples, ), for example using ravel().\n",
      "  y = column_or_1d(y, warn=True)\n",
      "/Users/achyuth/miniconda3/envs/Proj/lib/python3.10/site-packages/sklearn/utils/validation.py:1143: DataConversionWarning: A column-vector y was passed when a 1d array was expected. Please change the shape of y to (n_samples, ), for example using ravel().\n",
      "  y = column_or_1d(y, warn=True)\n",
      "/Users/achyuth/miniconda3/envs/Proj/lib/python3.10/site-packages/sklearn/utils/validation.py:1143: DataConversionWarning: A column-vector y was passed when a 1d array was expected. Please change the shape of y to (n_samples, ), for example using ravel().\n",
      "  y = column_or_1d(y, warn=True)\n",
      "/Users/achyuth/miniconda3/envs/Proj/lib/python3.10/site-packages/sklearn/utils/validation.py:1143: DataConversionWarning: A column-vector y was passed when a 1d array was expected. Please change the shape of y to (n_samples, ), for example using ravel().\n",
      "  y = column_or_1d(y, warn=True)\n",
      "/Users/achyuth/miniconda3/envs/Proj/lib/python3.10/site-packages/sklearn/utils/validation.py:1143: DataConversionWarning: A column-vector y was passed when a 1d array was expected. Please change the shape of y to (n_samples, ), for example using ravel().\n",
      "  y = column_or_1d(y, warn=True)\n"
     ]
    },
    {
     "name": "stdout",
     "output_type": "stream",
     "text": [
      "Compiled Model: 673\n",
      "\n"
     ]
    },
    {
     "name": "stderr",
     "output_type": "stream",
     "text": [
      "/Users/achyuth/miniconda3/envs/Proj/lib/python3.10/site-packages/sklearn/utils/validation.py:1143: DataConversionWarning: A column-vector y was passed when a 1d array was expected. Please change the shape of y to (n_samples, ), for example using ravel().\n",
      "  y = column_or_1d(y, warn=True)\n"
     ]
    },
    {
     "name": "stdout",
     "output_type": "stream",
     "text": [
      "Compiled Model: 674\n",
      "\n",
      "Compiled Model: 675\n",
      "\n"
     ]
    },
    {
     "name": "stderr",
     "output_type": "stream",
     "text": [
      "/Users/achyuth/miniconda3/envs/Proj/lib/python3.10/site-packages/sklearn/utils/validation.py:1143: DataConversionWarning: A column-vector y was passed when a 1d array was expected. Please change the shape of y to (n_samples, ), for example using ravel().\n",
      "  y = column_or_1d(y, warn=True)\n",
      "/Users/achyuth/miniconda3/envs/Proj/lib/python3.10/site-packages/sklearn/utils/validation.py:1143: DataConversionWarning: A column-vector y was passed when a 1d array was expected. Please change the shape of y to (n_samples, ), for example using ravel().\n",
      "  y = column_or_1d(y, warn=True)\n"
     ]
    },
    {
     "name": "stdout",
     "output_type": "stream",
     "text": [
      "Compiled Model: 676\n",
      "\n",
      "Compiled Model: 677\n",
      "\n",
      "Compiled Model: 678\n",
      "\n",
      "Compiled Model: 679\n",
      "\n",
      "Compiled Model: 680\n",
      "\n"
     ]
    },
    {
     "name": "stderr",
     "output_type": "stream",
     "text": [
      "/Users/achyuth/miniconda3/envs/Proj/lib/python3.10/site-packages/sklearn/utils/validation.py:1143: DataConversionWarning: A column-vector y was passed when a 1d array was expected. Please change the shape of y to (n_samples, ), for example using ravel().\n",
      "  y = column_or_1d(y, warn=True)\n"
     ]
    },
    {
     "name": "stdout",
     "output_type": "stream",
     "text": [
      "Compiled Model: 681\n",
      "\n"
     ]
    },
    {
     "name": "stderr",
     "output_type": "stream",
     "text": [
      "/Users/achyuth/miniconda3/envs/Proj/lib/python3.10/site-packages/sklearn/utils/validation.py:1143: DataConversionWarning: A column-vector y was passed when a 1d array was expected. Please change the shape of y to (n_samples, ), for example using ravel().\n",
      "  y = column_or_1d(y, warn=True)\n"
     ]
    },
    {
     "name": "stdout",
     "output_type": "stream",
     "text": [
      "Compiled Model: 682\n",
      "\n"
     ]
    },
    {
     "name": "stderr",
     "output_type": "stream",
     "text": [
      "/Users/achyuth/miniconda3/envs/Proj/lib/python3.10/site-packages/sklearn/utils/validation.py:1143: DataConversionWarning: A column-vector y was passed when a 1d array was expected. Please change the shape of y to (n_samples, ), for example using ravel().\n",
      "  y = column_or_1d(y, warn=True)\n"
     ]
    },
    {
     "name": "stdout",
     "output_type": "stream",
     "text": [
      "Compiled Model: 683\n",
      "\n"
     ]
    },
    {
     "name": "stderr",
     "output_type": "stream",
     "text": [
      "/Users/achyuth/miniconda3/envs/Proj/lib/python3.10/site-packages/sklearn/utils/validation.py:1143: DataConversionWarning: A column-vector y was passed when a 1d array was expected. Please change the shape of y to (n_samples, ), for example using ravel().\n",
      "  y = column_or_1d(y, warn=True)\n"
     ]
    },
    {
     "name": "stdout",
     "output_type": "stream",
     "text": [
      "Compiled Model: 684\n",
      "\n",
      "Compiled Model: 685\n",
      "\n",
      "Compiled Model: 686\n",
      "\n",
      "Compiled Model: 687\n",
      "\n",
      "Compiled Model: 688\n",
      "\n"
     ]
    },
    {
     "name": "stderr",
     "output_type": "stream",
     "text": [
      "/Users/achyuth/miniconda3/envs/Proj/lib/python3.10/site-packages/sklearn/utils/validation.py:1143: DataConversionWarning: A column-vector y was passed when a 1d array was expected. Please change the shape of y to (n_samples, ), for example using ravel().\n",
      "  y = column_or_1d(y, warn=True)\n"
     ]
    },
    {
     "name": "stdout",
     "output_type": "stream",
     "text": [
      "Compiled Model: 689\n",
      "\n"
     ]
    },
    {
     "name": "stderr",
     "output_type": "stream",
     "text": [
      "/Users/achyuth/miniconda3/envs/Proj/lib/python3.10/site-packages/sklearn/utils/validation.py:1143: DataConversionWarning: A column-vector y was passed when a 1d array was expected. Please change the shape of y to (n_samples, ), for example using ravel().\n",
      "  y = column_or_1d(y, warn=True)\n"
     ]
    },
    {
     "name": "stdout",
     "output_type": "stream",
     "text": [
      "Compiled Model: 690\n",
      "\n"
     ]
    },
    {
     "name": "stderr",
     "output_type": "stream",
     "text": [
      "/Users/achyuth/miniconda3/envs/Proj/lib/python3.10/site-packages/sklearn/utils/validation.py:1143: DataConversionWarning: A column-vector y was passed when a 1d array was expected. Please change the shape of y to (n_samples, ), for example using ravel().\n",
      "  y = column_or_1d(y, warn=True)\n"
     ]
    },
    {
     "name": "stdout",
     "output_type": "stream",
     "text": [
      "Compiled Model: 691\n",
      "\n"
     ]
    },
    {
     "name": "stderr",
     "output_type": "stream",
     "text": [
      "/Users/achyuth/miniconda3/envs/Proj/lib/python3.10/site-packages/sklearn/utils/validation.py:1143: DataConversionWarning: A column-vector y was passed when a 1d array was expected. Please change the shape of y to (n_samples, ), for example using ravel().\n",
      "  y = column_or_1d(y, warn=True)\n"
     ]
    },
    {
     "name": "stdout",
     "output_type": "stream",
     "text": [
      "Compiled Model: 692\n",
      "\n",
      "Compiled Model: 693\n",
      "\n",
      "Compiled Model: 694\n",
      "\n",
      "Compiled Model: 695\n",
      "\n",
      "Compiled Model: 696\n",
      "\n"
     ]
    },
    {
     "name": "stderr",
     "output_type": "stream",
     "text": [
      "/Users/achyuth/miniconda3/envs/Proj/lib/python3.10/site-packages/sklearn/utils/validation.py:1143: DataConversionWarning: A column-vector y was passed when a 1d array was expected. Please change the shape of y to (n_samples, ), for example using ravel().\n",
      "  y = column_or_1d(y, warn=True)\n"
     ]
    },
    {
     "name": "stdout",
     "output_type": "stream",
     "text": [
      "Compiled Model: 697\n",
      "\n"
     ]
    },
    {
     "name": "stderr",
     "output_type": "stream",
     "text": [
      "/Users/achyuth/miniconda3/envs/Proj/lib/python3.10/site-packages/sklearn/utils/validation.py:1143: DataConversionWarning: A column-vector y was passed when a 1d array was expected. Please change the shape of y to (n_samples, ), for example using ravel().\n",
      "  y = column_or_1d(y, warn=True)\n"
     ]
    },
    {
     "name": "stdout",
     "output_type": "stream",
     "text": [
      "Compiled Model: 698\n",
      "\n"
     ]
    },
    {
     "name": "stderr",
     "output_type": "stream",
     "text": [
      "/Users/achyuth/miniconda3/envs/Proj/lib/python3.10/site-packages/sklearn/utils/validation.py:1143: DataConversionWarning: A column-vector y was passed when a 1d array was expected. Please change the shape of y to (n_samples, ), for example using ravel().\n",
      "  y = column_or_1d(y, warn=True)\n"
     ]
    },
    {
     "name": "stdout",
     "output_type": "stream",
     "text": [
      "Compiled Model: 699\n",
      "\n"
     ]
    },
    {
     "name": "stderr",
     "output_type": "stream",
     "text": [
      "/Users/achyuth/miniconda3/envs/Proj/lib/python3.10/site-packages/sklearn/utils/validation.py:1143: DataConversionWarning: A column-vector y was passed when a 1d array was expected. Please change the shape of y to (n_samples, ), for example using ravel().\n",
      "  y = column_or_1d(y, warn=True)\n"
     ]
    },
    {
     "name": "stdout",
     "output_type": "stream",
     "text": [
      "Compiled Model: 700\n",
      "\n",
      "Compiled Model: 701\n",
      "\n",
      "Compiled Model: 702\n",
      "\n",
      "Compiled Model: 703\n",
      "\n",
      "Compiled Model: 704\n",
      "\n",
      "Compiled Model: 705\n",
      "\n",
      "Compiled Model: 706\n",
      "\n",
      "Compiled Model: 707\n",
      "\n",
      "Compiled Model: 708\n",
      "\n",
      "Compiled Model: 709\n",
      "\n",
      "Compiled Model: 710\n",
      "\n",
      "Compiled Model: 711\n",
      "\n",
      "Compiled Model: 712\n",
      "\n"
     ]
    },
    {
     "name": "stderr",
     "output_type": "stream",
     "text": [
      "/Users/achyuth/miniconda3/envs/Proj/lib/python3.10/site-packages/sklearn/utils/validation.py:1143: DataConversionWarning: A column-vector y was passed when a 1d array was expected. Please change the shape of y to (n_samples, ), for example using ravel().\n",
      "  y = column_or_1d(y, warn=True)\n"
     ]
    },
    {
     "name": "stdout",
     "output_type": "stream",
     "text": [
      "Compiled Model: 713\n",
      "\n"
     ]
    },
    {
     "name": "stderr",
     "output_type": "stream",
     "text": [
      "/Users/achyuth/miniconda3/envs/Proj/lib/python3.10/site-packages/sklearn/utils/validation.py:1143: DataConversionWarning: A column-vector y was passed when a 1d array was expected. Please change the shape of y to (n_samples, ), for example using ravel().\n",
      "  y = column_or_1d(y, warn=True)\n"
     ]
    },
    {
     "name": "stdout",
     "output_type": "stream",
     "text": [
      "Compiled Model: 714\n",
      "\n"
     ]
    },
    {
     "name": "stderr",
     "output_type": "stream",
     "text": [
      "/Users/achyuth/miniconda3/envs/Proj/lib/python3.10/site-packages/sklearn/utils/validation.py:1143: DataConversionWarning: A column-vector y was passed when a 1d array was expected. Please change the shape of y to (n_samples, ), for example using ravel().\n",
      "  y = column_or_1d(y, warn=True)\n"
     ]
    },
    {
     "name": "stdout",
     "output_type": "stream",
     "text": [
      "Compiled Model: 715\n",
      "\n"
     ]
    },
    {
     "name": "stderr",
     "output_type": "stream",
     "text": [
      "/Users/achyuth/miniconda3/envs/Proj/lib/python3.10/site-packages/sklearn/utils/validation.py:1143: DataConversionWarning: A column-vector y was passed when a 1d array was expected. Please change the shape of y to (n_samples, ), for example using ravel().\n",
      "  y = column_or_1d(y, warn=True)\n"
     ]
    },
    {
     "name": "stdout",
     "output_type": "stream",
     "text": [
      "Compiled Model: 716\n",
      "\n",
      "Compiled Model: 717\n",
      "\n",
      "Compiled Model: 718\n",
      "\n",
      "Compiled Model: 719\n",
      "\n",
      "Compiled Model: 720\n",
      "\n",
      "Compiled Model: 721\n",
      "\n",
      "Compiled Model: 722\n",
      "\n",
      "Compiled Model: 723\n",
      "\n",
      "Compiled Model: 724\n",
      "\n",
      "Compiled Model: 725\n",
      "\n",
      "Compiled Model: 726\n",
      "\n",
      "Compiled Model: 727\n",
      "\n",
      "Compiled Model: 728\n",
      "\n"
     ]
    },
    {
     "name": "stderr",
     "output_type": "stream",
     "text": [
      "/Users/achyuth/miniconda3/envs/Proj/lib/python3.10/site-packages/sklearn/utils/validation.py:1143: DataConversionWarning: A column-vector y was passed when a 1d array was expected. Please change the shape of y to (n_samples, ), for example using ravel().\n",
      "  y = column_or_1d(y, warn=True)\n"
     ]
    },
    {
     "name": "stdout",
     "output_type": "stream",
     "text": [
      "Compiled Model: 729\n",
      "\n"
     ]
    },
    {
     "name": "stderr",
     "output_type": "stream",
     "text": [
      "/Users/achyuth/miniconda3/envs/Proj/lib/python3.10/site-packages/sklearn/utils/validation.py:1143: DataConversionWarning: A column-vector y was passed when a 1d array was expected. Please change the shape of y to (n_samples, ), for example using ravel().\n",
      "  y = column_or_1d(y, warn=True)\n"
     ]
    },
    {
     "name": "stdout",
     "output_type": "stream",
     "text": [
      "Compiled Model: 730\n",
      "\n"
     ]
    },
    {
     "name": "stderr",
     "output_type": "stream",
     "text": [
      "/Users/achyuth/miniconda3/envs/Proj/lib/python3.10/site-packages/sklearn/utils/validation.py:1143: DataConversionWarning: A column-vector y was passed when a 1d array was expected. Please change the shape of y to (n_samples, ), for example using ravel().\n",
      "  y = column_or_1d(y, warn=True)\n"
     ]
    },
    {
     "name": "stdout",
     "output_type": "stream",
     "text": [
      "Compiled Model: 731\n",
      "\n"
     ]
    },
    {
     "name": "stderr",
     "output_type": "stream",
     "text": [
      "/Users/achyuth/miniconda3/envs/Proj/lib/python3.10/site-packages/sklearn/utils/validation.py:1143: DataConversionWarning: A column-vector y was passed when a 1d array was expected. Please change the shape of y to (n_samples, ), for example using ravel().\n",
      "  y = column_or_1d(y, warn=True)\n"
     ]
    },
    {
     "name": "stdout",
     "output_type": "stream",
     "text": [
      "Compiled Model: 732\n",
      "\n",
      "Compiled Model: 733\n",
      "\n",
      "Compiled Model: 734\n",
      "\n",
      "Compiled Model: 735\n",
      "\n",
      "Compiled Model: 736\n",
      "\n",
      "Compiled Model: 737\n",
      "\n",
      "Compiled Model: 738\n",
      "\n",
      "Compiled Model: 739\n",
      "\n",
      "Compiled Model: 740\n",
      "\n",
      "Compiled Model: 741\n",
      "\n",
      "Compiled Model: 742\n",
      "\n",
      "Compiled Model: 743\n",
      "\n",
      "Compiled Model: 744\n",
      "\n",
      "Compiled Model: 745\n",
      "\n",
      "Compiled Model: 746\n",
      "\n",
      "Compiled Model: 747\n",
      "\n",
      "Compiled Model: 748\n",
      "\n",
      "Compiled Model: 749\n",
      "\n",
      "Compiled Model: 750\n",
      "\n",
      "Compiled Model: 751\n",
      "\n",
      "Compiled Model: 752\n",
      "\n",
      "Compiled Model: 753\n",
      "\n",
      "Compiled Model: 754\n",
      "\n",
      "Compiled Model: 755\n",
      "\n",
      "Compiled Model: 756\n",
      "\n",
      "Compiled Model: 757\n",
      "\n",
      "Compiled Model: 758\n",
      "\n",
      "Compiled Model: 759\n",
      "\n",
      "Compiled Model: 760\n",
      "\n",
      "Compiled Model: 761\n",
      "\n",
      "Compiled Model: 762\n",
      "\n",
      "Compiled Model: 763\n",
      "\n",
      "Compiled Model: 764\n",
      "\n",
      "Compiled Model: 765\n",
      "\n",
      "Compiled Model: 766\n",
      "\n",
      "Compiled Model: 767\n",
      "\n",
      "Compiled Model: 768\n",
      "\n",
      "Compiled Model: 769\n",
      "\n",
      "Compiled Model: 770\n",
      "\n",
      "Compiled Model: 771\n",
      "\n",
      "Compiled Model: 772\n",
      "\n",
      "Compiled Model: 773\n",
      "\n",
      "Compiled Model: 774\n",
      "\n",
      "Compiled Model: 775\n",
      "\n",
      "Compiled Model: 776\n",
      "\n"
     ]
    },
    {
     "name": "stderr",
     "output_type": "stream",
     "text": [
      "/Users/achyuth/miniconda3/envs/Proj/lib/python3.10/site-packages/sklearn/utils/validation.py:1143: DataConversionWarning: A column-vector y was passed when a 1d array was expected. Please change the shape of y to (n_samples, ), for example using ravel().\n",
      "  y = column_or_1d(y, warn=True)\n",
      "/Users/achyuth/miniconda3/envs/Proj/lib/python3.10/site-packages/sklearn/utils/validation.py:1143: DataConversionWarning: A column-vector y was passed when a 1d array was expected. Please change the shape of y to (n_samples, ), for example using ravel().\n",
      "  y = column_or_1d(y, warn=True)\n",
      "/Users/achyuth/miniconda3/envs/Proj/lib/python3.10/site-packages/sklearn/utils/validation.py:1143: DataConversionWarning: A column-vector y was passed when a 1d array was expected. Please change the shape of y to (n_samples, ), for example using ravel().\n",
      "  y = column_or_1d(y, warn=True)\n",
      "/Users/achyuth/miniconda3/envs/Proj/lib/python3.10/site-packages/sklearn/utils/validation.py:1143: DataConversionWarning: A column-vector y was passed when a 1d array was expected. Please change the shape of y to (n_samples, ), for example using ravel().\n",
      "  y = column_or_1d(y, warn=True)\n",
      "/Users/achyuth/miniconda3/envs/Proj/lib/python3.10/site-packages/sklearn/utils/validation.py:1143: DataConversionWarning: A column-vector y was passed when a 1d array was expected. Please change the shape of y to (n_samples, ), for example using ravel().\n",
      "  y = column_or_1d(y, warn=True)\n"
     ]
    },
    {
     "name": "stdout",
     "output_type": "stream",
     "text": [
      "Compiled Model: 777\n",
      "\n",
      "Compiled Model: 778\n",
      "\n"
     ]
    },
    {
     "name": "stderr",
     "output_type": "stream",
     "text": [
      "/Users/achyuth/miniconda3/envs/Proj/lib/python3.10/site-packages/sklearn/utils/validation.py:1143: DataConversionWarning: A column-vector y was passed when a 1d array was expected. Please change the shape of y to (n_samples, ), for example using ravel().\n",
      "  y = column_or_1d(y, warn=True)\n",
      "/Users/achyuth/miniconda3/envs/Proj/lib/python3.10/site-packages/sklearn/utils/validation.py:1143: DataConversionWarning: A column-vector y was passed when a 1d array was expected. Please change the shape of y to (n_samples, ), for example using ravel().\n",
      "  y = column_or_1d(y, warn=True)\n"
     ]
    },
    {
     "name": "stdout",
     "output_type": "stream",
     "text": [
      "Compiled Model: 779\n",
      "\n",
      "Compiled Model: 780\n",
      "\n",
      "Compiled Model: 781\n",
      "\n",
      "Compiled Model: 782\n",
      "\n",
      "Compiled Model: 783\n",
      "\n",
      "Compiled Model: 784\n",
      "\n",
      "Compiled Model: 785\n",
      "\n",
      "Compiled Model: 786\n",
      "\n",
      "Compiled Model: 787\n",
      "\n",
      "Compiled Model: 788\n",
      "\n",
      "Compiled Model: 789\n",
      "\n",
      "Compiled Model: 790\n",
      "\n",
      "Compiled Model: 791\n",
      "\n",
      "Compiled Model: 792\n",
      "\n",
      "Compiled Model: 793\n",
      "\n",
      "Compiled Model: 794\n",
      "\n",
      "Compiled Model: 795\n",
      "\n",
      "Compiled Model: 796\n",
      "\n",
      "Compiled Model: 797\n",
      "\n",
      "Compiled Model: 798\n",
      "\n",
      "Compiled Model: 799\n",
      "\n",
      "Compiled Model: 800\n",
      "\n",
      "Compiled Model: 801\n",
      "\n",
      "Compiled Model: 802\n",
      "\n",
      "Compiled Model: 803\n",
      "\n",
      "Compiled Model: 804\n",
      "\n",
      "Compiled Model: 805\n",
      "\n",
      "Compiled Model: 806\n",
      "\n",
      "Compiled Model: 807\n",
      "\n",
      "Compiled Model: 808\n",
      "\n",
      "Compiled Model: 809\n",
      "\n",
      "Compiled Model: 810\n",
      "\n",
      "Compiled Model: 811\n",
      "\n",
      "Compiled Model: 812\n",
      "\n",
      "Compiled Model: 813\n",
      "\n",
      "Compiled Model: 814\n",
      "\n",
      "Compiled Model: 815\n",
      "\n",
      "Compiled Model: 816\n",
      "\n",
      "Compiled Model: 817\n",
      "\n",
      "Compiled Model: 818\n",
      "\n",
      "Compiled Model: 819\n",
      "\n",
      "Compiled Model: 820\n",
      "\n",
      "Compiled Model: 821\n",
      "\n",
      "Compiled Model: 822\n",
      "\n",
      "Compiled Model: 823\n",
      "\n",
      "Compiled Model: 824\n",
      "\n",
      "Compiled Model: 825\n",
      "\n",
      "Compiled Model: 826\n",
      "\n",
      "Compiled Model: 827\n",
      "\n",
      "Compiled Model: 828\n",
      "\n",
      "Compiled Model: 829\n",
      "\n",
      "Compiled Model: 830\n",
      "\n",
      "Compiled Model: 831\n",
      "\n",
      "Compiled Model: 832\n",
      "\n",
      "Compiled Model: 833\n",
      "\n",
      "Compiled Model: 834\n",
      "\n",
      "Compiled Model: 835\n",
      "\n",
      "Compiled Model: 836\n",
      "\n",
      "Compiled Model: 837\n",
      "\n",
      "Compiled Model: 838\n",
      "\n",
      "Compiled Model: 839\n",
      "\n",
      "Compiled Model: 840\n",
      "\n",
      "Compiled Model: 841\n",
      "\n",
      "Compiled Model: 842\n",
      "\n",
      "Compiled Model: 843\n",
      "\n",
      "Compiled Model: 844\n",
      "\n",
      "Compiled Model: 845\n",
      "\n",
      "Compiled Model: 846\n",
      "\n",
      "Compiled Model: 847\n",
      "\n",
      "Compiled Model: 848\n",
      "\n",
      "Compiled Model: 849\n",
      "\n",
      "Compiled Model: 850\n",
      "\n",
      "Compiled Model: 851\n",
      "\n",
      "Compiled Model: 852\n",
      "\n",
      "Compiled Model: 853\n",
      "\n",
      "Compiled Model: 854\n",
      "\n",
      "Compiled Model: 855\n",
      "\n",
      "Compiled Model: 856\n",
      "\n",
      "Compiled Model: 857\n",
      "\n",
      "Compiled Model: 858\n",
      "\n",
      "Compiled Model: 859\n",
      "\n",
      "Compiled Model: 860\n",
      "\n",
      "Compiled Model: 861\n",
      "\n",
      "Compiled Model: 862\n",
      "\n",
      "Compiled Model: 863\n",
      "\n",
      "Compiled Model: 864\n",
      "\n"
     ]
    },
    {
     "name": "stderr",
     "output_type": "stream",
     "text": [
      "/Users/achyuth/miniconda3/envs/Proj/lib/python3.10/site-packages/sklearn/utils/validation.py:1143: DataConversionWarning: A column-vector y was passed when a 1d array was expected. Please change the shape of y to (n_samples, ), for example using ravel().\n",
      "  y = column_or_1d(y, warn=True)\n",
      "/Users/achyuth/miniconda3/envs/Proj/lib/python3.10/site-packages/sklearn/utils/validation.py:1143: DataConversionWarning: A column-vector y was passed when a 1d array was expected. Please change the shape of y to (n_samples, ), for example using ravel().\n",
      "  y = column_or_1d(y, warn=True)\n",
      "/Users/achyuth/miniconda3/envs/Proj/lib/python3.10/site-packages/sklearn/utils/validation.py:1143: DataConversionWarning: A column-vector y was passed when a 1d array was expected. Please change the shape of y to (n_samples, ), for example using ravel().\n",
      "  y = column_or_1d(y, warn=True)\n",
      "/Users/achyuth/miniconda3/envs/Proj/lib/python3.10/site-packages/sklearn/utils/validation.py:1143: DataConversionWarning: A column-vector y was passed when a 1d array was expected. Please change the shape of y to (n_samples, ), for example using ravel().\n",
      "  y = column_or_1d(y, warn=True)\n",
      "/Users/achyuth/miniconda3/envs/Proj/lib/python3.10/site-packages/sklearn/utils/validation.py:1143: DataConversionWarning: A column-vector y was passed when a 1d array was expected. Please change the shape of y to (n_samples, ), for example using ravel().\n",
      "  y = column_or_1d(y, warn=True)\n",
      "/Users/achyuth/miniconda3/envs/Proj/lib/python3.10/site-packages/sklearn/utils/validation.py:1143: DataConversionWarning: A column-vector y was passed when a 1d array was expected. Please change the shape of y to (n_samples, ), for example using ravel().\n",
      "  y = column_or_1d(y, warn=True)\n"
     ]
    },
    {
     "name": "stdout",
     "output_type": "stream",
     "text": [
      "Compiled Model: 865\n",
      "\n",
      "Compiled Model: 866\n",
      "\n"
     ]
    },
    {
     "name": "stderr",
     "output_type": "stream",
     "text": [
      "/Users/achyuth/miniconda3/envs/Proj/lib/python3.10/site-packages/sklearn/utils/validation.py:1143: DataConversionWarning: A column-vector y was passed when a 1d array was expected. Please change the shape of y to (n_samples, ), for example using ravel().\n",
      "  y = column_or_1d(y, warn=True)\n",
      "/Users/achyuth/miniconda3/envs/Proj/lib/python3.10/site-packages/sklearn/utils/validation.py:1143: DataConversionWarning: A column-vector y was passed when a 1d array was expected. Please change the shape of y to (n_samples, ), for example using ravel().\n",
      "  y = column_or_1d(y, warn=True)\n"
     ]
    },
    {
     "name": "stdout",
     "output_type": "stream",
     "text": [
      "Compiled Model: 867\n",
      "\n",
      "Compiled Model: 868\n",
      "\n",
      "Compiled Model: 869\n",
      "\n",
      "Compiled Model: 870\n",
      "\n",
      "Compiled Model: 871\n",
      "\n",
      "Compiled Model: 872\n",
      "\n"
     ]
    },
    {
     "name": "stderr",
     "output_type": "stream",
     "text": [
      "/Users/achyuth/miniconda3/envs/Proj/lib/python3.10/site-packages/sklearn/utils/validation.py:1143: DataConversionWarning: A column-vector y was passed when a 1d array was expected. Please change the shape of y to (n_samples, ), for example using ravel().\n",
      "  y = column_or_1d(y, warn=True)\n",
      "/Users/achyuth/miniconda3/envs/Proj/lib/python3.10/site-packages/sklearn/utils/validation.py:1143: DataConversionWarning: A column-vector y was passed when a 1d array was expected. Please change the shape of y to (n_samples, ), for example using ravel().\n",
      "  y = column_or_1d(y, warn=True)\n"
     ]
    },
    {
     "name": "stdout",
     "output_type": "stream",
     "text": [
      "Compiled Model: 873\n",
      "\n",
      "Compiled Model: 874\n",
      "\n"
     ]
    },
    {
     "name": "stderr",
     "output_type": "stream",
     "text": [
      "/Users/achyuth/miniconda3/envs/Proj/lib/python3.10/site-packages/sklearn/utils/validation.py:1143: DataConversionWarning: A column-vector y was passed when a 1d array was expected. Please change the shape of y to (n_samples, ), for example using ravel().\n",
      "  y = column_or_1d(y, warn=True)\n",
      "/Users/achyuth/miniconda3/envs/Proj/lib/python3.10/site-packages/sklearn/utils/validation.py:1143: DataConversionWarning: A column-vector y was passed when a 1d array was expected. Please change the shape of y to (n_samples, ), for example using ravel().\n",
      "  y = column_or_1d(y, warn=True)\n"
     ]
    },
    {
     "name": "stdout",
     "output_type": "stream",
     "text": [
      "Compiled Model: 875\n",
      "\n",
      "Compiled Model: 876\n",
      "\n",
      "Compiled Model: 877\n",
      "\n",
      "Compiled Model: 878\n",
      "\n",
      "Compiled Model: 879\n",
      "\n",
      "Compiled Model: 880\n",
      "\n"
     ]
    },
    {
     "name": "stderr",
     "output_type": "stream",
     "text": [
      "/Users/achyuth/miniconda3/envs/Proj/lib/python3.10/site-packages/sklearn/utils/validation.py:1143: DataConversionWarning: A column-vector y was passed when a 1d array was expected. Please change the shape of y to (n_samples, ), for example using ravel().\n",
      "  y = column_or_1d(y, warn=True)\n",
      "/Users/achyuth/miniconda3/envs/Proj/lib/python3.10/site-packages/sklearn/utils/validation.py:1143: DataConversionWarning: A column-vector y was passed when a 1d array was expected. Please change the shape of y to (n_samples, ), for example using ravel().\n",
      "  y = column_or_1d(y, warn=True)\n"
     ]
    },
    {
     "name": "stdout",
     "output_type": "stream",
     "text": [
      "Compiled Model: 881\n",
      "\n"
     ]
    },
    {
     "name": "stderr",
     "output_type": "stream",
     "text": [
      "/Users/achyuth/miniconda3/envs/Proj/lib/python3.10/site-packages/sklearn/utils/validation.py:1143: DataConversionWarning: A column-vector y was passed when a 1d array was expected. Please change the shape of y to (n_samples, ), for example using ravel().\n",
      "  y = column_or_1d(y, warn=True)\n"
     ]
    },
    {
     "name": "stdout",
     "output_type": "stream",
     "text": [
      "Compiled Model: 882\n",
      "\n",
      "Compiled Model: 883\n",
      "\n"
     ]
    },
    {
     "name": "stderr",
     "output_type": "stream",
     "text": [
      "/Users/achyuth/miniconda3/envs/Proj/lib/python3.10/site-packages/sklearn/utils/validation.py:1143: DataConversionWarning: A column-vector y was passed when a 1d array was expected. Please change the shape of y to (n_samples, ), for example using ravel().\n",
      "  y = column_or_1d(y, warn=True)\n",
      "/Users/achyuth/miniconda3/envs/Proj/lib/python3.10/site-packages/sklearn/utils/validation.py:1143: DataConversionWarning: A column-vector y was passed when a 1d array was expected. Please change the shape of y to (n_samples, ), for example using ravel().\n",
      "  y = column_or_1d(y, warn=True)\n"
     ]
    },
    {
     "name": "stdout",
     "output_type": "stream",
     "text": [
      "Compiled Model: 884\n",
      "\n",
      "Compiled Model: 885\n",
      "\n",
      "Compiled Model: 886\n",
      "\n",
      "Compiled Model: 887\n",
      "\n",
      "Compiled Model: 888\n",
      "\n"
     ]
    },
    {
     "name": "stderr",
     "output_type": "stream",
     "text": [
      "/Users/achyuth/miniconda3/envs/Proj/lib/python3.10/site-packages/sklearn/utils/validation.py:1143: DataConversionWarning: A column-vector y was passed when a 1d array was expected. Please change the shape of y to (n_samples, ), for example using ravel().\n",
      "  y = column_or_1d(y, warn=True)\n"
     ]
    },
    {
     "name": "stdout",
     "output_type": "stream",
     "text": [
      "Compiled Model: 889\n",
      "\n"
     ]
    },
    {
     "name": "stderr",
     "output_type": "stream",
     "text": [
      "/Users/achyuth/miniconda3/envs/Proj/lib/python3.10/site-packages/sklearn/utils/validation.py:1143: DataConversionWarning: A column-vector y was passed when a 1d array was expected. Please change the shape of y to (n_samples, ), for example using ravel().\n",
      "  y = column_or_1d(y, warn=True)\n"
     ]
    },
    {
     "name": "stdout",
     "output_type": "stream",
     "text": [
      "Compiled Model: 890\n",
      "\n"
     ]
    },
    {
     "name": "stderr",
     "output_type": "stream",
     "text": [
      "/Users/achyuth/miniconda3/envs/Proj/lib/python3.10/site-packages/sklearn/utils/validation.py:1143: DataConversionWarning: A column-vector y was passed when a 1d array was expected. Please change the shape of y to (n_samples, ), for example using ravel().\n",
      "  y = column_or_1d(y, warn=True)\n"
     ]
    },
    {
     "name": "stdout",
     "output_type": "stream",
     "text": [
      "Compiled Model: 891\n",
      "\n"
     ]
    },
    {
     "name": "stderr",
     "output_type": "stream",
     "text": [
      "/Users/achyuth/miniconda3/envs/Proj/lib/python3.10/site-packages/sklearn/utils/validation.py:1143: DataConversionWarning: A column-vector y was passed when a 1d array was expected. Please change the shape of y to (n_samples, ), for example using ravel().\n",
      "  y = column_or_1d(y, warn=True)\n"
     ]
    },
    {
     "name": "stdout",
     "output_type": "stream",
     "text": [
      "Compiled Model: 892\n",
      "\n",
      "Compiled Model: 893\n",
      "\n",
      "Compiled Model: 894\n",
      "\n",
      "Compiled Model: 895\n",
      "\n",
      "Compiled Model: 896\n",
      "\n",
      "Compiled Model: 897\n",
      "\n",
      "Compiled Model: 898\n",
      "\n",
      "Compiled Model: 899\n",
      "\n",
      "Compiled Model: 900\n",
      "\n",
      "Compiled Model: 901\n",
      "\n",
      "Compiled Model: 902\n",
      "\n",
      "Compiled Model: 903\n",
      "\n",
      "Compiled Model: 904\n",
      "\n",
      "Compiled Model: 905\n",
      "\n"
     ]
    },
    {
     "name": "stderr",
     "output_type": "stream",
     "text": [
      "/Users/achyuth/miniconda3/envs/Proj/lib/python3.10/site-packages/sklearn/utils/validation.py:1143: DataConversionWarning: A column-vector y was passed when a 1d array was expected. Please change the shape of y to (n_samples, ), for example using ravel().\n",
      "  y = column_or_1d(y, warn=True)\n",
      "/Users/achyuth/miniconda3/envs/Proj/lib/python3.10/site-packages/sklearn/utils/validation.py:1143: DataConversionWarning: A column-vector y was passed when a 1d array was expected. Please change the shape of y to (n_samples, ), for example using ravel().\n",
      "  y = column_or_1d(y, warn=True)\n"
     ]
    },
    {
     "name": "stdout",
     "output_type": "stream",
     "text": [
      "Compiled Model: 906\n",
      "\n",
      "Compiled Model: 907\n",
      "\n"
     ]
    },
    {
     "name": "stderr",
     "output_type": "stream",
     "text": [
      "/Users/achyuth/miniconda3/envs/Proj/lib/python3.10/site-packages/sklearn/utils/validation.py:1143: DataConversionWarning: A column-vector y was passed when a 1d array was expected. Please change the shape of y to (n_samples, ), for example using ravel().\n",
      "  y = column_or_1d(y, warn=True)\n",
      "/Users/achyuth/miniconda3/envs/Proj/lib/python3.10/site-packages/sklearn/utils/validation.py:1143: DataConversionWarning: A column-vector y was passed when a 1d array was expected. Please change the shape of y to (n_samples, ), for example using ravel().\n",
      "  y = column_or_1d(y, warn=True)\n"
     ]
    },
    {
     "name": "stdout",
     "output_type": "stream",
     "text": [
      "Compiled Model: 908\n",
      "\n",
      "Compiled Model: 909\n",
      "\n",
      "Compiled Model: 910\n",
      "\n",
      "Compiled Model: 911\n",
      "\n",
      "Compiled Model: 912\n",
      "\n",
      "Compiled Model: 913\n",
      "\n",
      "Compiled Model: 914\n",
      "\n",
      "Compiled Model: 915\n",
      "\n",
      "Compiled Model: 916\n",
      "\n",
      "Compiled Model: 917\n",
      "\n",
      "Compiled Model: 918\n",
      "\n",
      "Compiled Model: 919\n",
      "\n",
      "Compiled Model: 920\n",
      "\n"
     ]
    },
    {
     "name": "stderr",
     "output_type": "stream",
     "text": [
      "/Users/achyuth/miniconda3/envs/Proj/lib/python3.10/site-packages/sklearn/utils/validation.py:1143: DataConversionWarning: A column-vector y was passed when a 1d array was expected. Please change the shape of y to (n_samples, ), for example using ravel().\n",
      "  y = column_or_1d(y, warn=True)\n"
     ]
    },
    {
     "name": "stdout",
     "output_type": "stream",
     "text": [
      "Compiled Model: 921\n",
      "\n"
     ]
    },
    {
     "name": "stderr",
     "output_type": "stream",
     "text": [
      "/Users/achyuth/miniconda3/envs/Proj/lib/python3.10/site-packages/sklearn/utils/validation.py:1143: DataConversionWarning: A column-vector y was passed when a 1d array was expected. Please change the shape of y to (n_samples, ), for example using ravel().\n",
      "  y = column_or_1d(y, warn=True)\n"
     ]
    },
    {
     "name": "stdout",
     "output_type": "stream",
     "text": [
      "Compiled Model: 922\n",
      "\n"
     ]
    },
    {
     "name": "stderr",
     "output_type": "stream",
     "text": [
      "/Users/achyuth/miniconda3/envs/Proj/lib/python3.10/site-packages/sklearn/utils/validation.py:1143: DataConversionWarning: A column-vector y was passed when a 1d array was expected. Please change the shape of y to (n_samples, ), for example using ravel().\n",
      "  y = column_or_1d(y, warn=True)\n"
     ]
    },
    {
     "name": "stdout",
     "output_type": "stream",
     "text": [
      "Compiled Model: 923\n",
      "\n"
     ]
    },
    {
     "name": "stderr",
     "output_type": "stream",
     "text": [
      "/Users/achyuth/miniconda3/envs/Proj/lib/python3.10/site-packages/sklearn/utils/validation.py:1143: DataConversionWarning: A column-vector y was passed when a 1d array was expected. Please change the shape of y to (n_samples, ), for example using ravel().\n",
      "  y = column_or_1d(y, warn=True)\n"
     ]
    },
    {
     "name": "stdout",
     "output_type": "stream",
     "text": [
      "Compiled Model: 924\n",
      "\n",
      "Compiled Model: 925\n",
      "\n",
      "Compiled Model: 926\n",
      "\n",
      "Compiled Model: 927\n",
      "\n",
      "Compiled Model: 928\n",
      "\n",
      "Compiled Model: 929\n",
      "\n",
      "Compiled Model: 930\n",
      "\n",
      "Compiled Model: 931\n",
      "\n",
      "Compiled Model: 932\n",
      "\n",
      "Compiled Model: 933\n",
      "\n",
      "Compiled Model: 934\n",
      "\n",
      "Compiled Model: 935\n",
      "\n",
      "Compiled Model: 936\n",
      "\n",
      "Compiled Model: 937\n",
      "\n",
      "Compiled Model: 938\n",
      "\n",
      "Compiled Model: 939\n",
      "\n",
      "Compiled Model: 940\n",
      "\n",
      "Compiled Model: 941\n",
      "\n",
      "Compiled Model: 942\n",
      "\n",
      "Compiled Model: 943\n",
      "\n",
      "Compiled Model: 944\n",
      "\n",
      "Compiled Model: 945\n",
      "\n",
      "Compiled Model: 946\n",
      "\n",
      "Compiled Model: 947\n",
      "\n",
      "Compiled Model: 948\n",
      "\n",
      "Compiled Model: 949\n",
      "\n",
      "Compiled Model: 950\n",
      "\n",
      "Compiled Model: 951\n",
      "\n",
      "Compiled Model: 952\n",
      "\n",
      "Compiled Model: 953\n",
      "\n",
      "Compiled Model: 954\n",
      "\n",
      "Compiled Model: 955\n",
      "\n",
      "Compiled Model: 956\n",
      "\n",
      "Compiled Model: 957\n",
      "\n",
      "Compiled Model: 958\n",
      "\n",
      "Compiled Model: 959\n",
      "\n",
      "Compiled Model: 960\n",
      "\n",
      "Compiled Model: 961\n",
      "\n",
      "Compiled Model: 962\n",
      "\n",
      "Compiled Model: 963\n",
      "\n",
      "Compiled Model: 964\n",
      "\n",
      "Compiled Model: 965\n",
      "\n",
      "Compiled Model: 966\n",
      "\n",
      "Compiled Model: 967\n",
      "\n",
      "Compiled Model: 968\n",
      "\n",
      "Compiled Model: 969\n",
      "\n"
     ]
    },
    {
     "name": "stderr",
     "output_type": "stream",
     "text": [
      "/Users/achyuth/miniconda3/envs/Proj/lib/python3.10/site-packages/sklearn/utils/validation.py:1143: DataConversionWarning: A column-vector y was passed when a 1d array was expected. Please change the shape of y to (n_samples, ), for example using ravel().\n",
      "  y = column_or_1d(y, warn=True)\n",
      "/Users/achyuth/miniconda3/envs/Proj/lib/python3.10/site-packages/sklearn/utils/validation.py:1143: DataConversionWarning: A column-vector y was passed when a 1d array was expected. Please change the shape of y to (n_samples, ), for example using ravel().\n",
      "  y = column_or_1d(y, warn=True)\n",
      "/Users/achyuth/miniconda3/envs/Proj/lib/python3.10/site-packages/sklearn/utils/validation.py:1143: DataConversionWarning: A column-vector y was passed when a 1d array was expected. Please change the shape of y to (n_samples, ), for example using ravel().\n",
      "  y = column_or_1d(y, warn=True)\n",
      "/Users/achyuth/miniconda3/envs/Proj/lib/python3.10/site-packages/sklearn/utils/validation.py:1143: DataConversionWarning: A column-vector y was passed when a 1d array was expected. Please change the shape of y to (n_samples, ), for example using ravel().\n",
      "  y = column_or_1d(y, warn=True)\n",
      "/Users/achyuth/miniconda3/envs/Proj/lib/python3.10/site-packages/sklearn/utils/validation.py:1143: DataConversionWarning: A column-vector y was passed when a 1d array was expected. Please change the shape of y to (n_samples, ), for example using ravel().\n",
      "  y = column_or_1d(y, warn=True)\n",
      "/Users/achyuth/miniconda3/envs/Proj/lib/python3.10/site-packages/sklearn/utils/validation.py:1143: DataConversionWarning: A column-vector y was passed when a 1d array was expected. Please change the shape of y to (n_samples, ), for example using ravel().\n",
      "  y = column_or_1d(y, warn=True)\n"
     ]
    },
    {
     "name": "stdout",
     "output_type": "stream",
     "text": [
      "Compiled Model: 970\n",
      "\n",
      "Compiled Model: 971\n",
      "\n"
     ]
    },
    {
     "name": "stderr",
     "output_type": "stream",
     "text": [
      "/Users/achyuth/miniconda3/envs/Proj/lib/python3.10/site-packages/sklearn/utils/validation.py:1143: DataConversionWarning: A column-vector y was passed when a 1d array was expected. Please change the shape of y to (n_samples, ), for example using ravel().\n",
      "  y = column_or_1d(y, warn=True)\n",
      "/Users/achyuth/miniconda3/envs/Proj/lib/python3.10/site-packages/sklearn/utils/validation.py:1143: DataConversionWarning: A column-vector y was passed when a 1d array was expected. Please change the shape of y to (n_samples, ), for example using ravel().\n",
      "  y = column_or_1d(y, warn=True)\n"
     ]
    },
    {
     "name": "stdout",
     "output_type": "stream",
     "text": [
      "Compiled Model: 972\n",
      "\n",
      "Compiled Model: 973\n",
      "\n",
      "Compiled Model: 974\n",
      "\n",
      "Compiled Model: 975\n",
      "\n",
      "Compiled Model: 976\n",
      "\n",
      "Compiled Model: 977\n",
      "\n",
      "Compiled Model: 978\n",
      "\n",
      "Compiled Model: 979\n",
      "\n",
      "Compiled Model: 980\n",
      "\n",
      "Compiled Model: 981\n",
      "\n",
      "Compiled Model: 982\n",
      "\n",
      "Compiled Model: 983\n",
      "\n",
      "Compiled Model: 984\n",
      "\n",
      "Compiled Model: 985\n",
      "\n",
      "Compiled Model: 986\n",
      "\n",
      "Compiled Model: 987\n",
      "\n",
      "Compiled Model: 988\n",
      "\n",
      "Compiled Model: 989\n",
      "\n",
      "Compiled Model: 990\n",
      "\n",
      "Compiled Model: 991\n",
      "\n",
      "Compiled Model: 992\n",
      "\n",
      "Compiled Model: 993\n",
      "\n",
      "Compiled Model: 994\n",
      "\n",
      "Compiled Model: 995\n",
      "\n",
      "Compiled Model: 996\n",
      "\n",
      "Compiled Model: 997\n",
      "\n",
      "Compiled Model: 998\n",
      "\n",
      "Compiled Model: 999\n",
      "\n",
      "Compiled Model: 1000\n",
      "\n",
      "Compiled Model: 1001\n",
      "\n",
      "Compiled Model: 1002\n",
      "\n",
      "Compiled Model: 1003\n",
      "\n",
      "Compiled Model: 1004\n",
      "\n",
      "Compiled Model: 1005\n",
      "\n",
      "Compiled Model: 1006\n",
      "\n",
      "Compiled Model: 1007\n",
      "\n",
      "Compiled Model: 1008\n",
      "\n",
      "Compiled Model: 1009\n",
      "\n",
      "Compiled Model: 1010\n",
      "\n",
      "Compiled Model: 1011\n",
      "\n",
      "Compiled Model: 1012\n",
      "\n",
      "Compiled Model: 1013\n",
      "\n",
      "Compiled Model: 1014\n",
      "\n",
      "Compiled Model: 1015\n",
      "\n",
      "Compiled Model: 1016\n",
      "\n",
      "Compiled Model: 1017\n",
      "\n",
      "Compiled Model: 1018\n",
      "\n",
      "Compiled Model: 1019\n",
      "\n",
      "Compiled Model: 1020\n",
      "\n",
      "Compiled Model: 1021\n",
      "\n",
      "Compiled Model: 1022\n",
      "\n",
      "Compiled Model: 1023\n",
      "\n",
      "Compiled Model: 1024\n",
      "\n",
      "Compiled Model: 1025\n",
      "\n",
      "Compiled Model: 1026\n",
      "\n",
      "Compiled Model: 1027\n",
      "\n",
      "Compiled Model: 1028\n",
      "\n",
      "Compiled Model: 1029\n",
      "\n",
      "Compiled Model: 1030\n",
      "\n",
      "Compiled Model: 1031\n",
      "\n",
      "Compiled Model: 1032\n",
      "\n",
      "Compiled Model: 1033\n",
      "\n",
      "Compiled Model: 1034\n",
      "\n",
      "Compiled Model: 1035\n",
      "\n",
      "Compiled Model: 1036\n",
      "\n",
      "Compiled Model: 1037\n",
      "\n",
      "Compiled Model: 1038\n",
      "\n",
      "Compiled Model: 1039\n",
      "\n",
      "Compiled Model: 1040\n",
      "\n",
      "Compiled Model: 1041\n",
      "\n",
      "Compiled Model: 1042\n",
      "\n",
      "Compiled Model: 1043\n",
      "\n",
      "Compiled Model: 1044\n",
      "\n",
      "Compiled Model: 1045\n",
      "\n",
      "Compiled Model: 1046\n",
      "\n",
      "Compiled Model: 1047\n",
      "\n",
      "Compiled Model: 1048\n",
      "\n",
      "Compiled Model: 1049\n",
      "\n",
      "Compiled Model: 1050\n",
      "\n",
      "Compiled Model: 1051\n",
      "\n",
      "Compiled Model: 1052\n",
      "\n",
      "Compiled Model: 1053\n",
      "\n",
      "Compiled Model: 1054\n",
      "\n",
      "Compiled Model: 1055\n",
      "\n",
      "Compiled Model: 1056\n",
      "\n"
     ]
    },
    {
     "name": "stderr",
     "output_type": "stream",
     "text": [
      "/Users/achyuth/miniconda3/envs/Proj/lib/python3.10/site-packages/sklearn/utils/validation.py:1143: DataConversionWarning: A column-vector y was passed when a 1d array was expected. Please change the shape of y to (n_samples, ), for example using ravel().\n",
      "  y = column_or_1d(y, warn=True)\n",
      "/Users/achyuth/miniconda3/envs/Proj/lib/python3.10/site-packages/sklearn/utils/validation.py:1143: DataConversionWarning: A column-vector y was passed when a 1d array was expected. Please change the shape of y to (n_samples, ), for example using ravel().\n",
      "  y = column_or_1d(y, warn=True)\n",
      "/Users/achyuth/miniconda3/envs/Proj/lib/python3.10/site-packages/sklearn/utils/validation.py:1143: DataConversionWarning: A column-vector y was passed when a 1d array was expected. Please change the shape of y to (n_samples, ), for example using ravel().\n",
      "  y = column_or_1d(y, warn=True)\n",
      "/Users/achyuth/miniconda3/envs/Proj/lib/python3.10/site-packages/sklearn/utils/validation.py:1143: DataConversionWarning: A column-vector y was passed when a 1d array was expected. Please change the shape of y to (n_samples, ), for example using ravel().\n",
      "  y = column_or_1d(y, warn=True)\n",
      "/Users/achyuth/miniconda3/envs/Proj/lib/python3.10/site-packages/sklearn/utils/validation.py:1143: DataConversionWarning: A column-vector y was passed when a 1d array was expected. Please change the shape of y to (n_samples, ), for example using ravel().\n",
      "  y = column_or_1d(y, warn=True)\n"
     ]
    },
    {
     "name": "stdout",
     "output_type": "stream",
     "text": [
      "Compiled Model: 1057\n",
      "\n",
      "Compiled Model: 1058\n",
      "\n"
     ]
    },
    {
     "name": "stderr",
     "output_type": "stream",
     "text": [
      "/Users/achyuth/miniconda3/envs/Proj/lib/python3.10/site-packages/sklearn/utils/validation.py:1143: DataConversionWarning: A column-vector y was passed when a 1d array was expected. Please change the shape of y to (n_samples, ), for example using ravel().\n",
      "  y = column_or_1d(y, warn=True)\n",
      "/Users/achyuth/miniconda3/envs/Proj/lib/python3.10/site-packages/sklearn/utils/validation.py:1143: DataConversionWarning: A column-vector y was passed when a 1d array was expected. Please change the shape of y to (n_samples, ), for example using ravel().\n",
      "  y = column_or_1d(y, warn=True)\n"
     ]
    },
    {
     "name": "stdout",
     "output_type": "stream",
     "text": [
      "Compiled Model: 1059\n",
      "\n",
      "Compiled Model: 1060\n",
      "\n",
      "Compiled Model: 1061\n",
      "\n",
      "Compiled Model: 1062\n",
      "\n",
      "Compiled Model: 1063\n",
      "\n",
      "Compiled Model: 1064\n",
      "\n"
     ]
    },
    {
     "name": "stderr",
     "output_type": "stream",
     "text": [
      "/Users/achyuth/miniconda3/envs/Proj/lib/python3.10/site-packages/sklearn/utils/validation.py:1143: DataConversionWarning: A column-vector y was passed when a 1d array was expected. Please change the shape of y to (n_samples, ), for example using ravel().\n",
      "  y = column_or_1d(y, warn=True)\n",
      "/Users/achyuth/miniconda3/envs/Proj/lib/python3.10/site-packages/sklearn/utils/validation.py:1143: DataConversionWarning: A column-vector y was passed when a 1d array was expected. Please change the shape of y to (n_samples, ), for example using ravel().\n",
      "  y = column_or_1d(y, warn=True)\n"
     ]
    },
    {
     "name": "stdout",
     "output_type": "stream",
     "text": [
      "Compiled Model: 1065\n",
      "\n",
      "Compiled Model: 1066\n",
      "\n"
     ]
    },
    {
     "name": "stderr",
     "output_type": "stream",
     "text": [
      "/Users/achyuth/miniconda3/envs/Proj/lib/python3.10/site-packages/sklearn/utils/validation.py:1143: DataConversionWarning: A column-vector y was passed when a 1d array was expected. Please change the shape of y to (n_samples, ), for example using ravel().\n",
      "  y = column_or_1d(y, warn=True)\n",
      "/Users/achyuth/miniconda3/envs/Proj/lib/python3.10/site-packages/sklearn/utils/validation.py:1143: DataConversionWarning: A column-vector y was passed when a 1d array was expected. Please change the shape of y to (n_samples, ), for example using ravel().\n",
      "  y = column_or_1d(y, warn=True)\n"
     ]
    },
    {
     "name": "stdout",
     "output_type": "stream",
     "text": [
      "Compiled Model: 1067\n",
      "\n",
      "Compiled Model: 1068\n",
      "\n",
      "Compiled Model: 1069\n",
      "\n",
      "Compiled Model: 1070\n",
      "\n",
      "Compiled Model: 1071\n",
      "\n",
      "Compiled Model: 1072\n",
      "\n"
     ]
    },
    {
     "name": "stderr",
     "output_type": "stream",
     "text": [
      "/Users/achyuth/miniconda3/envs/Proj/lib/python3.10/site-packages/sklearn/utils/validation.py:1143: DataConversionWarning: A column-vector y was passed when a 1d array was expected. Please change the shape of y to (n_samples, ), for example using ravel().\n",
      "  y = column_or_1d(y, warn=True)\n",
      "/Users/achyuth/miniconda3/envs/Proj/lib/python3.10/site-packages/sklearn/utils/validation.py:1143: DataConversionWarning: A column-vector y was passed when a 1d array was expected. Please change the shape of y to (n_samples, ), for example using ravel().\n",
      "  y = column_or_1d(y, warn=True)\n"
     ]
    },
    {
     "name": "stdout",
     "output_type": "stream",
     "text": [
      "Compiled Model: 1073\n",
      "\n"
     ]
    },
    {
     "name": "stderr",
     "output_type": "stream",
     "text": [
      "/Users/achyuth/miniconda3/envs/Proj/lib/python3.10/site-packages/sklearn/utils/validation.py:1143: DataConversionWarning: A column-vector y was passed when a 1d array was expected. Please change the shape of y to (n_samples, ), for example using ravel().\n",
      "  y = column_or_1d(y, warn=True)\n"
     ]
    },
    {
     "name": "stdout",
     "output_type": "stream",
     "text": [
      "Compiled Model: 1074\n",
      "\n"
     ]
    },
    {
     "name": "stderr",
     "output_type": "stream",
     "text": [
      "/Users/achyuth/miniconda3/envs/Proj/lib/python3.10/site-packages/sklearn/utils/validation.py:1143: DataConversionWarning: A column-vector y was passed when a 1d array was expected. Please change the shape of y to (n_samples, ), for example using ravel().\n",
      "  y = column_or_1d(y, warn=True)\n"
     ]
    },
    {
     "name": "stdout",
     "output_type": "stream",
     "text": [
      "Compiled Model: 1075\n",
      "\n"
     ]
    },
    {
     "name": "stderr",
     "output_type": "stream",
     "text": [
      "/Users/achyuth/miniconda3/envs/Proj/lib/python3.10/site-packages/sklearn/utils/validation.py:1143: DataConversionWarning: A column-vector y was passed when a 1d array was expected. Please change the shape of y to (n_samples, ), for example using ravel().\n",
      "  y = column_or_1d(y, warn=True)\n"
     ]
    },
    {
     "name": "stdout",
     "output_type": "stream",
     "text": [
      "Compiled Model: 1076\n",
      "\n",
      "Compiled Model: 1077\n",
      "\n",
      "Compiled Model: 1078\n",
      "\n",
      "Compiled Model: 1079\n",
      "\n",
      "Compiled Model: 1080\n",
      "\n"
     ]
    },
    {
     "name": "stderr",
     "output_type": "stream",
     "text": [
      "/Users/achyuth/miniconda3/envs/Proj/lib/python3.10/site-packages/sklearn/utils/validation.py:1143: DataConversionWarning: A column-vector y was passed when a 1d array was expected. Please change the shape of y to (n_samples, ), for example using ravel().\n",
      "  y = column_or_1d(y, warn=True)\n"
     ]
    },
    {
     "name": "stdout",
     "output_type": "stream",
     "text": [
      "Compiled Model: 1081\n",
      "\n"
     ]
    },
    {
     "name": "stderr",
     "output_type": "stream",
     "text": [
      "/Users/achyuth/miniconda3/envs/Proj/lib/python3.10/site-packages/sklearn/utils/validation.py:1143: DataConversionWarning: A column-vector y was passed when a 1d array was expected. Please change the shape of y to (n_samples, ), for example using ravel().\n",
      "  y = column_or_1d(y, warn=True)\n"
     ]
    },
    {
     "name": "stdout",
     "output_type": "stream",
     "text": [
      "Compiled Model: 1082\n",
      "\n"
     ]
    },
    {
     "name": "stderr",
     "output_type": "stream",
     "text": [
      "/Users/achyuth/miniconda3/envs/Proj/lib/python3.10/site-packages/sklearn/utils/validation.py:1143: DataConversionWarning: A column-vector y was passed when a 1d array was expected. Please change the shape of y to (n_samples, ), for example using ravel().\n",
      "  y = column_or_1d(y, warn=True)\n"
     ]
    },
    {
     "name": "stdout",
     "output_type": "stream",
     "text": [
      "Compiled Model: 1083\n",
      "\n"
     ]
    },
    {
     "name": "stderr",
     "output_type": "stream",
     "text": [
      "/Users/achyuth/miniconda3/envs/Proj/lib/python3.10/site-packages/sklearn/utils/validation.py:1143: DataConversionWarning: A column-vector y was passed when a 1d array was expected. Please change the shape of y to (n_samples, ), for example using ravel().\n",
      "  y = column_or_1d(y, warn=True)\n"
     ]
    },
    {
     "name": "stdout",
     "output_type": "stream",
     "text": [
      "Compiled Model: 1084\n",
      "\n",
      "Compiled Model: 1085\n",
      "\n",
      "Compiled Model: 1086\n",
      "\n",
      "Compiled Model: 1087\n",
      "\n",
      "Compiled Model: 1088\n",
      "\n",
      "Compiled Model: 1089\n",
      "\n",
      "Compiled Model: 1090\n",
      "\n",
      "Compiled Model: 1091\n",
      "\n",
      "Compiled Model: 1092\n",
      "\n",
      "Compiled Model: 1093\n",
      "\n",
      "Compiled Model: 1094\n",
      "\n",
      "Compiled Model: 1095\n",
      "\n",
      "Compiled Model: 1096\n",
      "\n",
      "Compiled Model: 1097\n",
      "\n"
     ]
    },
    {
     "name": "stderr",
     "output_type": "stream",
     "text": [
      "/Users/achyuth/miniconda3/envs/Proj/lib/python3.10/site-packages/sklearn/utils/validation.py:1143: DataConversionWarning: A column-vector y was passed when a 1d array was expected. Please change the shape of y to (n_samples, ), for example using ravel().\n",
      "  y = column_or_1d(y, warn=True)\n",
      "/Users/achyuth/miniconda3/envs/Proj/lib/python3.10/site-packages/sklearn/utils/validation.py:1143: DataConversionWarning: A column-vector y was passed when a 1d array was expected. Please change the shape of y to (n_samples, ), for example using ravel().\n",
      "  y = column_or_1d(y, warn=True)\n"
     ]
    },
    {
     "name": "stdout",
     "output_type": "stream",
     "text": [
      "Compiled Model: 1098\n",
      "\n",
      "Compiled Model: 1099\n",
      "\n"
     ]
    },
    {
     "name": "stderr",
     "output_type": "stream",
     "text": [
      "/Users/achyuth/miniconda3/envs/Proj/lib/python3.10/site-packages/sklearn/utils/validation.py:1143: DataConversionWarning: A column-vector y was passed when a 1d array was expected. Please change the shape of y to (n_samples, ), for example using ravel().\n",
      "  y = column_or_1d(y, warn=True)\n",
      "/Users/achyuth/miniconda3/envs/Proj/lib/python3.10/site-packages/sklearn/utils/validation.py:1143: DataConversionWarning: A column-vector y was passed when a 1d array was expected. Please change the shape of y to (n_samples, ), for example using ravel().\n",
      "  y = column_or_1d(y, warn=True)\n"
     ]
    },
    {
     "name": "stdout",
     "output_type": "stream",
     "text": [
      "Compiled Model: 1100\n",
      "\n",
      "Compiled Model: 1101\n",
      "\n",
      "Compiled Model: 1102\n",
      "\n",
      "Compiled Model: 1103\n",
      "\n",
      "Compiled Model: 1104\n",
      "\n",
      "Compiled Model: 1105\n",
      "\n",
      "Compiled Model: 1106\n",
      "\n",
      "Compiled Model: 1107\n",
      "\n",
      "Compiled Model: 1108\n",
      "\n",
      "Compiled Model: 1109\n",
      "\n",
      "Compiled Model: 1110\n",
      "\n",
      "Compiled Model: 1111\n",
      "\n",
      "Compiled Model: 1112\n",
      "\n"
     ]
    },
    {
     "name": "stderr",
     "output_type": "stream",
     "text": [
      "/Users/achyuth/miniconda3/envs/Proj/lib/python3.10/site-packages/sklearn/utils/validation.py:1143: DataConversionWarning: A column-vector y was passed when a 1d array was expected. Please change the shape of y to (n_samples, ), for example using ravel().\n",
      "  y = column_or_1d(y, warn=True)\n"
     ]
    },
    {
     "name": "stdout",
     "output_type": "stream",
     "text": [
      "Compiled Model: 1113\n",
      "\n"
     ]
    },
    {
     "name": "stderr",
     "output_type": "stream",
     "text": [
      "/Users/achyuth/miniconda3/envs/Proj/lib/python3.10/site-packages/sklearn/utils/validation.py:1143: DataConversionWarning: A column-vector y was passed when a 1d array was expected. Please change the shape of y to (n_samples, ), for example using ravel().\n",
      "  y = column_or_1d(y, warn=True)\n"
     ]
    },
    {
     "name": "stdout",
     "output_type": "stream",
     "text": [
      "Compiled Model: 1114\n",
      "\n"
     ]
    },
    {
     "name": "stderr",
     "output_type": "stream",
     "text": [
      "/Users/achyuth/miniconda3/envs/Proj/lib/python3.10/site-packages/sklearn/utils/validation.py:1143: DataConversionWarning: A column-vector y was passed when a 1d array was expected. Please change the shape of y to (n_samples, ), for example using ravel().\n",
      "  y = column_or_1d(y, warn=True)\n"
     ]
    },
    {
     "name": "stdout",
     "output_type": "stream",
     "text": [
      "Compiled Model: 1115\n",
      "\n"
     ]
    },
    {
     "name": "stderr",
     "output_type": "stream",
     "text": [
      "/Users/achyuth/miniconda3/envs/Proj/lib/python3.10/site-packages/sklearn/utils/validation.py:1143: DataConversionWarning: A column-vector y was passed when a 1d array was expected. Please change the shape of y to (n_samples, ), for example using ravel().\n",
      "  y = column_or_1d(y, warn=True)\n"
     ]
    },
    {
     "name": "stdout",
     "output_type": "stream",
     "text": [
      "Compiled Model: 1116\n",
      "\n",
      "Compiled Model: 1117\n",
      "\n",
      "Compiled Model: 1118\n",
      "\n",
      "Compiled Model: 1119\n",
      "\n",
      "Compiled Model: 1120\n",
      "\n",
      "Compiled Model: 1121\n",
      "\n",
      "Compiled Model: 1122\n",
      "\n",
      "Compiled Model: 1123\n",
      "\n",
      "Compiled Model: 1124\n",
      "\n",
      "Compiled Model: 1125\n",
      "\n",
      "Compiled Model: 1126\n",
      "\n",
      "Compiled Model: 1127\n",
      "\n",
      "Compiled Model: 1128\n",
      "\n",
      "Compiled Model: 1129\n",
      "\n",
      "Compiled Model: 1130\n",
      "\n",
      "Compiled Model: 1131\n",
      "\n",
      "Compiled Model: 1132\n",
      "\n",
      "Compiled Model: 1133\n",
      "\n",
      "Compiled Model: 1134\n",
      "\n",
      "Compiled Model: 1135\n",
      "\n",
      "Compiled Model: 1136\n",
      "\n",
      "Compiled Model: 1137\n",
      "\n",
      "Compiled Model: 1138\n",
      "\n",
      "Compiled Model: 1139\n",
      "\n",
      "Compiled Model: 1140\n",
      "\n",
      "Compiled Model: 1141\n",
      "\n",
      "Compiled Model: 1142\n",
      "\n",
      "Compiled Model: 1143\n",
      "\n",
      "Compiled Model: 1144\n",
      "\n",
      "Compiled Model: 1145\n",
      "\n",
      "Compiled Model: 1146\n",
      "\n",
      "Compiled Model: 1147\n",
      "\n",
      "Compiled Model: 1148\n",
      "\n",
      "Compiled Model: 1149\n",
      "\n",
      "Compiled Model: 1150\n",
      "\n",
      "Compiled Model: 1151\n",
      "\n",
      "Compiled Model: 1152\n",
      "\n",
      "Compiled Model: 1153\n",
      "\n",
      "Compiled Model: 1154\n",
      "\n",
      "Compiled Model: 1155\n",
      "\n",
      "Compiled Model: 1156\n",
      "\n",
      "Compiled Model: 1157\n",
      "\n",
      "Compiled Model: 1158\n",
      "\n",
      "Compiled Model: 1159\n",
      "\n",
      "Compiled Model: 1160\n",
      "\n",
      "Compiled Model: 1161\n",
      "\n",
      "Compiled Model: 1162\n",
      "\n"
     ]
    },
    {
     "name": "stderr",
     "output_type": "stream",
     "text": [
      "/Users/achyuth/miniconda3/envs/Proj/lib/python3.10/site-packages/sklearn/utils/validation.py:1143: DataConversionWarning: A column-vector y was passed when a 1d array was expected. Please change the shape of y to (n_samples, ), for example using ravel().\n",
      "  y = column_or_1d(y, warn=True)\n",
      "/Users/achyuth/miniconda3/envs/Proj/lib/python3.10/site-packages/sklearn/utils/validation.py:1143: DataConversionWarning: A column-vector y was passed when a 1d array was expected. Please change the shape of y to (n_samples, ), for example using ravel().\n",
      "  y = column_or_1d(y, warn=True)\n",
      "/Users/achyuth/miniconda3/envs/Proj/lib/python3.10/site-packages/sklearn/utils/validation.py:1143: DataConversionWarning: A column-vector y was passed when a 1d array was expected. Please change the shape of y to (n_samples, ), for example using ravel().\n",
      "  y = column_or_1d(y, warn=True)\n",
      "/Users/achyuth/miniconda3/envs/Proj/lib/python3.10/site-packages/sklearn/utils/validation.py:1143: DataConversionWarning: A column-vector y was passed when a 1d array was expected. Please change the shape of y to (n_samples, ), for example using ravel().\n",
      "  y = column_or_1d(y, warn=True)\n",
      "/Users/achyuth/miniconda3/envs/Proj/lib/python3.10/site-packages/sklearn/utils/validation.py:1143: DataConversionWarning: A column-vector y was passed when a 1d array was expected. Please change the shape of y to (n_samples, ), for example using ravel().\n",
      "  y = column_or_1d(y, warn=True)\n",
      "/Users/achyuth/miniconda3/envs/Proj/lib/python3.10/site-packages/sklearn/utils/validation.py:1143: DataConversionWarning: A column-vector y was passed when a 1d array was expected. Please change the shape of y to (n_samples, ), for example using ravel().\n",
      "  y = column_or_1d(y, warn=True)\n",
      "/Users/achyuth/miniconda3/envs/Proj/lib/python3.10/site-packages/sklearn/utils/validation.py:1143: DataConversionWarning: A column-vector y was passed when a 1d array was expected. Please change the shape of y to (n_samples, ), for example using ravel().\n",
      "  y = column_or_1d(y, warn=True)\n",
      "/Users/achyuth/miniconda3/envs/Proj/lib/python3.10/site-packages/sklearn/utils/validation.py:1143: DataConversionWarning: A column-vector y was passed when a 1d array was expected. Please change the shape of y to (n_samples, ), for example using ravel().\n",
      "  y = column_or_1d(y, warn=True)\n",
      "/Users/achyuth/miniconda3/envs/Proj/lib/python3.10/site-packages/sklearn/utils/validation.py:1143: DataConversionWarning: A column-vector y was passed when a 1d array was expected. Please change the shape of y to (n_samples, ), for example using ravel().\n",
      "  y = column_or_1d(y, warn=True)\n",
      "/Users/achyuth/miniconda3/envs/Proj/lib/python3.10/site-packages/sklearn/utils/validation.py:1143: DataConversionWarning: A column-vector y was passed when a 1d array was expected. Please change the shape of y to (n_samples, ), for example using ravel().\n",
      "  y = column_or_1d(y, warn=True)\n",
      "/Users/achyuth/miniconda3/envs/Proj/lib/python3.10/site-packages/sklearn/utils/validation.py:1143: DataConversionWarning: A column-vector y was passed when a 1d array was expected. Please change the shape of y to (n_samples, ), for example using ravel().\n",
      "  y = column_or_1d(y, warn=True)\n",
      "/Users/achyuth/miniconda3/envs/Proj/lib/python3.10/site-packages/sklearn/utils/validation.py:1143: DataConversionWarning: A column-vector y was passed when a 1d array was expected. Please change the shape of y to (n_samples, ), for example using ravel().\n",
      "  y = column_or_1d(y, warn=True)\n"
     ]
    },
    {
     "name": "stdout",
     "output_type": "stream",
     "text": [
      "Compiled Model: 1163\n",
      "\n",
      "Compiled Model: 1164\n",
      "\n",
      "Compiled Model: 1165\n",
      "\n",
      "Compiled Model: 1166\n",
      "\n",
      "Compiled Model: 1167\n",
      "\n",
      "Compiled Model: 1168\n",
      "\n",
      "Compiled Model: 1169\n",
      "\n",
      "Compiled Model: 1170\n",
      "\n",
      "Compiled Model: 1171\n",
      "\n",
      "Compiled Model: 1172\n",
      "\n",
      "Compiled Model: 1173\n",
      "\n",
      "Compiled Model: 1174\n",
      "\n",
      "Compiled Model: 1175\n",
      "\n",
      "Compiled Model: 1176\n",
      "\n",
      "Compiled Model: 1177\n",
      "\n",
      "Compiled Model: 1178\n",
      "\n",
      "Compiled Model: 1179\n",
      "\n",
      "Compiled Model: 1180\n",
      "\n",
      "Compiled Model: 1181\n",
      "\n",
      "Compiled Model: 1182\n",
      "\n",
      "Compiled Model: 1183\n",
      "\n",
      "Compiled Model: 1184\n",
      "\n",
      "Compiled Model: 1185\n",
      "\n",
      "Compiled Model: 1186\n",
      "\n",
      "Compiled Model: 1187\n",
      "\n",
      "Compiled Model: 1188\n",
      "\n",
      "Compiled Model: 1189\n",
      "\n",
      "Compiled Model: 1190\n",
      "\n",
      "Compiled Model: 1191\n",
      "\n",
      "Compiled Model: 1192\n",
      "\n",
      "Compiled Model: 1193\n",
      "\n",
      "Compiled Model: 1194\n",
      "\n",
      "Compiled Model: 1195\n",
      "\n",
      "Compiled Model: 1196\n",
      "\n",
      "Compiled Model: 1197\n",
      "\n",
      "Compiled Model: 1198\n",
      "\n",
      "Compiled Model: 1199\n",
      "\n",
      "Compiled Model: 1200\n",
      "\n",
      "Compiled Model: 1201\n",
      "\n",
      "Compiled Model: 1202\n",
      "\n",
      "Compiled Model: 1203\n",
      "\n",
      "Compiled Model: 1204\n",
      "\n",
      "Compiled Model: 1205\n",
      "\n",
      "Compiled Model: 1206\n",
      "\n",
      "Compiled Model: 1207\n",
      "\n",
      "Compiled Model: 1208\n",
      "\n",
      "Compiled Model: 1209\n",
      "\n",
      "Compiled Model: 1210\n",
      "\n",
      "Compiled Model: 1211\n",
      "\n",
      "Compiled Model: 1212\n",
      "\n",
      "Compiled Model: 1213\n",
      "\n",
      "Compiled Model: 1214\n",
      "\n",
      "Compiled Model: 1215\n",
      "\n",
      "Compiled Model: 1216\n",
      "\n",
      "Compiled Model: 1217\n",
      "\n",
      "Compiled Model: 1218\n",
      "\n",
      "Compiled Model: 1219\n",
      "\n",
      "Compiled Model: 1220\n",
      "\n",
      "Compiled Model: 1221\n",
      "\n",
      "Compiled Model: 1222\n",
      "\n",
      "Compiled Model: 1223\n",
      "\n",
      "Compiled Model: 1224\n",
      "\n",
      "Compiled Model: 1225\n",
      "\n",
      "Compiled Model: 1226\n",
      "\n",
      "Compiled Model: 1227\n",
      "\n",
      "Compiled Model: 1228\n",
      "\n",
      "Compiled Model: 1229\n",
      "\n",
      "Compiled Model: 1230\n",
      "\n",
      "Compiled Model: 1231\n",
      "\n",
      "Compiled Model: 1232\n",
      "\n",
      "Compiled Model: 1233\n",
      "\n",
      "Compiled Model: 1234\n",
      "\n",
      "Compiled Model: 1235\n",
      "\n",
      "Compiled Model: 1236\n",
      "\n",
      "Compiled Model: 1237\n",
      "\n",
      "Compiled Model: 1238\n",
      "\n",
      "Compiled Model: 1239\n",
      "\n",
      "Compiled Model: 1240\n",
      "\n",
      "Compiled Model: 1241\n",
      "\n",
      "Compiled Model: 1242\n",
      "\n",
      "Compiled Model: 1243\n",
      "\n",
      "Compiled Model: 1244\n",
      "\n",
      "Compiled Model: 1245\n",
      "\n",
      "Compiled Model: 1246\n",
      "\n",
      "Compiled Model: 1247\n",
      "\n",
      "Compiled Model: 1248\n",
      "\n",
      "Compiled Model: 1249\n",
      "\n"
     ]
    },
    {
     "name": "stderr",
     "output_type": "stream",
     "text": [
      "/Users/achyuth/miniconda3/envs/Proj/lib/python3.10/site-packages/sklearn/utils/validation.py:1143: DataConversionWarning: A column-vector y was passed when a 1d array was expected. Please change the shape of y to (n_samples, ), for example using ravel().\n",
      "  y = column_or_1d(y, warn=True)\n",
      "/Users/achyuth/miniconda3/envs/Proj/lib/python3.10/site-packages/sklearn/utils/validation.py:1143: DataConversionWarning: A column-vector y was passed when a 1d array was expected. Please change the shape of y to (n_samples, ), for example using ravel().\n",
      "  y = column_or_1d(y, warn=True)\n",
      "/Users/achyuth/miniconda3/envs/Proj/lib/python3.10/site-packages/sklearn/utils/validation.py:1143: DataConversionWarning: A column-vector y was passed when a 1d array was expected. Please change the shape of y to (n_samples, ), for example using ravel().\n",
      "  y = column_or_1d(y, warn=True)\n",
      "/Users/achyuth/miniconda3/envs/Proj/lib/python3.10/site-packages/sklearn/utils/validation.py:1143: DataConversionWarning: A column-vector y was passed when a 1d array was expected. Please change the shape of y to (n_samples, ), for example using ravel().\n",
      "  y = column_or_1d(y, warn=True)\n"
     ]
    },
    {
     "name": "stdout",
     "output_type": "stream",
     "text": [
      "Compiled Model: 1250\n",
      "\n",
      "Compiled Model: 1251\n",
      "\n",
      "Compiled Model: 1252\n",
      "\n",
      "Compiled Model: 1253\n",
      "\n",
      "Compiled Model: 1254\n",
      "\n",
      "Compiled Model: 1255\n",
      "\n",
      "Compiled Model: 1256\n",
      "\n"
     ]
    },
    {
     "name": "stderr",
     "output_type": "stream",
     "text": [
      "/Users/achyuth/miniconda3/envs/Proj/lib/python3.10/site-packages/sklearn/utils/validation.py:1143: DataConversionWarning: A column-vector y was passed when a 1d array was expected. Please change the shape of y to (n_samples, ), for example using ravel().\n",
      "  y = column_or_1d(y, warn=True)\n",
      "/Users/achyuth/miniconda3/envs/Proj/lib/python3.10/site-packages/sklearn/utils/validation.py:1143: DataConversionWarning: A column-vector y was passed when a 1d array was expected. Please change the shape of y to (n_samples, ), for example using ravel().\n",
      "  y = column_or_1d(y, warn=True)\n",
      "/Users/achyuth/miniconda3/envs/Proj/lib/python3.10/site-packages/sklearn/utils/validation.py:1143: DataConversionWarning: A column-vector y was passed when a 1d array was expected. Please change the shape of y to (n_samples, ), for example using ravel().\n",
      "  y = column_or_1d(y, warn=True)\n"
     ]
    },
    {
     "name": "stdout",
     "output_type": "stream",
     "text": [
      "Compiled Model: 1257\n",
      "\n",
      "Compiled Model: 1258\n",
      "\n",
      "Compiled Model: 1259\n",
      "\n"
     ]
    },
    {
     "name": "stderr",
     "output_type": "stream",
     "text": [
      "/Users/achyuth/miniconda3/envs/Proj/lib/python3.10/site-packages/sklearn/utils/validation.py:1143: DataConversionWarning: A column-vector y was passed when a 1d array was expected. Please change the shape of y to (n_samples, ), for example using ravel().\n",
      "  y = column_or_1d(y, warn=True)\n",
      "/Users/achyuth/miniconda3/envs/Proj/lib/python3.10/site-packages/sklearn/utils/validation.py:1143: DataConversionWarning: A column-vector y was passed when a 1d array was expected. Please change the shape of y to (n_samples, ), for example using ravel().\n",
      "  y = column_or_1d(y, warn=True)\n"
     ]
    },
    {
     "name": "stdout",
     "output_type": "stream",
     "text": [
      "Compiled Model: 1260\n",
      "\n",
      "Compiled Model: 1261\n",
      "\n",
      "Compiled Model: 1262\n",
      "\n",
      "Compiled Model: 1263\n",
      "\n",
      "Compiled Model: 1264\n",
      "\n",
      "Compiled Model: 1265\n",
      "\n"
     ]
    },
    {
     "name": "stderr",
     "output_type": "stream",
     "text": [
      "/Users/achyuth/miniconda3/envs/Proj/lib/python3.10/site-packages/sklearn/utils/validation.py:1143: DataConversionWarning: A column-vector y was passed when a 1d array was expected. Please change the shape of y to (n_samples, ), for example using ravel().\n",
      "  y = column_or_1d(y, warn=True)\n"
     ]
    },
    {
     "name": "stdout",
     "output_type": "stream",
     "text": [
      "Compiled Model: 1266\n",
      "\n",
      "Compiled Model: 1267\n",
      "\n"
     ]
    },
    {
     "name": "stderr",
     "output_type": "stream",
     "text": [
      "/Users/achyuth/miniconda3/envs/Proj/lib/python3.10/site-packages/sklearn/utils/validation.py:1143: DataConversionWarning: A column-vector y was passed when a 1d array was expected. Please change the shape of y to (n_samples, ), for example using ravel().\n",
      "  y = column_or_1d(y, warn=True)\n",
      "/Users/achyuth/miniconda3/envs/Proj/lib/python3.10/site-packages/sklearn/utils/validation.py:1143: DataConversionWarning: A column-vector y was passed when a 1d array was expected. Please change the shape of y to (n_samples, ), for example using ravel().\n",
      "  y = column_or_1d(y, warn=True)\n"
     ]
    },
    {
     "name": "stdout",
     "output_type": "stream",
     "text": [
      "Compiled Model: 1268\n",
      "\n",
      "Compiled Model: 1269\n",
      "\n",
      "Compiled Model: 1270\n",
      "\n",
      "Compiled Model: 1271\n",
      "\n",
      "Compiled Model: 1272\n",
      "\n"
     ]
    },
    {
     "name": "stderr",
     "output_type": "stream",
     "text": [
      "/Users/achyuth/miniconda3/envs/Proj/lib/python3.10/site-packages/sklearn/utils/validation.py:1143: DataConversionWarning: A column-vector y was passed when a 1d array was expected. Please change the shape of y to (n_samples, ), for example using ravel().\n",
      "  y = column_or_1d(y, warn=True)\n"
     ]
    },
    {
     "name": "stdout",
     "output_type": "stream",
     "text": [
      "Compiled Model: 1273\n",
      "\n"
     ]
    },
    {
     "name": "stderr",
     "output_type": "stream",
     "text": [
      "/Users/achyuth/miniconda3/envs/Proj/lib/python3.10/site-packages/sklearn/utils/validation.py:1143: DataConversionWarning: A column-vector y was passed when a 1d array was expected. Please change the shape of y to (n_samples, ), for example using ravel().\n",
      "  y = column_or_1d(y, warn=True)\n"
     ]
    },
    {
     "name": "stdout",
     "output_type": "stream",
     "text": [
      "Compiled Model: 1274\n",
      "\n"
     ]
    },
    {
     "name": "stderr",
     "output_type": "stream",
     "text": [
      "/Users/achyuth/miniconda3/envs/Proj/lib/python3.10/site-packages/sklearn/utils/validation.py:1143: DataConversionWarning: A column-vector y was passed when a 1d array was expected. Please change the shape of y to (n_samples, ), for example using ravel().\n",
      "  y = column_or_1d(y, warn=True)\n"
     ]
    },
    {
     "name": "stdout",
     "output_type": "stream",
     "text": [
      "Compiled Model: 1275\n",
      "\n"
     ]
    },
    {
     "name": "stderr",
     "output_type": "stream",
     "text": [
      "/Users/achyuth/miniconda3/envs/Proj/lib/python3.10/site-packages/sklearn/utils/validation.py:1143: DataConversionWarning: A column-vector y was passed when a 1d array was expected. Please change the shape of y to (n_samples, ), for example using ravel().\n",
      "  y = column_or_1d(y, warn=True)\n"
     ]
    },
    {
     "name": "stdout",
     "output_type": "stream",
     "text": [
      "Compiled Model: 1276\n",
      "\n",
      "Compiled Model: 1277\n",
      "\n",
      "Compiled Model: 1278\n",
      "\n",
      "Compiled Model: 1279\n",
      "\n",
      "Compiled Model: 1280\n",
      "\n",
      "Compiled Model: 1281\n",
      "\n",
      "Compiled Model: 1282\n",
      "\n",
      "Compiled Model: 1283\n",
      "\n",
      "Compiled Model: 1284\n",
      "\n",
      "Compiled Model: 1285\n",
      "\n",
      "Compiled Model: 1286\n",
      "\n",
      "Compiled Model: 1287\n",
      "\n",
      "Compiled Model: 1288\n",
      "\n",
      "Compiled Model: 1289\n",
      "\n",
      "Compiled Model: 1290\n",
      "\n",
      "Compiled Model: 1291\n",
      "\n",
      "Compiled Model: 1292\n",
      "\n",
      "Compiled Model: 1293\n",
      "\n",
      "Compiled Model: 1294\n",
      "\n",
      "Compiled Model: 1295\n",
      "\n",
      "Compiled Model: 1296\n",
      "\n",
      "Compiled Model: 1297\n",
      "\n",
      "Compiled Model: 1298\n",
      "\n",
      "Compiled Model: 1299\n",
      "\n",
      "Compiled Model: 1300\n",
      "\n",
      "Compiled Model: 1301\n",
      "\n",
      "Compiled Model: 1302\n",
      "\n",
      "Compiled Model: 1303\n",
      "\n",
      "Compiled Model: 1304\n",
      "\n"
     ]
    },
    {
     "name": "stderr",
     "output_type": "stream",
     "text": [
      "/Users/achyuth/miniconda3/envs/Proj/lib/python3.10/site-packages/sklearn/utils/validation.py:1143: DataConversionWarning: A column-vector y was passed when a 1d array was expected. Please change the shape of y to (n_samples, ), for example using ravel().\n",
      "  y = column_or_1d(y, warn=True)\n",
      "/Users/achyuth/miniconda3/envs/Proj/lib/python3.10/site-packages/sklearn/utils/validation.py:1143: DataConversionWarning: A column-vector y was passed when a 1d array was expected. Please change the shape of y to (n_samples, ), for example using ravel().\n",
      "  y = column_or_1d(y, warn=True)\n",
      "/Users/achyuth/miniconda3/envs/Proj/lib/python3.10/site-packages/sklearn/utils/validation.py:1143: DataConversionWarning: A column-vector y was passed when a 1d array was expected. Please change the shape of y to (n_samples, ), for example using ravel().\n",
      "  y = column_or_1d(y, warn=True)\n",
      "/Users/achyuth/miniconda3/envs/Proj/lib/python3.10/site-packages/sklearn/utils/validation.py:1143: DataConversionWarning: A column-vector y was passed when a 1d array was expected. Please change the shape of y to (n_samples, ), for example using ravel().\n",
      "  y = column_or_1d(y, warn=True)\n",
      "/Users/achyuth/miniconda3/envs/Proj/lib/python3.10/site-packages/sklearn/utils/validation.py:1143: DataConversionWarning: A column-vector y was passed when a 1d array was expected. Please change the shape of y to (n_samples, ), for example using ravel().\n",
      "  y = column_or_1d(y, warn=True)\n"
     ]
    },
    {
     "name": "stdout",
     "output_type": "stream",
     "text": [
      "Compiled Model: 1305\n",
      "\n",
      "Compiled Model: 1306\n",
      "\n",
      "Compiled Model: 1307\n",
      "\n"
     ]
    },
    {
     "name": "stderr",
     "output_type": "stream",
     "text": [
      "/Users/achyuth/miniconda3/envs/Proj/lib/python3.10/site-packages/sklearn/utils/validation.py:1143: DataConversionWarning: A column-vector y was passed when a 1d array was expected. Please change the shape of y to (n_samples, ), for example using ravel().\n",
      "  y = column_or_1d(y, warn=True)\n",
      "/Users/achyuth/miniconda3/envs/Proj/lib/python3.10/site-packages/sklearn/utils/validation.py:1143: DataConversionWarning: A column-vector y was passed when a 1d array was expected. Please change the shape of y to (n_samples, ), for example using ravel().\n",
      "  y = column_or_1d(y, warn=True)\n",
      "/Users/achyuth/miniconda3/envs/Proj/lib/python3.10/site-packages/sklearn/utils/validation.py:1143: DataConversionWarning: A column-vector y was passed when a 1d array was expected. Please change the shape of y to (n_samples, ), for example using ravel().\n",
      "  y = column_or_1d(y, warn=True)\n"
     ]
    },
    {
     "name": "stdout",
     "output_type": "stream",
     "text": [
      "Compiled Model: 1308\n",
      "\n",
      "Compiled Model: 1309\n",
      "\n",
      "Compiled Model: 1310\n",
      "\n",
      "Compiled Model: 1311\n",
      "\n",
      "Compiled Model: 1312\n",
      "\n",
      "Compiled Model: 1313\n",
      "\n",
      "Compiled Model: 1314\n",
      "\n",
      "Compiled Model: 1315\n",
      "\n",
      "Compiled Model: 1316\n",
      "\n",
      "Compiled Model: 1317\n",
      "\n",
      "Compiled Model: 1318\n",
      "\n",
      "Compiled Model: 1319\n",
      "\n",
      "Compiled Model: 1320\n",
      "\n",
      "Compiled Model: 1321\n",
      "\n",
      "Compiled Model: 1322\n",
      "\n",
      "Compiled Model: 1323\n",
      "\n",
      "Compiled Model: 1324\n",
      "\n",
      "Compiled Model: 1325\n",
      "\n",
      "Compiled Model: 1326\n",
      "\n",
      "Compiled Model: 1327\n",
      "\n",
      "Compiled Model: 1328\n",
      "\n",
      "Compiled Model: 1329\n",
      "\n",
      "Compiled Model: 1330\n",
      "\n",
      "Compiled Model: 1331\n",
      "\n",
      "Compiled Model: 1332\n",
      "\n",
      "Compiled Model: 1333\n",
      "\n",
      "Compiled Model: 1334\n",
      "\n",
      "Compiled Model: 1335\n",
      "\n",
      "Compiled Model: 1336\n",
      "\n",
      "Compiled Model: 1337\n",
      "\n",
      "Compiled Model: 1338\n",
      "\n",
      "Compiled Model: 1339\n",
      "\n",
      "Compiled Model: 1340\n",
      "\n",
      "Compiled Model: 1341\n",
      "\n",
      "Compiled Model: 1342\n",
      "\n",
      "Compiled Model: 1343\n",
      "\n",
      "Compiled Model: 1344\n",
      "\n",
      "Compiled Model: 1345\n",
      "\n",
      "Compiled Model: 1346\n",
      "\n",
      "Compiled Model: 1347\n",
      "\n",
      "Compiled Model: 1348\n",
      "\n",
      "Compiled Model: 1349\n",
      "\n",
      "Compiled Model: 1350\n",
      "\n",
      "Compiled Model: 1351\n",
      "\n",
      "Compiled Model: 1352\n",
      "\n",
      "Compiled Model: 1353\n",
      "\n"
     ]
    },
    {
     "name": "stderr",
     "output_type": "stream",
     "text": [
      "/Users/achyuth/miniconda3/envs/Proj/lib/python3.10/site-packages/sklearn/utils/validation.py:1143: DataConversionWarning: A column-vector y was passed when a 1d array was expected. Please change the shape of y to (n_samples, ), for example using ravel().\n",
      "  y = column_or_1d(y, warn=True)\n",
      "/Users/achyuth/miniconda3/envs/Proj/lib/python3.10/site-packages/sklearn/utils/validation.py:1143: DataConversionWarning: A column-vector y was passed when a 1d array was expected. Please change the shape of y to (n_samples, ), for example using ravel().\n",
      "  y = column_or_1d(y, warn=True)\n",
      "/Users/achyuth/miniconda3/envs/Proj/lib/python3.10/site-packages/sklearn/utils/validation.py:1143: DataConversionWarning: A column-vector y was passed when a 1d array was expected. Please change the shape of y to (n_samples, ), for example using ravel().\n",
      "  y = column_or_1d(y, warn=True)\n",
      "/Users/achyuth/miniconda3/envs/Proj/lib/python3.10/site-packages/sklearn/utils/validation.py:1143: DataConversionWarning: A column-vector y was passed when a 1d array was expected. Please change the shape of y to (n_samples, ), for example using ravel().\n",
      "  y = column_or_1d(y, warn=True)\n",
      "/Users/achyuth/miniconda3/envs/Proj/lib/python3.10/site-packages/sklearn/utils/validation.py:1143: DataConversionWarning: A column-vector y was passed when a 1d array was expected. Please change the shape of y to (n_samples, ), for example using ravel().\n",
      "  y = column_or_1d(y, warn=True)\n",
      "/Users/achyuth/miniconda3/envs/Proj/lib/python3.10/site-packages/sklearn/utils/validation.py:1143: DataConversionWarning: A column-vector y was passed when a 1d array was expected. Please change the shape of y to (n_samples, ), for example using ravel().\n",
      "  y = column_or_1d(y, warn=True)\n"
     ]
    },
    {
     "name": "stdout",
     "output_type": "stream",
     "text": [
      "Compiled Model: 1354\n",
      "\n",
      "Compiled Model: 1355\n",
      "\n",
      "Compiled Model: 1356\n",
      "\n",
      "Compiled Model: 1357\n",
      "\n",
      "Compiled Model: 1358\n",
      "\n",
      "Compiled Model: 1359\n",
      "\n",
      "Compiled Model: 1360\n",
      "\n",
      "Compiled Model: 1361\n",
      "\n",
      "Compiled Model: 1362\n",
      "\n",
      "Compiled Model: 1363\n",
      "\n",
      "Compiled Model: 1364\n",
      "\n",
      "Compiled Model: 1365\n",
      "\n",
      "Compiled Model: 1366\n",
      "\n",
      "Compiled Model: 1367\n",
      "\n",
      "Compiled Model: 1368\n",
      "\n",
      "Compiled Model: 1369\n",
      "\n",
      "Compiled Model: 1370\n",
      "\n",
      "Compiled Model: 1371\n",
      "\n",
      "Compiled Model: 1372\n",
      "\n",
      "Compiled Model: 1373\n",
      "\n",
      "Compiled Model: 1374\n",
      "\n",
      "Compiled Model: 1375\n",
      "\n",
      "Compiled Model: 1376\n",
      "\n",
      "Compiled Model: 1377\n",
      "\n",
      "Compiled Model: 1378\n",
      "\n",
      "Compiled Model: 1379\n",
      "\n",
      "Compiled Model: 1380\n",
      "\n",
      "Compiled Model: 1381\n",
      "\n",
      "Compiled Model: 1382\n",
      "\n",
      "Compiled Model: 1383\n",
      "\n",
      "Compiled Model: 1384\n",
      "\n",
      "Compiled Model: 1385\n",
      "\n",
      "Compiled Model: 1386\n",
      "\n"
     ]
    },
    {
     "name": "stderr",
     "output_type": "stream",
     "text": [
      "/Users/achyuth/miniconda3/envs/Proj/lib/python3.10/site-packages/sklearn/utils/validation.py:1143: DataConversionWarning: A column-vector y was passed when a 1d array was expected. Please change the shape of y to (n_samples, ), for example using ravel().\n",
      "  y = column_or_1d(y, warn=True)\n",
      "/Users/achyuth/miniconda3/envs/Proj/lib/python3.10/site-packages/sklearn/utils/validation.py:1143: DataConversionWarning: A column-vector y was passed when a 1d array was expected. Please change the shape of y to (n_samples, ), for example using ravel().\n",
      "  y = column_or_1d(y, warn=True)\n",
      "/Users/achyuth/miniconda3/envs/Proj/lib/python3.10/site-packages/sklearn/utils/validation.py:1143: DataConversionWarning: A column-vector y was passed when a 1d array was expected. Please change the shape of y to (n_samples, ), for example using ravel().\n",
      "  y = column_or_1d(y, warn=True)\n",
      "/Users/achyuth/miniconda3/envs/Proj/lib/python3.10/site-packages/sklearn/utils/validation.py:1143: DataConversionWarning: A column-vector y was passed when a 1d array was expected. Please change the shape of y to (n_samples, ), for example using ravel().\n",
      "  y = column_or_1d(y, warn=True)\n",
      "/Users/achyuth/miniconda3/envs/Proj/lib/python3.10/site-packages/sklearn/utils/validation.py:1143: DataConversionWarning: A column-vector y was passed when a 1d array was expected. Please change the shape of y to (n_samples, ), for example using ravel().\n",
      "  y = column_or_1d(y, warn=True)\n",
      "/Users/achyuth/miniconda3/envs/Proj/lib/python3.10/site-packages/sklearn/utils/validation.py:1143: DataConversionWarning: A column-vector y was passed when a 1d array was expected. Please change the shape of y to (n_samples, ), for example using ravel().\n",
      "  y = column_or_1d(y, warn=True)\n",
      "/Users/achyuth/miniconda3/envs/Proj/lib/python3.10/site-packages/sklearn/utils/validation.py:1143: DataConversionWarning: A column-vector y was passed when a 1d array was expected. Please change the shape of y to (n_samples, ), for example using ravel().\n",
      "  y = column_or_1d(y, warn=True)\n",
      "/Users/achyuth/miniconda3/envs/Proj/lib/python3.10/site-packages/sklearn/utils/validation.py:1143: DataConversionWarning: A column-vector y was passed when a 1d array was expected. Please change the shape of y to (n_samples, ), for example using ravel().\n",
      "  y = column_or_1d(y, warn=True)\n",
      "/Users/achyuth/miniconda3/envs/Proj/lib/python3.10/site-packages/sklearn/utils/validation.py:1143: DataConversionWarning: A column-vector y was passed when a 1d array was expected. Please change the shape of y to (n_samples, ), for example using ravel().\n",
      "  y = column_or_1d(y, warn=True)\n"
     ]
    },
    {
     "name": "stdout",
     "output_type": "stream",
     "text": [
      "Compiled Model: 1387\n",
      "\n",
      "Compiled Model: 1388\n",
      "\n",
      "Compiled Model: 1389\n",
      "\n",
      "Compiled Model: 1390\n",
      "\n",
      "Compiled Model: 1391\n",
      "\n",
      "Compiled Model: 1392\n",
      "\n",
      "Compiled Model: 1393\n",
      "\n",
      "Compiled Model: 1394\n",
      "\n",
      "Compiled Model: 1395\n",
      "\n",
      "Compiled Model: 1396\n",
      "\n",
      "Compiled Model: 1397\n",
      "\n",
      "Compiled Model: 1398\n",
      "\n",
      "Compiled Model: 1399\n",
      "\n",
      "Compiled Model: 1400\n",
      "\n",
      "Compiled Model: 1401\n",
      "\n",
      "Compiled Model: 1402\n",
      "\n",
      "Compiled Model: 1403\n",
      "\n",
      "Compiled Model: 1404\n",
      "\n",
      "Compiled Model: 1405\n",
      "\n",
      "Compiled Model: 1406\n",
      "\n",
      "Compiled Model: 1407\n",
      "\n",
      "Compiled Model: 1408\n",
      "\n",
      "Compiled Model: 1409\n",
      "\n",
      "Compiled Model: 1410\n",
      "\n",
      "Compiled Model: 1411\n",
      "\n",
      "Compiled Model: 1412\n",
      "\n",
      "Compiled Model: 1413\n",
      "\n",
      "Compiled Model: 1414\n",
      "\n",
      "Compiled Model: 1415\n",
      "\n",
      "Compiled Model: 1416\n",
      "\n",
      "Compiled Model: 1417\n",
      "\n",
      "Compiled Model: 1418\n",
      "\n",
      "Compiled Model: 1419\n",
      "\n",
      "Compiled Model: 1420\n",
      "\n",
      "Compiled Model: 1421\n",
      "\n",
      "Compiled Model: 1422\n",
      "\n",
      "Compiled Model: 1423\n",
      "\n",
      "Compiled Model: 1424\n",
      "\n",
      "Compiled Model: 1425\n",
      "\n",
      "Compiled Model: 1426\n",
      "\n",
      "Compiled Model: 1427\n",
      "\n",
      "Compiled Model: 1428\n",
      "\n",
      "Compiled Model: 1429\n",
      "\n",
      "Compiled Model: 1430\n",
      "\n",
      "Compiled Model: 1431\n",
      "\n",
      "Compiled Model: 1432\n",
      "\n",
      "Compiled Model: 1433\n",
      "\n",
      "Compiled Model: 1434\n",
      "\n",
      "Compiled Model: 1435\n",
      "\n",
      "Compiled Model: 1436\n",
      "\n",
      "Compiled Model: 1437\n",
      "\n",
      "Compiled Model: 1438\n",
      "\n",
      "Compiled Model: 1439\n",
      "\n",
      "Compiled Model: 1440\n",
      "\n",
      "Compiled Model: 1441\n",
      "\n",
      "Compiled Model: 1442\n",
      "\n",
      "Compiled Model: 1443\n",
      "\n"
     ]
    },
    {
     "name": "stderr",
     "output_type": "stream",
     "text": [
      "/Users/achyuth/miniconda3/envs/Proj/lib/python3.10/site-packages/sklearn/utils/validation.py:1143: DataConversionWarning: A column-vector y was passed when a 1d array was expected. Please change the shape of y to (n_samples, ), for example using ravel().\n",
      "  y = column_or_1d(y, warn=True)\n",
      "/Users/achyuth/miniconda3/envs/Proj/lib/python3.10/site-packages/sklearn/utils/validation.py:1143: DataConversionWarning: A column-vector y was passed when a 1d array was expected. Please change the shape of y to (n_samples, ), for example using ravel().\n",
      "  y = column_or_1d(y, warn=True)\n",
      "/Users/achyuth/miniconda3/envs/Proj/lib/python3.10/site-packages/sklearn/utils/validation.py:1143: DataConversionWarning: A column-vector y was passed when a 1d array was expected. Please change the shape of y to (n_samples, ), for example using ravel().\n",
      "  y = column_or_1d(y, warn=True)\n"
     ]
    },
    {
     "name": "stdout",
     "output_type": "stream",
     "text": [
      "Compiled Model: 1444\n",
      "\n",
      "Compiled Model: 1445\n",
      "\n",
      "Compiled Model: 1446\n",
      "\n",
      "Compiled Model: 1447\n",
      "\n",
      "Compiled Model: 1448\n",
      "\n",
      "Compiled Model: 1449\n",
      "\n",
      "Compiled Model: 1450\n",
      "\n",
      "Compiled Model: 1451\n",
      "\n",
      "Compiled Model: 1452\n",
      "\n",
      "Compiled Model: 1453\n",
      "\n",
      "Compiled Model: 1454\n",
      "\n",
      "Compiled Model: 1455\n",
      "\n",
      "Compiled Model: 1456\n",
      "\n"
     ]
    },
    {
     "name": "stderr",
     "output_type": "stream",
     "text": [
      "/Users/achyuth/miniconda3/envs/Proj/lib/python3.10/site-packages/sklearn/utils/validation.py:1143: DataConversionWarning: A column-vector y was passed when a 1d array was expected. Please change the shape of y to (n_samples, ), for example using ravel().\n",
      "  y = column_or_1d(y, warn=True)\n",
      "/Users/achyuth/miniconda3/envs/Proj/lib/python3.10/site-packages/sklearn/utils/validation.py:1143: DataConversionWarning: A column-vector y was passed when a 1d array was expected. Please change the shape of y to (n_samples, ), for example using ravel().\n",
      "  y = column_or_1d(y, warn=True)\n",
      "/Users/achyuth/miniconda3/envs/Proj/lib/python3.10/site-packages/sklearn/utils/validation.py:1143: DataConversionWarning: A column-vector y was passed when a 1d array was expected. Please change the shape of y to (n_samples, ), for example using ravel().\n",
      "  y = column_or_1d(y, warn=True)\n"
     ]
    },
    {
     "name": "stdout",
     "output_type": "stream",
     "text": [
      "Compiled Model: 1457\n",
      "\n"
     ]
    },
    {
     "name": "stderr",
     "output_type": "stream",
     "text": [
      "/Users/achyuth/miniconda3/envs/Proj/lib/python3.10/site-packages/sklearn/utils/validation.py:1143: DataConversionWarning: A column-vector y was passed when a 1d array was expected. Please change the shape of y to (n_samples, ), for example using ravel().\n",
      "  y = column_or_1d(y, warn=True)\n"
     ]
    },
    {
     "name": "stdout",
     "output_type": "stream",
     "text": [
      "Compiled Model: 1458\n",
      "\n"
     ]
    },
    {
     "name": "stderr",
     "output_type": "stream",
     "text": [
      "/Users/achyuth/miniconda3/envs/Proj/lib/python3.10/site-packages/sklearn/utils/validation.py:1143: DataConversionWarning: A column-vector y was passed when a 1d array was expected. Please change the shape of y to (n_samples, ), for example using ravel().\n",
      "  y = column_or_1d(y, warn=True)\n"
     ]
    },
    {
     "name": "stdout",
     "output_type": "stream",
     "text": [
      "Compiled Model: 1459\n",
      "\n"
     ]
    },
    {
     "name": "stderr",
     "output_type": "stream",
     "text": [
      "/Users/achyuth/miniconda3/envs/Proj/lib/python3.10/site-packages/sklearn/utils/validation.py:1143: DataConversionWarning: A column-vector y was passed when a 1d array was expected. Please change the shape of y to (n_samples, ), for example using ravel().\n",
      "  y = column_or_1d(y, warn=True)\n"
     ]
    },
    {
     "name": "stdout",
     "output_type": "stream",
     "text": [
      "Compiled Model: 1460\n",
      "\n",
      "Compiled Model: 1461\n",
      "\n",
      "Compiled Model: 1462\n",
      "\n",
      "Compiled Model: 1463\n",
      "\n",
      "Compiled Model: 1464\n",
      "\n"
     ]
    },
    {
     "name": "stderr",
     "output_type": "stream",
     "text": [
      "/Users/achyuth/miniconda3/envs/Proj/lib/python3.10/site-packages/sklearn/utils/validation.py:1143: DataConversionWarning: A column-vector y was passed when a 1d array was expected. Please change the shape of y to (n_samples, ), for example using ravel().\n",
      "  y = column_or_1d(y, warn=True)\n"
     ]
    },
    {
     "name": "stdout",
     "output_type": "stream",
     "text": [
      "Compiled Model: 1465\n",
      "\n"
     ]
    },
    {
     "name": "stderr",
     "output_type": "stream",
     "text": [
      "/Users/achyuth/miniconda3/envs/Proj/lib/python3.10/site-packages/sklearn/utils/validation.py:1143: DataConversionWarning: A column-vector y was passed when a 1d array was expected. Please change the shape of y to (n_samples, ), for example using ravel().\n",
      "  y = column_or_1d(y, warn=True)\n"
     ]
    },
    {
     "name": "stdout",
     "output_type": "stream",
     "text": [
      "Compiled Model: 1466\n",
      "\n"
     ]
    },
    {
     "name": "stderr",
     "output_type": "stream",
     "text": [
      "/Users/achyuth/miniconda3/envs/Proj/lib/python3.10/site-packages/sklearn/utils/validation.py:1143: DataConversionWarning: A column-vector y was passed when a 1d array was expected. Please change the shape of y to (n_samples, ), for example using ravel().\n",
      "  y = column_or_1d(y, warn=True)\n"
     ]
    },
    {
     "name": "stdout",
     "output_type": "stream",
     "text": [
      "Compiled Model: 1467\n",
      "\n"
     ]
    },
    {
     "name": "stderr",
     "output_type": "stream",
     "text": [
      "/Users/achyuth/miniconda3/envs/Proj/lib/python3.10/site-packages/sklearn/utils/validation.py:1143: DataConversionWarning: A column-vector y was passed when a 1d array was expected. Please change the shape of y to (n_samples, ), for example using ravel().\n",
      "  y = column_or_1d(y, warn=True)\n"
     ]
    },
    {
     "name": "stdout",
     "output_type": "stream",
     "text": [
      "Compiled Model: 1468\n",
      "\n",
      "Compiled Model: 1469\n",
      "\n",
      "Compiled Model: 1470\n",
      "\n",
      "Compiled Model: 1471\n",
      "\n",
      "Compiled Model: 1472\n",
      "\n",
      "Compiled Model: 1473\n",
      "\n",
      "Compiled Model: 1474\n",
      "\n",
      "Compiled Model: 1475\n",
      "\n",
      "Compiled Model: 1476\n",
      "\n",
      "Compiled Model: 1477\n",
      "\n",
      "Compiled Model: 1478\n",
      "\n",
      "Compiled Model: 1479\n",
      "\n",
      "Compiled Model: 1480\n",
      "\n",
      "Compiled Model: 1481\n",
      "\n",
      "Compiled Model: 1482\n",
      "\n",
      "Compiled Model: 1483\n",
      "\n",
      "Compiled Model: 1484\n",
      "\n",
      "Compiled Model: 1485\n",
      "\n",
      "Compiled Model: 1486\n",
      "\n",
      "Compiled Model: 1487\n",
      "\n",
      "Compiled Model: 1488\n",
      "\n",
      "Compiled Model: 1489\n",
      "\n",
      "Compiled Model: 1490\n",
      "\n",
      "Compiled Model: 1491\n",
      "\n",
      "Compiled Model: 1492\n",
      "\n",
      "Compiled Model: 1493\n",
      "\n",
      "Compiled Model: 1494\n",
      "\n",
      "Compiled Model: 1495\n",
      "\n",
      "Compiled Model: 1496\n",
      "\n"
     ]
    },
    {
     "name": "stderr",
     "output_type": "stream",
     "text": [
      "/Users/achyuth/miniconda3/envs/Proj/lib/python3.10/site-packages/sklearn/utils/validation.py:1143: DataConversionWarning: A column-vector y was passed when a 1d array was expected. Please change the shape of y to (n_samples, ), for example using ravel().\n",
      "  y = column_or_1d(y, warn=True)\n",
      "/Users/achyuth/miniconda3/envs/Proj/lib/python3.10/site-packages/sklearn/utils/validation.py:1143: DataConversionWarning: A column-vector y was passed when a 1d array was expected. Please change the shape of y to (n_samples, ), for example using ravel().\n",
      "  y = column_or_1d(y, warn=True)\n",
      "/Users/achyuth/miniconda3/envs/Proj/lib/python3.10/site-packages/sklearn/utils/validation.py:1143: DataConversionWarning: A column-vector y was passed when a 1d array was expected. Please change the shape of y to (n_samples, ), for example using ravel().\n",
      "  y = column_or_1d(y, warn=True)\n",
      "/Users/achyuth/miniconda3/envs/Proj/lib/python3.10/site-packages/sklearn/utils/validation.py:1143: DataConversionWarning: A column-vector y was passed when a 1d array was expected. Please change the shape of y to (n_samples, ), for example using ravel().\n",
      "  y = column_or_1d(y, warn=True)\n",
      "/Users/achyuth/miniconda3/envs/Proj/lib/python3.10/site-packages/sklearn/utils/validation.py:1143: DataConversionWarning: A column-vector y was passed when a 1d array was expected. Please change the shape of y to (n_samples, ), for example using ravel().\n",
      "  y = column_or_1d(y, warn=True)\n"
     ]
    },
    {
     "name": "stdout",
     "output_type": "stream",
     "text": [
      "Compiled Model: 1497\n",
      "\n",
      "Compiled Model: 1498\n",
      "\n",
      "Compiled Model: 1499\n",
      "\n"
     ]
    },
    {
     "name": "stderr",
     "output_type": "stream",
     "text": [
      "/Users/achyuth/miniconda3/envs/Proj/lib/python3.10/site-packages/sklearn/utils/validation.py:1143: DataConversionWarning: A column-vector y was passed when a 1d array was expected. Please change the shape of y to (n_samples, ), for example using ravel().\n",
      "  y = column_or_1d(y, warn=True)\n",
      "/Users/achyuth/miniconda3/envs/Proj/lib/python3.10/site-packages/sklearn/utils/validation.py:1143: DataConversionWarning: A column-vector y was passed when a 1d array was expected. Please change the shape of y to (n_samples, ), for example using ravel().\n",
      "  y = column_or_1d(y, warn=True)\n",
      "/Users/achyuth/miniconda3/envs/Proj/lib/python3.10/site-packages/sklearn/utils/validation.py:1143: DataConversionWarning: A column-vector y was passed when a 1d array was expected. Please change the shape of y to (n_samples, ), for example using ravel().\n",
      "  y = column_or_1d(y, warn=True)\n"
     ]
    },
    {
     "name": "stdout",
     "output_type": "stream",
     "text": [
      "Compiled Model: 1500\n",
      "\n",
      "Compiled Model: 1501\n",
      "\n",
      "Compiled Model: 1502\n",
      "\n",
      "Compiled Model: 1503\n",
      "\n",
      "Compiled Model: 1504\n",
      "\n",
      "Compiled Model: 1505\n",
      "\n",
      "Compiled Model: 1506\n",
      "\n",
      "Compiled Model: 1507\n",
      "\n",
      "Compiled Model: 1508\n",
      "\n",
      "Compiled Model: 1509\n",
      "\n",
      "Compiled Model: 1510\n",
      "\n",
      "Compiled Model: 1511\n",
      "\n",
      "Compiled Model: 1512\n",
      "\n",
      "Compiled Model: 1513\n",
      "\n",
      "Compiled Model: 1514\n",
      "\n",
      "Compiled Model: 1515\n",
      "\n",
      "Compiled Model: 1516\n",
      "\n",
      "Compiled Model: 1517\n",
      "\n",
      "Compiled Model: 1518\n",
      "\n",
      "Compiled Model: 1519\n",
      "\n",
      "Compiled Model: 1520\n",
      "\n",
      "Compiled Model: 1521\n",
      "\n",
      "Compiled Model: 1522\n",
      "\n",
      "Compiled Model: 1523\n",
      "\n",
      "Compiled Model: 1524\n",
      "\n",
      "Compiled Model: 1525\n",
      "\n",
      "Compiled Model: 1526\n",
      "\n",
      "Compiled Model: 1527\n",
      "\n",
      "Compiled Model: 1528\n",
      "\n",
      "Compiled Model: 1529\n",
      "\n",
      "Compiled Model: 1530\n",
      "\n",
      "Compiled Model: 1531\n",
      "\n",
      "Compiled Model: 1532\n",
      "\n",
      "Compiled Model: 1533\n",
      "\n",
      "Compiled Model: 1534\n",
      "\n",
      "Compiled Model: 1535\n",
      "\n",
      "Compiled Model: 1536\n",
      "\n",
      "Compiled Model: 1537\n",
      "\n",
      "Compiled Model: 1538\n",
      "\n",
      "Compiled Model: 1539\n",
      "\n",
      "Compiled Model: 1540\n",
      "\n",
      "Compiled Model: 1541\n",
      "\n",
      "Compiled Model: 1542\n",
      "\n",
      "Compiled Model: 1543\n",
      "\n",
      "Compiled Model: 1544\n",
      "\n",
      "Compiled Model: 1545\n",
      "\n"
     ]
    },
    {
     "name": "stderr",
     "output_type": "stream",
     "text": [
      "/Users/achyuth/miniconda3/envs/Proj/lib/python3.10/site-packages/sklearn/utils/validation.py:1143: DataConversionWarning: A column-vector y was passed when a 1d array was expected. Please change the shape of y to (n_samples, ), for example using ravel().\n",
      "  y = column_or_1d(y, warn=True)\n",
      "/Users/achyuth/miniconda3/envs/Proj/lib/python3.10/site-packages/sklearn/utils/validation.py:1143: DataConversionWarning: A column-vector y was passed when a 1d array was expected. Please change the shape of y to (n_samples, ), for example using ravel().\n",
      "  y = column_or_1d(y, warn=True)\n",
      "/Users/achyuth/miniconda3/envs/Proj/lib/python3.10/site-packages/sklearn/utils/validation.py:1143: DataConversionWarning: A column-vector y was passed when a 1d array was expected. Please change the shape of y to (n_samples, ), for example using ravel().\n",
      "  y = column_or_1d(y, warn=True)\n",
      "/Users/achyuth/miniconda3/envs/Proj/lib/python3.10/site-packages/sklearn/utils/validation.py:1143: DataConversionWarning: A column-vector y was passed when a 1d array was expected. Please change the shape of y to (n_samples, ), for example using ravel().\n",
      "  y = column_or_1d(y, warn=True)\n",
      "/Users/achyuth/miniconda3/envs/Proj/lib/python3.10/site-packages/sklearn/utils/validation.py:1143: DataConversionWarning: A column-vector y was passed when a 1d array was expected. Please change the shape of y to (n_samples, ), for example using ravel().\n",
      "  y = column_or_1d(y, warn=True)\n",
      "/Users/achyuth/miniconda3/envs/Proj/lib/python3.10/site-packages/sklearn/utils/validation.py:1143: DataConversionWarning: A column-vector y was passed when a 1d array was expected. Please change the shape of y to (n_samples, ), for example using ravel().\n",
      "  y = column_or_1d(y, warn=True)\n"
     ]
    },
    {
     "name": "stdout",
     "output_type": "stream",
     "text": [
      "Compiled Model: 1546\n",
      "\n",
      "Compiled Model: 1547\n",
      "\n",
      "Compiled Model: 1548\n",
      "\n",
      "Compiled Model: 1549\n",
      "\n",
      "Compiled Model: 1550\n",
      "\n",
      "Compiled Model: 1551\n",
      "\n",
      "Compiled Model: 1552\n",
      "\n",
      "Compiled Model: 1553\n",
      "\n",
      "Compiled Model: 1554\n",
      "\n",
      "Compiled Model: 1555\n",
      "\n",
      "Compiled Model: 1556\n",
      "\n",
      "Compiled Model: 1557\n",
      "\n",
      "Compiled Model: 1558\n",
      "\n",
      "Compiled Model: 1559\n",
      "\n",
      "Compiled Model: 1560\n",
      "\n",
      "Compiled Model: 1561\n",
      "\n",
      "Compiled Model: 1562\n",
      "\n",
      "Compiled Model: 1563\n",
      "\n",
      "Compiled Model: 1564\n",
      "\n",
      "Compiled Model: 1565\n",
      "\n",
      "Compiled Model: 1566\n",
      "\n",
      "Compiled Model: 1567\n",
      "\n",
      "Compiled Model: 1568\n",
      "\n",
      "Compiled Model: 1569\n",
      "\n",
      "Compiled Model: 1570\n",
      "\n",
      "Compiled Model: 1571\n",
      "\n",
      "Compiled Model: 1572\n",
      "\n",
      "Compiled Model: 1573\n",
      "\n",
      "Compiled Model: 1574\n",
      "\n",
      "Compiled Model: 1575\n",
      "\n",
      "Compiled Model: 1576\n",
      "\n",
      "Compiled Model: 1577\n",
      "\n",
      "Compiled Model: 1578\n",
      "\n",
      "Compiled Model: 1579\n",
      "\n",
      "Compiled Model: 1580\n",
      "\n",
      "Compiled Model: 1581\n",
      "\n",
      "Compiled Model: 1582\n",
      "\n",
      "Compiled Model: 1583\n",
      "\n",
      "Compiled Model: 1584\n",
      "\n",
      "Compiled Model: 1585\n",
      "\n",
      "Compiled Model: 1586\n",
      "\n",
      "Compiled Model: 1587\n",
      "\n",
      "Compiled Model: 1588\n",
      "\n",
      "Compiled Model: 1589\n",
      "\n",
      "Compiled Model: 1590\n",
      "\n",
      "Compiled Model: 1591\n",
      "\n",
      "Compiled Model: 1592\n",
      "\n",
      "Compiled Model: 1593\n",
      "\n",
      "Compiled Model: 1594\n",
      "\n",
      "Compiled Model: 1595\n",
      "\n",
      "Compiled Model: 1596\n",
      "\n",
      "Compiled Model: 1597\n",
      "\n",
      "Compiled Model: 1598\n",
      "\n",
      "Compiled Model: 1599\n",
      "\n",
      "Compiled Model: 1600\n",
      "\n",
      "Compiled Model: 1601\n",
      "\n",
      "Compiled Model: 1602\n",
      "\n",
      "Compiled Model: 1603\n",
      "\n",
      "Compiled Model: 1604\n",
      "\n",
      "Compiled Model: 1605\n",
      "\n",
      "Compiled Model: 1606\n",
      "\n",
      "Compiled Model: 1607\n",
      "\n",
      "Compiled Model: 1608\n",
      "\n",
      "Compiled Model: 1609\n",
      "\n",
      "Compiled Model: 1610\n",
      "\n",
      "Compiled Model: 1611\n",
      "\n",
      "Compiled Model: 1612\n",
      "\n",
      "Compiled Model: 1613\n",
      "\n",
      "Compiled Model: 1614\n",
      "\n",
      "Compiled Model: 1615\n",
      "\n",
      "Compiled Model: 1616\n",
      "\n",
      "Compiled Model: 1617\n",
      "\n",
      "Compiled Model: 1618\n",
      "\n",
      "Compiled Model: 1619\n",
      "\n",
      "Compiled Model: 1620\n",
      "\n",
      "Compiled Model: 1621\n",
      "\n",
      "Compiled Model: 1622\n",
      "\n",
      "Compiled Model: 1623\n",
      "\n",
      "Compiled Model: 1624\n",
      "\n",
      "Compiled Model: 1625\n",
      "\n",
      "Compiled Model: 1626\n",
      "\n",
      "Compiled Model: 1627\n",
      "\n",
      "Compiled Model: 1628\n",
      "\n",
      "Compiled Model: 1629\n",
      "\n",
      "Compiled Model: 1630\n",
      "\n",
      "Compiled Model: 1631\n",
      "\n",
      "Compiled Model: 1632\n",
      "\n"
     ]
    },
    {
     "name": "stderr",
     "output_type": "stream",
     "text": [
      "/Users/achyuth/miniconda3/envs/Proj/lib/python3.10/site-packages/sklearn/utils/validation.py:1143: DataConversionWarning: A column-vector y was passed when a 1d array was expected. Please change the shape of y to (n_samples, ), for example using ravel().\n",
      "  y = column_or_1d(y, warn=True)\n",
      "/Users/achyuth/miniconda3/envs/Proj/lib/python3.10/site-packages/sklearn/utils/validation.py:1143: DataConversionWarning: A column-vector y was passed when a 1d array was expected. Please change the shape of y to (n_samples, ), for example using ravel().\n",
      "  y = column_or_1d(y, warn=True)\n",
      "/Users/achyuth/miniconda3/envs/Proj/lib/python3.10/site-packages/sklearn/utils/validation.py:1143: DataConversionWarning: A column-vector y was passed when a 1d array was expected. Please change the shape of y to (n_samples, ), for example using ravel().\n",
      "  y = column_or_1d(y, warn=True)\n",
      "/Users/achyuth/miniconda3/envs/Proj/lib/python3.10/site-packages/sklearn/utils/validation.py:1143: DataConversionWarning: A column-vector y was passed when a 1d array was expected. Please change the shape of y to (n_samples, ), for example using ravel().\n",
      "  y = column_or_1d(y, warn=True)\n",
      "/Users/achyuth/miniconda3/envs/Proj/lib/python3.10/site-packages/sklearn/utils/validation.py:1143: DataConversionWarning: A column-vector y was passed when a 1d array was expected. Please change the shape of y to (n_samples, ), for example using ravel().\n",
      "  y = column_or_1d(y, warn=True)\n",
      "/Users/achyuth/miniconda3/envs/Proj/lib/python3.10/site-packages/sklearn/utils/validation.py:1143: DataConversionWarning: A column-vector y was passed when a 1d array was expected. Please change the shape of y to (n_samples, ), for example using ravel().\n",
      "  y = column_or_1d(y, warn=True)\n",
      "/Users/achyuth/miniconda3/envs/Proj/lib/python3.10/site-packages/sklearn/utils/validation.py:1143: DataConversionWarning: A column-vector y was passed when a 1d array was expected. Please change the shape of y to (n_samples, ), for example using ravel().\n",
      "  y = column_or_1d(y, warn=True)\n",
      "/Users/achyuth/miniconda3/envs/Proj/lib/python3.10/site-packages/sklearn/utils/validation.py:1143: DataConversionWarning: A column-vector y was passed when a 1d array was expected. Please change the shape of y to (n_samples, ), for example using ravel().\n",
      "  y = column_or_1d(y, warn=True)\n",
      "/Users/achyuth/miniconda3/envs/Proj/lib/python3.10/site-packages/sklearn/utils/validation.py:1143: DataConversionWarning: A column-vector y was passed when a 1d array was expected. Please change the shape of y to (n_samples, ), for example using ravel().\n",
      "  y = column_or_1d(y, warn=True)\n",
      "/Users/achyuth/miniconda3/envs/Proj/lib/python3.10/site-packages/sklearn/utils/validation.py:1143: DataConversionWarning: A column-vector y was passed when a 1d array was expected. Please change the shape of y to (n_samples, ), for example using ravel().\n",
      "  y = column_or_1d(y, warn=True)\n"
     ]
    },
    {
     "name": "stdout",
     "output_type": "stream",
     "text": [
      "Compiled Model: 1633\n",
      "\n",
      "Compiled Model: 1634\n",
      "\n",
      "Compiled Model: 1635\n",
      "\n",
      "Compiled Model: 1636\n",
      "\n",
      "Compiled Model: 1637\n",
      "\n",
      "Compiled Model: 1638\n",
      "\n",
      "Compiled Model: 1639\n",
      "\n",
      "Compiled Model: 1640\n",
      "\n"
     ]
    },
    {
     "name": "stderr",
     "output_type": "stream",
     "text": [
      "/Users/achyuth/miniconda3/envs/Proj/lib/python3.10/site-packages/sklearn/utils/validation.py:1143: DataConversionWarning: A column-vector y was passed when a 1d array was expected. Please change the shape of y to (n_samples, ), for example using ravel().\n",
      "  y = column_or_1d(y, warn=True)\n",
      "/Users/achyuth/miniconda3/envs/Proj/lib/python3.10/site-packages/sklearn/utils/validation.py:1143: DataConversionWarning: A column-vector y was passed when a 1d array was expected. Please change the shape of y to (n_samples, ), for example using ravel().\n",
      "  y = column_or_1d(y, warn=True)\n",
      "/Users/achyuth/miniconda3/envs/Proj/lib/python3.10/site-packages/sklearn/utils/validation.py:1143: DataConversionWarning: A column-vector y was passed when a 1d array was expected. Please change the shape of y to (n_samples, ), for example using ravel().\n",
      "  y = column_or_1d(y, warn=True)\n"
     ]
    },
    {
     "name": "stdout",
     "output_type": "stream",
     "text": [
      "Compiled Model: 1641\n",
      "\n",
      "Compiled Model: 1642\n",
      "\n",
      "Compiled Model: 1643\n",
      "\n"
     ]
    },
    {
     "name": "stderr",
     "output_type": "stream",
     "text": [
      "/Users/achyuth/miniconda3/envs/Proj/lib/python3.10/site-packages/sklearn/utils/validation.py:1143: DataConversionWarning: A column-vector y was passed when a 1d array was expected. Please change the shape of y to (n_samples, ), for example using ravel().\n",
      "  y = column_or_1d(y, warn=True)\n",
      "/Users/achyuth/miniconda3/envs/Proj/lib/python3.10/site-packages/sklearn/utils/validation.py:1143: DataConversionWarning: A column-vector y was passed when a 1d array was expected. Please change the shape of y to (n_samples, ), for example using ravel().\n",
      "  y = column_or_1d(y, warn=True)\n"
     ]
    },
    {
     "name": "stdout",
     "output_type": "stream",
     "text": [
      "Compiled Model: 1644\n",
      "\n",
      "Compiled Model: 1645\n",
      "\n",
      "Compiled Model: 1646\n",
      "\n",
      "Compiled Model: 1647\n",
      "\n",
      "Compiled Model: 1648\n",
      "\n",
      "Compiled Model: 1649\n",
      "\n",
      "Compiled Model: 1650\n",
      "\n"
     ]
    },
    {
     "name": "stderr",
     "output_type": "stream",
     "text": [
      "/Users/achyuth/miniconda3/envs/Proj/lib/python3.10/site-packages/sklearn/utils/validation.py:1143: DataConversionWarning: A column-vector y was passed when a 1d array was expected. Please change the shape of y to (n_samples, ), for example using ravel().\n",
      "  y = column_or_1d(y, warn=True)\n",
      "/Users/achyuth/miniconda3/envs/Proj/lib/python3.10/site-packages/sklearn/utils/validation.py:1143: DataConversionWarning: A column-vector y was passed when a 1d array was expected. Please change the shape of y to (n_samples, ), for example using ravel().\n",
      "  y = column_or_1d(y, warn=True)\n"
     ]
    },
    {
     "name": "stdout",
     "output_type": "stream",
     "text": [
      "Compiled Model: 1651\n",
      "\n"
     ]
    },
    {
     "name": "stderr",
     "output_type": "stream",
     "text": [
      "/Users/achyuth/miniconda3/envs/Proj/lib/python3.10/site-packages/sklearn/utils/validation.py:1143: DataConversionWarning: A column-vector y was passed when a 1d array was expected. Please change the shape of y to (n_samples, ), for example using ravel().\n",
      "  y = column_or_1d(y, warn=True)\n"
     ]
    },
    {
     "name": "stdout",
     "output_type": "stream",
     "text": [
      "Compiled Model: 1652\n",
      "\n",
      "Compiled Model: 1653\n",
      "\n",
      "Compiled Model: 1654\n",
      "\n",
      "Compiled Model: 1655\n",
      "\n",
      "Compiled Model: 1656\n",
      "\n"
     ]
    },
    {
     "name": "stderr",
     "output_type": "stream",
     "text": [
      "/Users/achyuth/miniconda3/envs/Proj/lib/python3.10/site-packages/sklearn/utils/validation.py:1143: DataConversionWarning: A column-vector y was passed when a 1d array was expected. Please change the shape of y to (n_samples, ), for example using ravel().\n",
      "  y = column_or_1d(y, warn=True)\n"
     ]
    },
    {
     "name": "stdout",
     "output_type": "stream",
     "text": [
      "Compiled Model: 1657\n",
      "\n"
     ]
    },
    {
     "name": "stderr",
     "output_type": "stream",
     "text": [
      "/Users/achyuth/miniconda3/envs/Proj/lib/python3.10/site-packages/sklearn/utils/validation.py:1143: DataConversionWarning: A column-vector y was passed when a 1d array was expected. Please change the shape of y to (n_samples, ), for example using ravel().\n",
      "  y = column_or_1d(y, warn=True)\n"
     ]
    },
    {
     "name": "stdout",
     "output_type": "stream",
     "text": [
      "Compiled Model: 1658\n",
      "\n"
     ]
    },
    {
     "name": "stderr",
     "output_type": "stream",
     "text": [
      "/Users/achyuth/miniconda3/envs/Proj/lib/python3.10/site-packages/sklearn/utils/validation.py:1143: DataConversionWarning: A column-vector y was passed when a 1d array was expected. Please change the shape of y to (n_samples, ), for example using ravel().\n",
      "  y = column_or_1d(y, warn=True)\n"
     ]
    },
    {
     "name": "stdout",
     "output_type": "stream",
     "text": [
      "Compiled Model: 1659\n",
      "\n"
     ]
    },
    {
     "name": "stderr",
     "output_type": "stream",
     "text": [
      "/Users/achyuth/miniconda3/envs/Proj/lib/python3.10/site-packages/sklearn/utils/validation.py:1143: DataConversionWarning: A column-vector y was passed when a 1d array was expected. Please change the shape of y to (n_samples, ), for example using ravel().\n",
      "  y = column_or_1d(y, warn=True)\n"
     ]
    },
    {
     "name": "stdout",
     "output_type": "stream",
     "text": [
      "Compiled Model: 1660\n",
      "\n",
      "Compiled Model: 1661\n",
      "\n",
      "Compiled Model: 1662\n",
      "\n",
      "Compiled Model: 1663\n",
      "\n",
      "Compiled Model: 1664\n",
      "\n",
      "Compiled Model: 1665\n",
      "\n",
      "Compiled Model: 1666\n",
      "\n",
      "Compiled Model: 1667\n",
      "\n",
      "Compiled Model: 1668\n",
      "\n",
      "Compiled Model: 1669\n",
      "\n",
      "Compiled Model: 1670\n",
      "\n",
      "Compiled Model: 1671\n",
      "\n",
      "Compiled Model: 1672\n",
      "\n",
      "Compiled Model: 1673\n",
      "\n",
      "Compiled Model: 1674\n",
      "\n",
      "Compiled Model: 1675\n",
      "\n",
      "Compiled Model: 1676\n",
      "\n",
      "Compiled Model: 1677\n",
      "\n",
      "Compiled Model: 1678\n",
      "\n",
      "Compiled Model: 1679\n",
      "\n",
      "Compiled Model: 1680\n",
      "\n",
      "Compiled Model: 1681\n",
      "\n",
      "Compiled Model: 1682\n",
      "\n",
      "Compiled Model: 1683\n",
      "\n",
      "Compiled Model: 1684\n",
      "\n",
      "Compiled Model: 1685\n",
      "\n",
      "Compiled Model: 1686\n",
      "\n",
      "Compiled Model: 1687\n",
      "\n",
      "Compiled Model: 1688\n",
      "\n"
     ]
    },
    {
     "name": "stderr",
     "output_type": "stream",
     "text": [
      "/Users/achyuth/miniconda3/envs/Proj/lib/python3.10/site-packages/sklearn/utils/validation.py:1143: DataConversionWarning: A column-vector y was passed when a 1d array was expected. Please change the shape of y to (n_samples, ), for example using ravel().\n",
      "  y = column_or_1d(y, warn=True)\n",
      "/Users/achyuth/miniconda3/envs/Proj/lib/python3.10/site-packages/sklearn/utils/validation.py:1143: DataConversionWarning: A column-vector y was passed when a 1d array was expected. Please change the shape of y to (n_samples, ), for example using ravel().\n",
      "  y = column_or_1d(y, warn=True)\n",
      "/Users/achyuth/miniconda3/envs/Proj/lib/python3.10/site-packages/sklearn/utils/validation.py:1143: DataConversionWarning: A column-vector y was passed when a 1d array was expected. Please change the shape of y to (n_samples, ), for example using ravel().\n",
      "  y = column_or_1d(y, warn=True)\n",
      "/Users/achyuth/miniconda3/envs/Proj/lib/python3.10/site-packages/sklearn/utils/validation.py:1143: DataConversionWarning: A column-vector y was passed when a 1d array was expected. Please change the shape of y to (n_samples, ), for example using ravel().\n",
      "  y = column_or_1d(y, warn=True)\n",
      "/Users/achyuth/miniconda3/envs/Proj/lib/python3.10/site-packages/sklearn/utils/validation.py:1143: DataConversionWarning: A column-vector y was passed when a 1d array was expected. Please change the shape of y to (n_samples, ), for example using ravel().\n",
      "  y = column_or_1d(y, warn=True)\n"
     ]
    },
    {
     "name": "stdout",
     "output_type": "stream",
     "text": [
      "Compiled Model: 1689\n",
      "\n",
      "Compiled Model: 1690\n",
      "\n",
      "Compiled Model: 1691\n",
      "\n",
      "Compiled Model: 1692\n",
      "\n",
      "Compiled Model: 1693\n",
      "\n",
      "Compiled Model: 1694\n",
      "\n",
      "Compiled Model: 1695\n",
      "\n",
      "Compiled Model: 1696\n",
      "\n",
      "Compiled Model: 1697\n",
      "\n",
      "Compiled Model: 1698\n",
      "\n",
      "Compiled Model: 1699\n",
      "\n",
      "Compiled Model: 1700\n",
      "\n",
      "Compiled Model: 1701\n",
      "\n",
      "Compiled Model: 1702\n",
      "\n",
      "Compiled Model: 1703\n",
      "\n",
      "Compiled Model: 1704\n",
      "\n",
      "Compiled Model: 1705\n",
      "\n",
      "Compiled Model: 1706\n",
      "\n",
      "Compiled Model: 1707\n",
      "\n",
      "Compiled Model: 1708\n",
      "\n",
      "Compiled Model: 1709\n",
      "\n",
      "Compiled Model: 1710\n",
      "\n",
      "Compiled Model: 1711\n",
      "\n",
      "Compiled Model: 1712\n",
      "\n",
      "Compiled Model: 1713\n",
      "\n",
      "Compiled Model: 1714\n",
      "\n",
      "Compiled Model: 1715\n",
      "\n",
      "Compiled Model: 1716\n",
      "\n",
      "Compiled Model: 1717\n",
      "\n",
      "Compiled Model: 1718\n",
      "\n",
      "Compiled Model: 1719\n",
      "\n",
      "Compiled Model: 1720\n",
      "\n",
      "Compiled Model: 1721\n",
      "\n",
      "Compiled Model: 1722\n",
      "\n",
      "Compiled Model: 1723\n",
      "\n",
      "Compiled Model: 1724\n",
      "\n",
      "Compiled Model: 1725\n",
      "\n",
      "Compiled Model: 1726\n",
      "\n",
      "Compiled Model: 1727\n",
      "\n",
      "Compiled Model: 1728\n",
      "\n",
      "Compiled Model: 1729\n",
      "\n",
      "Compiled Model: 1730\n",
      "\n",
      "Compiled Model: 1731\n",
      "\n",
      "Compiled Model: 1732\n",
      "\n",
      "Compiled Model: 1733\n",
      "\n",
      "Compiled Model: 1734\n",
      "\n",
      "Compiled Model: 1735\n",
      "\n",
      "Compiled Model: 1736\n",
      "\n"
     ]
    },
    {
     "name": "stderr",
     "output_type": "stream",
     "text": [
      "/Users/achyuth/miniconda3/envs/Proj/lib/python3.10/site-packages/sklearn/utils/validation.py:1143: DataConversionWarning: A column-vector y was passed when a 1d array was expected. Please change the shape of y to (n_samples, ), for example using ravel().\n",
      "  y = column_or_1d(y, warn=True)\n",
      "/Users/achyuth/miniconda3/envs/Proj/lib/python3.10/site-packages/sklearn/utils/validation.py:1143: DataConversionWarning: A column-vector y was passed when a 1d array was expected. Please change the shape of y to (n_samples, ), for example using ravel().\n",
      "  y = column_or_1d(y, warn=True)\n",
      "/Users/achyuth/miniconda3/envs/Proj/lib/python3.10/site-packages/sklearn/utils/validation.py:1143: DataConversionWarning: A column-vector y was passed when a 1d array was expected. Please change the shape of y to (n_samples, ), for example using ravel().\n",
      "  y = column_or_1d(y, warn=True)\n",
      "/Users/achyuth/miniconda3/envs/Proj/lib/python3.10/site-packages/sklearn/utils/validation.py:1143: DataConversionWarning: A column-vector y was passed when a 1d array was expected. Please change the shape of y to (n_samples, ), for example using ravel().\n",
      "  y = column_or_1d(y, warn=True)\n",
      "/Users/achyuth/miniconda3/envs/Proj/lib/python3.10/site-packages/sklearn/utils/validation.py:1143: DataConversionWarning: A column-vector y was passed when a 1d array was expected. Please change the shape of y to (n_samples, ), for example using ravel().\n",
      "  y = column_or_1d(y, warn=True)\n",
      "/Users/achyuth/miniconda3/envs/Proj/lib/python3.10/site-packages/sklearn/utils/validation.py:1143: DataConversionWarning: A column-vector y was passed when a 1d array was expected. Please change the shape of y to (n_samples, ), for example using ravel().\n",
      "  y = column_or_1d(y, warn=True)\n",
      "/Users/achyuth/miniconda3/envs/Proj/lib/python3.10/site-packages/sklearn/utils/validation.py:1143: DataConversionWarning: A column-vector y was passed when a 1d array was expected. Please change the shape of y to (n_samples, ), for example using ravel().\n",
      "  y = column_or_1d(y, warn=True)\n",
      "/Users/achyuth/miniconda3/envs/Proj/lib/python3.10/site-packages/sklearn/utils/validation.py:1143: DataConversionWarning: A column-vector y was passed when a 1d array was expected. Please change the shape of y to (n_samples, ), for example using ravel().\n",
      "  y = column_or_1d(y, warn=True)\n",
      "/Users/achyuth/miniconda3/envs/Proj/lib/python3.10/site-packages/sklearn/utils/validation.py:1143: DataConversionWarning: A column-vector y was passed when a 1d array was expected. Please change the shape of y to (n_samples, ), for example using ravel().\n",
      "  y = column_or_1d(y, warn=True)\n",
      "/Users/achyuth/miniconda3/envs/Proj/lib/python3.10/site-packages/sklearn/utils/validation.py:1143: DataConversionWarning: A column-vector y was passed when a 1d array was expected. Please change the shape of y to (n_samples, ), for example using ravel().\n",
      "  y = column_or_1d(y, warn=True)\n"
     ]
    },
    {
     "name": "stdout",
     "output_type": "stream",
     "text": [
      "Compiled Model: 1737\n",
      "\n",
      "Compiled Model: 1738\n",
      "\n",
      "Compiled Model: 1739\n",
      "\n"
     ]
    },
    {
     "name": "stderr",
     "output_type": "stream",
     "text": [
      "/Users/achyuth/miniconda3/envs/Proj/lib/python3.10/site-packages/sklearn/utils/validation.py:1143: DataConversionWarning: A column-vector y was passed when a 1d array was expected. Please change the shape of y to (n_samples, ), for example using ravel().\n",
      "  y = column_or_1d(y, warn=True)\n",
      "/Users/achyuth/miniconda3/envs/Proj/lib/python3.10/site-packages/sklearn/utils/validation.py:1143: DataConversionWarning: A column-vector y was passed when a 1d array was expected. Please change the shape of y to (n_samples, ), for example using ravel().\n",
      "  y = column_or_1d(y, warn=True)\n",
      "/Users/achyuth/miniconda3/envs/Proj/lib/python3.10/site-packages/sklearn/utils/validation.py:1143: DataConversionWarning: A column-vector y was passed when a 1d array was expected. Please change the shape of y to (n_samples, ), for example using ravel().\n",
      "  y = column_or_1d(y, warn=True)\n",
      "/Users/achyuth/miniconda3/envs/Proj/lib/python3.10/site-packages/sklearn/utils/validation.py:1143: DataConversionWarning: A column-vector y was passed when a 1d array was expected. Please change the shape of y to (n_samples, ), for example using ravel().\n",
      "  y = column_or_1d(y, warn=True)\n",
      "/Users/achyuth/miniconda3/envs/Proj/lib/python3.10/site-packages/sklearn/utils/validation.py:1143: DataConversionWarning: A column-vector y was passed when a 1d array was expected. Please change the shape of y to (n_samples, ), for example using ravel().\n",
      "  y = column_or_1d(y, warn=True)\n",
      "/Users/achyuth/miniconda3/envs/Proj/lib/python3.10/site-packages/sklearn/utils/validation.py:1143: DataConversionWarning: A column-vector y was passed when a 1d array was expected. Please change the shape of y to (n_samples, ), for example using ravel().\n",
      "  y = column_or_1d(y, warn=True)\n",
      "/Users/achyuth/miniconda3/envs/Proj/lib/python3.10/site-packages/sklearn/utils/validation.py:1143: DataConversionWarning: A column-vector y was passed when a 1d array was expected. Please change the shape of y to (n_samples, ), for example using ravel().\n",
      "  y = column_or_1d(y, warn=True)\n"
     ]
    },
    {
     "name": "stdout",
     "output_type": "stream",
     "text": [
      "Compiled Model: 1740\n",
      "\n",
      "Compiled Model: 1741\n",
      "\n",
      "Compiled Model: 1742\n",
      "\n",
      "Compiled Model: 1743\n",
      "\n",
      "Compiled Model: 1744\n",
      "\n",
      "Compiled Model: 1745\n",
      "\n",
      "Compiled Model: 1746\n",
      "\n",
      "Compiled Model: 1747\n",
      "\n",
      "Compiled Model: 1748\n",
      "\n",
      "Compiled Model: 1749\n",
      "\n",
      "Compiled Model: 1750\n",
      "\n",
      "Compiled Model: 1751\n",
      "\n",
      "Compiled Model: 1752\n",
      "\n",
      "Compiled Model: 1753\n",
      "\n",
      "Compiled Model: 1754\n",
      "\n",
      "Compiled Model: 1755\n",
      "\n",
      "Compiled Model: 1756\n",
      "\n",
      "Compiled Model: 1757\n",
      "\n",
      "Compiled Model: 1758\n",
      "\n",
      "Compiled Model: 1759\n",
      "\n",
      "Compiled Model: 1760\n",
      "\n",
      "Compiled Model: 1761\n",
      "\n",
      "Compiled Model: 1762\n",
      "\n",
      "Compiled Model: 1763\n",
      "\n",
      "Compiled Model: 1764\n",
      "\n",
      "Compiled Model: 1765\n",
      "\n",
      "Compiled Model: 1766\n",
      "\n",
      "Compiled Model: 1767\n",
      "\n",
      "Compiled Model: 1768\n",
      "\n",
      "Compiled Model: 1769\n",
      "\n",
      "Compiled Model: 1770\n",
      "\n",
      "Compiled Model: 1771\n",
      "\n",
      "Compiled Model: 1772\n",
      "\n",
      "Compiled Model: 1773\n",
      "\n",
      "Compiled Model: 1774\n",
      "\n",
      "Compiled Model: 1775\n",
      "\n",
      "Compiled Model: 1776\n",
      "\n",
      "Compiled Model: 1777\n",
      "\n",
      "Compiled Model: 1778\n",
      "\n",
      "Compiled Model: 1779\n",
      "\n",
      "Compiled Model: 1780\n",
      "\n",
      "Compiled Model: 1781\n",
      "\n",
      "Compiled Model: 1782\n",
      "\n",
      "Compiled Model: 1783\n",
      "\n",
      "Compiled Model: 1784\n",
      "\n",
      "Compiled Model: 1785\n",
      "\n",
      "Compiled Model: 1786\n",
      "\n",
      "Compiled Model: 1787\n",
      "\n",
      "Compiled Model: 1788\n",
      "\n",
      "Compiled Model: 1789\n",
      "\n",
      "Compiled Model: 1790\n",
      "\n",
      "Compiled Model: 1791\n",
      "\n",
      "Compiled Model: 1792\n",
      "\n",
      "Compiled Model: 1793\n",
      "\n",
      "Compiled Model: 1794\n",
      "\n",
      "Compiled Model: 1795\n",
      "\n",
      "Compiled Model: 1796\n",
      "\n",
      "Compiled Model: 1797\n",
      "\n",
      "Compiled Model: 1798\n",
      "\n",
      "Compiled Model: 1799\n",
      "\n",
      "Compiled Model: 1800\n",
      "\n",
      "Compiled Model: 1801\n",
      "\n",
      "Compiled Model: 1802\n",
      "\n",
      "Compiled Model: 1803\n",
      "\n",
      "Compiled Model: 1804\n",
      "\n",
      "Compiled Model: 1805\n",
      "\n",
      "Compiled Model: 1806\n",
      "\n",
      "Compiled Model: 1807\n",
      "\n",
      "Compiled Model: 1808\n",
      "\n",
      "Compiled Model: 1809\n",
      "\n",
      "Compiled Model: 1810\n",
      "\n",
      "Compiled Model: 1811\n",
      "\n",
      "Compiled Model: 1812\n",
      "\n",
      "Compiled Model: 1813\n",
      "\n",
      "Compiled Model: 1814\n",
      "\n",
      "Compiled Model: 1815\n",
      "\n",
      "Compiled Model: 1816\n",
      "\n",
      "Compiled Model: 1817\n",
      "\n",
      "Compiled Model: 1818\n",
      "\n",
      "Compiled Model: 1819\n",
      "\n",
      "Compiled Model: 1820\n",
      "\n",
      "Compiled Model: 1821\n",
      "\n",
      "Compiled Model: 1822\n",
      "\n",
      "Compiled Model: 1823\n",
      "\n",
      "Compiled Model: 1824\n",
      "\n",
      "Compiled Model: 1825\n",
      "\n",
      "Compiled Model: 1826\n",
      "\n",
      "Compiled Model: 1827\n",
      "\n"
     ]
    },
    {
     "name": "stderr",
     "output_type": "stream",
     "text": [
      "/Users/achyuth/miniconda3/envs/Proj/lib/python3.10/site-packages/sklearn/utils/validation.py:1143: DataConversionWarning: A column-vector y was passed when a 1d array was expected. Please change the shape of y to (n_samples, ), for example using ravel().\n",
      "  y = column_or_1d(y, warn=True)\n",
      "/Users/achyuth/miniconda3/envs/Proj/lib/python3.10/site-packages/sklearn/utils/validation.py:1143: DataConversionWarning: A column-vector y was passed when a 1d array was expected. Please change the shape of y to (n_samples, ), for example using ravel().\n",
      "  y = column_or_1d(y, warn=True)\n",
      "/Users/achyuth/miniconda3/envs/Proj/lib/python3.10/site-packages/sklearn/utils/validation.py:1143: DataConversionWarning: A column-vector y was passed when a 1d array was expected. Please change the shape of y to (n_samples, ), for example using ravel().\n",
      "  y = column_or_1d(y, warn=True)\n",
      "/Users/achyuth/miniconda3/envs/Proj/lib/python3.10/site-packages/sklearn/utils/validation.py:1143: DataConversionWarning: A column-vector y was passed when a 1d array was expected. Please change the shape of y to (n_samples, ), for example using ravel().\n",
      "  y = column_or_1d(y, warn=True)\n"
     ]
    },
    {
     "name": "stdout",
     "output_type": "stream",
     "text": [
      "Compiled Model: 1828\n",
      "\n",
      "Compiled Model: 1829\n",
      "\n",
      "Compiled Model: 1830\n",
      "\n",
      "Compiled Model: 1831\n",
      "\n",
      "Compiled Model: 1832\n",
      "\n",
      "Compiled Model: 1833\n",
      "\n",
      "Compiled Model: 1834\n",
      "\n"
     ]
    },
    {
     "name": "stderr",
     "output_type": "stream",
     "text": [
      "/Users/achyuth/miniconda3/envs/Proj/lib/python3.10/site-packages/sklearn/utils/validation.py:1143: DataConversionWarning: A column-vector y was passed when a 1d array was expected. Please change the shape of y to (n_samples, ), for example using ravel().\n",
      "  y = column_or_1d(y, warn=True)\n",
      "/Users/achyuth/miniconda3/envs/Proj/lib/python3.10/site-packages/sklearn/utils/validation.py:1143: DataConversionWarning: A column-vector y was passed when a 1d array was expected. Please change the shape of y to (n_samples, ), for example using ravel().\n",
      "  y = column_or_1d(y, warn=True)\n",
      "/Users/achyuth/miniconda3/envs/Proj/lib/python3.10/site-packages/sklearn/utils/validation.py:1143: DataConversionWarning: A column-vector y was passed when a 1d array was expected. Please change the shape of y to (n_samples, ), for example using ravel().\n",
      "  y = column_or_1d(y, warn=True)\n"
     ]
    },
    {
     "name": "stdout",
     "output_type": "stream",
     "text": [
      "Compiled Model: 1835\n",
      "\n",
      "Compiled Model: 1836\n",
      "\n",
      "Compiled Model: 1837\n",
      "\n",
      "Compiled Model: 1838\n",
      "\n",
      "Compiled Model: 1839\n",
      "\n",
      "Compiled Model: 1840\n",
      "\n",
      "Compiled Model: 1841\n",
      "\n"
     ]
    },
    {
     "name": "stderr",
     "output_type": "stream",
     "text": [
      "/Users/achyuth/miniconda3/envs/Proj/lib/python3.10/site-packages/sklearn/utils/validation.py:1143: DataConversionWarning: A column-vector y was passed when a 1d array was expected. Please change the shape of y to (n_samples, ), for example using ravel().\n",
      "  y = column_or_1d(y, warn=True)\n"
     ]
    },
    {
     "name": "stdout",
     "output_type": "stream",
     "text": [
      "Compiled Model: 1842\n",
      "\n"
     ]
    },
    {
     "name": "stderr",
     "output_type": "stream",
     "text": [
      "/Users/achyuth/miniconda3/envs/Proj/lib/python3.10/site-packages/sklearn/utils/validation.py:1143: DataConversionWarning: A column-vector y was passed when a 1d array was expected. Please change the shape of y to (n_samples, ), for example using ravel().\n",
      "  y = column_or_1d(y, warn=True)\n"
     ]
    },
    {
     "name": "stdout",
     "output_type": "stream",
     "text": [
      "Compiled Model: 1843\n",
      "\n"
     ]
    },
    {
     "name": "stderr",
     "output_type": "stream",
     "text": [
      "/Users/achyuth/miniconda3/envs/Proj/lib/python3.10/site-packages/sklearn/utils/validation.py:1143: DataConversionWarning: A column-vector y was passed when a 1d array was expected. Please change the shape of y to (n_samples, ), for example using ravel().\n",
      "  y = column_or_1d(y, warn=True)\n"
     ]
    },
    {
     "name": "stdout",
     "output_type": "stream",
     "text": [
      "Compiled Model: 1844\n",
      "\n",
      "Compiled Model: 1845\n",
      "\n",
      "Compiled Model: 1846\n",
      "\n",
      "Compiled Model: 1847\n",
      "\n",
      "Compiled Model: 1848\n",
      "\n"
     ]
    },
    {
     "name": "stderr",
     "output_type": "stream",
     "text": [
      "/Users/achyuth/miniconda3/envs/Proj/lib/python3.10/site-packages/sklearn/utils/validation.py:1143: DataConversionWarning: A column-vector y was passed when a 1d array was expected. Please change the shape of y to (n_samples, ), for example using ravel().\n",
      "  y = column_or_1d(y, warn=True)\n"
     ]
    },
    {
     "name": "stdout",
     "output_type": "stream",
     "text": [
      "Compiled Model: 1849\n",
      "\n"
     ]
    },
    {
     "name": "stderr",
     "output_type": "stream",
     "text": [
      "/Users/achyuth/miniconda3/envs/Proj/lib/python3.10/site-packages/sklearn/utils/validation.py:1143: DataConversionWarning: A column-vector y was passed when a 1d array was expected. Please change the shape of y to (n_samples, ), for example using ravel().\n",
      "  y = column_or_1d(y, warn=True)\n"
     ]
    },
    {
     "name": "stdout",
     "output_type": "stream",
     "text": [
      "Compiled Model: 1850\n",
      "\n"
     ]
    },
    {
     "name": "stderr",
     "output_type": "stream",
     "text": [
      "/Users/achyuth/miniconda3/envs/Proj/lib/python3.10/site-packages/sklearn/utils/validation.py:1143: DataConversionWarning: A column-vector y was passed when a 1d array was expected. Please change the shape of y to (n_samples, ), for example using ravel().\n",
      "  y = column_or_1d(y, warn=True)\n"
     ]
    },
    {
     "name": "stdout",
     "output_type": "stream",
     "text": [
      "Compiled Model: 1851\n",
      "\n"
     ]
    },
    {
     "name": "stderr",
     "output_type": "stream",
     "text": [
      "/Users/achyuth/miniconda3/envs/Proj/lib/python3.10/site-packages/sklearn/utils/validation.py:1143: DataConversionWarning: A column-vector y was passed when a 1d array was expected. Please change the shape of y to (n_samples, ), for example using ravel().\n",
      "  y = column_or_1d(y, warn=True)\n"
     ]
    },
    {
     "name": "stdout",
     "output_type": "stream",
     "text": [
      "Compiled Model: 1852\n",
      "\n",
      "Compiled Model: 1853\n",
      "\n",
      "Compiled Model: 1854\n",
      "\n",
      "Compiled Model: 1855\n",
      "\n",
      "Compiled Model: 1856\n",
      "\n",
      "Compiled Model: 1857\n",
      "\n",
      "Compiled Model: 1858\n",
      "\n",
      "Compiled Model: 1859\n",
      "\n",
      "Compiled Model: 1860\n",
      "\n",
      "Compiled Model: 1861\n",
      "\n",
      "Compiled Model: 1862\n",
      "\n",
      "Compiled Model: 1863\n",
      "\n",
      "Compiled Model: 1864\n",
      "\n",
      "Compiled Model: 1865\n",
      "\n",
      "Compiled Model: 1866\n",
      "\n",
      "Compiled Model: 1867\n",
      "\n"
     ]
    },
    {
     "name": "stderr",
     "output_type": "stream",
     "text": [
      "/Users/achyuth/miniconda3/envs/Proj/lib/python3.10/site-packages/sklearn/utils/validation.py:1143: DataConversionWarning: A column-vector y was passed when a 1d array was expected. Please change the shape of y to (n_samples, ), for example using ravel().\n",
      "  y = column_or_1d(y, warn=True)\n",
      "/Users/achyuth/miniconda3/envs/Proj/lib/python3.10/site-packages/sklearn/utils/validation.py:1143: DataConversionWarning: A column-vector y was passed when a 1d array was expected. Please change the shape of y to (n_samples, ), for example using ravel().\n",
      "  y = column_or_1d(y, warn=True)\n",
      "/Users/achyuth/miniconda3/envs/Proj/lib/python3.10/site-packages/sklearn/utils/validation.py:1143: DataConversionWarning: A column-vector y was passed when a 1d array was expected. Please change the shape of y to (n_samples, ), for example using ravel().\n",
      "  y = column_or_1d(y, warn=True)\n",
      "/Users/achyuth/miniconda3/envs/Proj/lib/python3.10/site-packages/sklearn/utils/validation.py:1143: DataConversionWarning: A column-vector y was passed when a 1d array was expected. Please change the shape of y to (n_samples, ), for example using ravel().\n",
      "  y = column_or_1d(y, warn=True)\n"
     ]
    },
    {
     "name": "stdout",
     "output_type": "stream",
     "text": [
      "Compiled Model: 1868\n",
      "\n",
      "Compiled Model: 1869\n",
      "\n",
      "Compiled Model: 1870\n",
      "\n",
      "Compiled Model: 1871\n",
      "\n",
      "Compiled Model: 1872\n",
      "\n",
      "Compiled Model: 1873\n",
      "\n",
      "Compiled Model: 1874\n",
      "\n",
      "Compiled Model: 1875\n",
      "\n",
      "Compiled Model: 1876\n",
      "\n",
      "Compiled Model: 1877\n",
      "\n",
      "Compiled Model: 1878\n",
      "\n",
      "Compiled Model: 1879\n",
      "\n",
      "Compiled Model: 1880\n",
      "\n",
      "Compiled Model: 1881\n",
      "\n",
      "Compiled Model: 1882\n",
      "\n",
      "Compiled Model: 1883\n",
      "\n"
     ]
    },
    {
     "name": "stderr",
     "output_type": "stream",
     "text": [
      "/Users/achyuth/miniconda3/envs/Proj/lib/python3.10/site-packages/sklearn/utils/validation.py:1143: DataConversionWarning: A column-vector y was passed when a 1d array was expected. Please change the shape of y to (n_samples, ), for example using ravel().\n",
      "  y = column_or_1d(y, warn=True)\n",
      "/Users/achyuth/miniconda3/envs/Proj/lib/python3.10/site-packages/sklearn/utils/validation.py:1143: DataConversionWarning: A column-vector y was passed when a 1d array was expected. Please change the shape of y to (n_samples, ), for example using ravel().\n",
      "  y = column_or_1d(y, warn=True)\n",
      "/Users/achyuth/miniconda3/envs/Proj/lib/python3.10/site-packages/sklearn/utils/validation.py:1143: DataConversionWarning: A column-vector y was passed when a 1d array was expected. Please change the shape of y to (n_samples, ), for example using ravel().\n",
      "  y = column_or_1d(y, warn=True)\n",
      "/Users/achyuth/miniconda3/envs/Proj/lib/python3.10/site-packages/sklearn/utils/validation.py:1143: DataConversionWarning: A column-vector y was passed when a 1d array was expected. Please change the shape of y to (n_samples, ), for example using ravel().\n",
      "  y = column_or_1d(y, warn=True)\n"
     ]
    },
    {
     "name": "stdout",
     "output_type": "stream",
     "text": [
      "Compiled Model: 1884\n",
      "\n",
      "Compiled Model: 1885\n",
      "\n",
      "Compiled Model: 1886\n",
      "\n",
      "Compiled Model: 1887\n",
      "\n",
      "Compiled Model: 1888\n",
      "\n",
      "Compiled Model: 1889\n",
      "\n",
      "Compiled Model: 1890\n",
      "\n",
      "Compiled Model: 1891\n",
      "\n",
      "Compiled Model: 1892\n",
      "\n",
      "Compiled Model: 1893\n",
      "\n",
      "Compiled Model: 1894\n",
      "\n",
      "Compiled Model: 1895\n",
      "\n",
      "Compiled Model: 1896\n",
      "\n",
      "Compiled Model: 1897\n",
      "\n",
      "Compiled Model: 1898\n",
      "\n",
      "Compiled Model: 1899\n",
      "\n",
      "Compiled Model: 1900\n",
      "\n",
      "Compiled Model: 1901\n",
      "\n",
      "Compiled Model: 1902\n",
      "\n",
      "Compiled Model: 1903\n",
      "\n",
      "Compiled Model: 1904\n",
      "\n",
      "Compiled Model: 1905\n",
      "\n",
      "Compiled Model: 1906\n",
      "\n",
      "Compiled Model: 1907\n",
      "\n",
      "Compiled Model: 1908\n",
      "\n",
      "Compiled Model: 1909\n",
      "\n",
      "Compiled Model: 1910\n",
      "\n",
      "Compiled Model: 1911\n",
      "\n",
      "Compiled Model: 1912\n",
      "\n",
      "Compiled Model: 1913\n",
      "\n",
      "Compiled Model: 1914\n",
      "\n",
      "Compiled Model: 1915\n",
      "\n",
      "Compiled Model: 1916\n",
      "\n",
      "Compiled Model: 1917\n",
      "\n",
      "Compiled Model: 1918\n",
      "\n",
      "Compiled Model: 1919\n",
      "\n",
      "Compiled Model: 1920\n",
      "\n",
      "Compiled Model: 1921\n",
      "\n",
      "Compiled Model: 1922\n",
      "\n",
      "Compiled Model: 1923\n",
      "\n",
      "Compiled Model: 1924\n",
      "\n",
      "Compiled Model: 1925\n",
      "\n",
      "Compiled Model: 1926\n",
      "\n",
      "Compiled Model: 1927\n",
      "\n",
      "Compiled Model: 1928\n",
      "\n",
      "Compiled Model: 1929\n",
      "\n"
     ]
    },
    {
     "name": "stderr",
     "output_type": "stream",
     "text": [
      "/Users/achyuth/miniconda3/envs/Proj/lib/python3.10/site-packages/sklearn/utils/validation.py:1143: DataConversionWarning: A column-vector y was passed when a 1d array was expected. Please change the shape of y to (n_samples, ), for example using ravel().\n",
      "  y = column_or_1d(y, warn=True)\n",
      "/Users/achyuth/miniconda3/envs/Proj/lib/python3.10/site-packages/sklearn/utils/validation.py:1143: DataConversionWarning: A column-vector y was passed when a 1d array was expected. Please change the shape of y to (n_samples, ), for example using ravel().\n",
      "  y = column_or_1d(y, warn=True)\n",
      "/Users/achyuth/miniconda3/envs/Proj/lib/python3.10/site-packages/sklearn/utils/validation.py:1143: DataConversionWarning: A column-vector y was passed when a 1d array was expected. Please change the shape of y to (n_samples, ), for example using ravel().\n",
      "  y = column_or_1d(y, warn=True)\n",
      "/Users/achyuth/miniconda3/envs/Proj/lib/python3.10/site-packages/sklearn/utils/validation.py:1143: DataConversionWarning: A column-vector y was passed when a 1d array was expected. Please change the shape of y to (n_samples, ), for example using ravel().\n",
      "  y = column_or_1d(y, warn=True)\n",
      "/Users/achyuth/miniconda3/envs/Proj/lib/python3.10/site-packages/sklearn/utils/validation.py:1143: DataConversionWarning: A column-vector y was passed when a 1d array was expected. Please change the shape of y to (n_samples, ), for example using ravel().\n",
      "  y = column_or_1d(y, warn=True)\n",
      "/Users/achyuth/miniconda3/envs/Proj/lib/python3.10/site-packages/sklearn/utils/validation.py:1143: DataConversionWarning: A column-vector y was passed when a 1d array was expected. Please change the shape of y to (n_samples, ), for example using ravel().\n",
      "  y = column_or_1d(y, warn=True)\n"
     ]
    },
    {
     "name": "stdout",
     "output_type": "stream",
     "text": [
      "Compiled Model: 1930\n",
      "\n",
      "Compiled Model: 1931\n",
      "\n",
      "Compiled Model: 1932\n",
      "\n",
      "Compiled Model: 1933\n",
      "\n",
      "Compiled Model: 1934\n",
      "\n",
      "Compiled Model: 1935\n",
      "\n",
      "Compiled Model: 1936\n",
      "\n",
      "Compiled Model: 1937\n",
      "\n",
      "Compiled Model: 1938\n",
      "\n",
      "Compiled Model: 1939\n",
      "\n",
      "Compiled Model: 1940\n",
      "\n",
      "Compiled Model: 1941\n",
      "\n",
      "Compiled Model: 1942\n",
      "\n",
      "Compiled Model: 1943\n",
      "\n",
      "Compiled Model: 1944\n",
      "\n",
      "Compiled Model: 1945\n",
      "\n",
      "Compiled Model: 1946\n",
      "\n",
      "Compiled Model: 1947\n",
      "\n",
      "Compiled Model: 1948\n",
      "\n",
      "Compiled Model: 1949\n",
      "\n",
      "Compiled Model: 1950\n",
      "\n",
      "Compiled Model: 1951\n",
      "\n",
      "Compiled Model: 1952\n",
      "\n",
      "Compiled Model: 1953\n",
      "\n",
      "Compiled Model: 1954\n",
      "\n",
      "Compiled Model: 1955\n",
      "\n",
      "Compiled Model: 1956\n",
      "\n",
      "Compiled Model: 1957\n",
      "\n",
      "Compiled Model: 1958\n",
      "\n",
      "Compiled Model: 1959\n",
      "\n",
      "Compiled Model: 1960\n",
      "\n",
      "Compiled Model: 1961\n",
      "\n"
     ]
    },
    {
     "name": "stderr",
     "output_type": "stream",
     "text": [
      "/Users/achyuth/miniconda3/envs/Proj/lib/python3.10/site-packages/sklearn/utils/validation.py:1143: DataConversionWarning: A column-vector y was passed when a 1d array was expected. Please change the shape of y to (n_samples, ), for example using ravel().\n",
      "  y = column_or_1d(y, warn=True)\n",
      "/Users/achyuth/miniconda3/envs/Proj/lib/python3.10/site-packages/sklearn/utils/validation.py:1143: DataConversionWarning: A column-vector y was passed when a 1d array was expected. Please change the shape of y to (n_samples, ), for example using ravel().\n",
      "  y = column_or_1d(y, warn=True)\n",
      "/Users/achyuth/miniconda3/envs/Proj/lib/python3.10/site-packages/sklearn/utils/validation.py:1143: DataConversionWarning: A column-vector y was passed when a 1d array was expected. Please change the shape of y to (n_samples, ), for example using ravel().\n",
      "  y = column_or_1d(y, warn=True)\n",
      "/Users/achyuth/miniconda3/envs/Proj/lib/python3.10/site-packages/sklearn/utils/validation.py:1143: DataConversionWarning: A column-vector y was passed when a 1d array was expected. Please change the shape of y to (n_samples, ), for example using ravel().\n",
      "  y = column_or_1d(y, warn=True)\n"
     ]
    },
    {
     "name": "stdout",
     "output_type": "stream",
     "text": [
      "Compiled Model: 1962\n",
      "\n",
      "Compiled Model: 1963\n",
      "\n",
      "Compiled Model: 1964\n",
      "\n",
      "Compiled Model: 1965\n",
      "\n",
      "Compiled Model: 1966\n",
      "\n",
      "Compiled Model: 1967\n",
      "\n",
      "Compiled Model: 1968\n",
      "\n",
      "Compiled Model: 1969\n",
      "\n",
      "Compiled Model: 1970\n",
      "\n",
      "Compiled Model: 1971\n",
      "\n",
      "Compiled Model: 1972\n",
      "\n",
      "Compiled Model: 1973\n",
      "\n",
      "Compiled Model: 1974\n",
      "\n",
      "Compiled Model: 1975\n",
      "\n",
      "Compiled Model: 1976\n",
      "\n",
      "Compiled Model: 1977\n",
      "\n",
      "Compiled Model: 1978\n",
      "\n",
      "Compiled Model: 1979\n",
      "\n",
      "Compiled Model: 1980\n",
      "\n",
      "Compiled Model: 1981\n",
      "\n",
      "Compiled Model: 1982\n",
      "\n",
      "Compiled Model: 1983\n",
      "\n",
      "Compiled Model: 1984\n",
      "\n",
      "Compiled Model: 1985\n",
      "\n",
      "Compiled Model: 1986\n",
      "\n",
      "Compiled Model: 1987\n",
      "\n",
      "Compiled Model: 1988\n",
      "\n",
      "Compiled Model: 1989\n",
      "\n",
      "Compiled Model: 1990\n",
      "\n",
      "Compiled Model: 1991\n",
      "\n",
      "Compiled Model: 1992\n",
      "\n",
      "Compiled Model: 1993\n",
      "\n",
      "Compiled Model: 1994\n",
      "\n",
      "Compiled Model: 1995\n",
      "\n",
      "Compiled Model: 1996\n",
      "\n",
      "Compiled Model: 1997\n",
      "\n",
      "Compiled Model: 1998\n",
      "\n",
      "Compiled Model: 1999\n",
      "\n",
      "Compiled Model: 2000\n",
      "\n",
      "Compiled Model: 2001\n",
      "\n",
      "Compiled Model: 2002\n",
      "\n",
      "Compiled Model: 2003\n",
      "\n",
      "Compiled Model: 2004\n",
      "\n",
      "Compiled Model: 2005\n",
      "\n",
      "Compiled Model: 2006\n",
      "\n",
      "Compiled Model: 2007\n",
      "\n",
      "Compiled Model: 2008\n",
      "\n",
      "Compiled Model: 2009\n",
      "\n",
      "Compiled Model: 2010\n",
      "\n",
      "Compiled Model: 2011\n",
      "\n",
      "Compiled Model: 2012\n",
      "\n",
      "Compiled Model: 2013\n",
      "\n",
      "Compiled Model: 2014\n",
      "\n",
      "Compiled Model: 2015\n",
      "\n",
      "Compiled Model: 2016\n",
      "\n",
      "Compiled Model: 2017\n",
      "\n",
      "Compiled Model: 2018\n",
      "\n",
      "Compiled Model: 2019\n",
      "\n"
     ]
    },
    {
     "name": "stderr",
     "output_type": "stream",
     "text": [
      "/Users/achyuth/miniconda3/envs/Proj/lib/python3.10/site-packages/sklearn/utils/validation.py:1143: DataConversionWarning: A column-vector y was passed when a 1d array was expected. Please change the shape of y to (n_samples, ), for example using ravel().\n",
      "  y = column_or_1d(y, warn=True)\n",
      "/Users/achyuth/miniconda3/envs/Proj/lib/python3.10/site-packages/sklearn/utils/validation.py:1143: DataConversionWarning: A column-vector y was passed when a 1d array was expected. Please change the shape of y to (n_samples, ), for example using ravel().\n",
      "  y = column_or_1d(y, warn=True)\n",
      "/Users/achyuth/miniconda3/envs/Proj/lib/python3.10/site-packages/sklearn/utils/validation.py:1143: DataConversionWarning: A column-vector y was passed when a 1d array was expected. Please change the shape of y to (n_samples, ), for example using ravel().\n",
      "  y = column_or_1d(y, warn=True)\n",
      "/Users/achyuth/miniconda3/envs/Proj/lib/python3.10/site-packages/sklearn/utils/validation.py:1143: DataConversionWarning: A column-vector y was passed when a 1d array was expected. Please change the shape of y to (n_samples, ), for example using ravel().\n",
      "  y = column_or_1d(y, warn=True)\n",
      "/Users/achyuth/miniconda3/envs/Proj/lib/python3.10/site-packages/sklearn/utils/validation.py:1143: DataConversionWarning: A column-vector y was passed when a 1d array was expected. Please change the shape of y to (n_samples, ), for example using ravel().\n",
      "  y = column_or_1d(y, warn=True)\n",
      "/Users/achyuth/miniconda3/envs/Proj/lib/python3.10/site-packages/sklearn/utils/validation.py:1143: DataConversionWarning: A column-vector y was passed when a 1d array was expected. Please change the shape of y to (n_samples, ), for example using ravel().\n",
      "  y = column_or_1d(y, warn=True)\n"
     ]
    },
    {
     "name": "stdout",
     "output_type": "stream",
     "text": [
      "Compiled Model: 2020\n",
      "\n",
      "Compiled Model: 2021\n",
      "\n",
      "Compiled Model: 2022\n",
      "\n",
      "Compiled Model: 2023\n",
      "\n",
      "Compiled Model: 2024\n",
      "\n",
      "Compiled Model: 2025\n",
      "\n"
     ]
    },
    {
     "name": "stderr",
     "output_type": "stream",
     "text": [
      "/Users/achyuth/miniconda3/envs/Proj/lib/python3.10/site-packages/sklearn/utils/validation.py:1143: DataConversionWarning: A column-vector y was passed when a 1d array was expected. Please change the shape of y to (n_samples, ), for example using ravel().\n",
      "  y = column_or_1d(y, warn=True)\n",
      "/Users/achyuth/miniconda3/envs/Proj/lib/python3.10/site-packages/sklearn/utils/validation.py:1143: DataConversionWarning: A column-vector y was passed when a 1d array was expected. Please change the shape of y to (n_samples, ), for example using ravel().\n",
      "  y = column_or_1d(y, warn=True)\n"
     ]
    },
    {
     "name": "stdout",
     "output_type": "stream",
     "text": [
      "Compiled Model: 2026\n",
      "\n",
      "Compiled Model: 2027\n",
      "\n",
      "Compiled Model: 2028\n",
      "\n",
      "Compiled Model: 2029\n",
      "\n",
      "Compiled Model: 2030\n",
      "\n",
      "Compiled Model: 2031\n",
      "\n",
      "Compiled Model: 2032\n",
      "\n"
     ]
    },
    {
     "name": "stderr",
     "output_type": "stream",
     "text": [
      "/Users/achyuth/miniconda3/envs/Proj/lib/python3.10/site-packages/sklearn/utils/validation.py:1143: DataConversionWarning: A column-vector y was passed when a 1d array was expected. Please change the shape of y to (n_samples, ), for example using ravel().\n",
      "  y = column_or_1d(y, warn=True)\n",
      "/Users/achyuth/miniconda3/envs/Proj/lib/python3.10/site-packages/sklearn/utils/validation.py:1143: DataConversionWarning: A column-vector y was passed when a 1d array was expected. Please change the shape of y to (n_samples, ), for example using ravel().\n",
      "  y = column_or_1d(y, warn=True)\n",
      "/Users/achyuth/miniconda3/envs/Proj/lib/python3.10/site-packages/sklearn/utils/validation.py:1143: DataConversionWarning: A column-vector y was passed when a 1d array was expected. Please change the shape of y to (n_samples, ), for example using ravel().\n",
      "  y = column_or_1d(y, warn=True)\n"
     ]
    },
    {
     "name": "stdout",
     "output_type": "stream",
     "text": [
      "Compiled Model: 2033\n",
      "\n"
     ]
    },
    {
     "name": "stderr",
     "output_type": "stream",
     "text": [
      "/Users/achyuth/miniconda3/envs/Proj/lib/python3.10/site-packages/sklearn/utils/validation.py:1143: DataConversionWarning: A column-vector y was passed when a 1d array was expected. Please change the shape of y to (n_samples, ), for example using ravel().\n",
      "  y = column_or_1d(y, warn=True)\n"
     ]
    },
    {
     "name": "stdout",
     "output_type": "stream",
     "text": [
      "Compiled Model: 2034\n",
      "\n"
     ]
    },
    {
     "name": "stderr",
     "output_type": "stream",
     "text": [
      "/Users/achyuth/miniconda3/envs/Proj/lib/python3.10/site-packages/sklearn/utils/validation.py:1143: DataConversionWarning: A column-vector y was passed when a 1d array was expected. Please change the shape of y to (n_samples, ), for example using ravel().\n",
      "  y = column_or_1d(y, warn=True)\n"
     ]
    },
    {
     "name": "stdout",
     "output_type": "stream",
     "text": [
      "Compiled Model: 2035\n",
      "\n",
      "Compiled Model: 2036\n",
      "\n",
      "Compiled Model: 2037\n",
      "\n",
      "Compiled Model: 2038\n",
      "\n",
      "Compiled Model: 2039\n",
      "\n",
      "Compiled Model: 2040\n",
      "\n"
     ]
    },
    {
     "name": "stderr",
     "output_type": "stream",
     "text": [
      "/Users/achyuth/miniconda3/envs/Proj/lib/python3.10/site-packages/sklearn/utils/validation.py:1143: DataConversionWarning: A column-vector y was passed when a 1d array was expected. Please change the shape of y to (n_samples, ), for example using ravel().\n",
      "  y = column_or_1d(y, warn=True)\n",
      "/Users/achyuth/miniconda3/envs/Proj/lib/python3.10/site-packages/sklearn/utils/validation.py:1143: DataConversionWarning: A column-vector y was passed when a 1d array was expected. Please change the shape of y to (n_samples, ), for example using ravel().\n",
      "  y = column_or_1d(y, warn=True)\n"
     ]
    },
    {
     "name": "stdout",
     "output_type": "stream",
     "text": [
      "Compiled Model: 2041\n",
      "\n"
     ]
    },
    {
     "name": "stderr",
     "output_type": "stream",
     "text": [
      "/Users/achyuth/miniconda3/envs/Proj/lib/python3.10/site-packages/sklearn/utils/validation.py:1143: DataConversionWarning: A column-vector y was passed when a 1d array was expected. Please change the shape of y to (n_samples, ), for example using ravel().\n",
      "  y = column_or_1d(y, warn=True)\n"
     ]
    },
    {
     "name": "stdout",
     "output_type": "stream",
     "text": [
      "Compiled Model: 2042\n",
      "\n"
     ]
    },
    {
     "name": "stderr",
     "output_type": "stream",
     "text": [
      "/Users/achyuth/miniconda3/envs/Proj/lib/python3.10/site-packages/sklearn/utils/validation.py:1143: DataConversionWarning: A column-vector y was passed when a 1d array was expected. Please change the shape of y to (n_samples, ), for example using ravel().\n",
      "  y = column_or_1d(y, warn=True)\n"
     ]
    },
    {
     "name": "stdout",
     "output_type": "stream",
     "text": [
      "Compiled Model: 2043\n",
      "\n",
      "Compiled Model: 2044\n",
      "\n",
      "Compiled Model: 2045\n",
      "\n",
      "Compiled Model: 2046\n",
      "\n",
      "Compiled Model: 2047\n",
      "\n",
      "Compiled Model: 2048\n",
      "\n",
      "Compiled Model: 2049\n",
      "\n",
      "Compiled Model: 2050\n",
      "\n",
      "Compiled Model: 2051\n",
      "\n",
      "Compiled Model: 2052\n",
      "\n",
      "Compiled Model: 2053\n",
      "\n",
      "Compiled Model: 2054\n",
      "\n",
      "Compiled Model: 2055\n",
      "\n",
      "Compiled Model: 2056\n",
      "\n"
     ]
    },
    {
     "name": "stderr",
     "output_type": "stream",
     "text": [
      "/Users/achyuth/miniconda3/envs/Proj/lib/python3.10/site-packages/sklearn/utils/validation.py:1143: DataConversionWarning: A column-vector y was passed when a 1d array was expected. Please change the shape of y to (n_samples, ), for example using ravel().\n",
      "  y = column_or_1d(y, warn=True)\n",
      "/Users/achyuth/miniconda3/envs/Proj/lib/python3.10/site-packages/sklearn/utils/validation.py:1143: DataConversionWarning: A column-vector y was passed when a 1d array was expected. Please change the shape of y to (n_samples, ), for example using ravel().\n",
      "  y = column_or_1d(y, warn=True)\n"
     ]
    },
    {
     "name": "stdout",
     "output_type": "stream",
     "text": [
      "Compiled Model: 2057\n",
      "\n",
      "Compiled Model: 2058\n",
      "\n",
      "Compiled Model: 2059\n",
      "\n",
      "Compiled Model: 2060\n",
      "\n",
      "Compiled Model: 2061\n",
      "\n",
      "Compiled Model: 2062\n",
      "\n",
      "Compiled Model: 2063\n",
      "\n",
      "Compiled Model: 2064\n",
      "\n",
      "Compiled Model: 2065\n",
      "\n",
      "Compiled Model: 2066\n",
      "\n",
      "Compiled Model: 2067\n",
      "\n",
      "Compiled Model: 2068\n",
      "\n",
      "Compiled Model: 2069\n",
      "\n",
      "Compiled Model: 2070\n",
      "\n",
      "Compiled Model: 2071\n",
      "\n",
      "Compiled Model: 2072\n",
      "\n",
      "Compiled Model: 2073\n",
      "\n"
     ]
    },
    {
     "name": "stderr",
     "output_type": "stream",
     "text": [
      "/Users/achyuth/miniconda3/envs/Proj/lib/python3.10/site-packages/sklearn/utils/validation.py:1143: DataConversionWarning: A column-vector y was passed when a 1d array was expected. Please change the shape of y to (n_samples, ), for example using ravel().\n",
      "  y = column_or_1d(y, warn=True)\n",
      "/Users/achyuth/miniconda3/envs/Proj/lib/python3.10/site-packages/sklearn/utils/validation.py:1143: DataConversionWarning: A column-vector y was passed when a 1d array was expected. Please change the shape of y to (n_samples, ), for example using ravel().\n",
      "  y = column_or_1d(y, warn=True)\n",
      "/Users/achyuth/miniconda3/envs/Proj/lib/python3.10/site-packages/sklearn/utils/validation.py:1143: DataConversionWarning: A column-vector y was passed when a 1d array was expected. Please change the shape of y to (n_samples, ), for example using ravel().\n",
      "  y = column_or_1d(y, warn=True)\n",
      "/Users/achyuth/miniconda3/envs/Proj/lib/python3.10/site-packages/sklearn/utils/validation.py:1143: DataConversionWarning: A column-vector y was passed when a 1d array was expected. Please change the shape of y to (n_samples, ), for example using ravel().\n",
      "  y = column_or_1d(y, warn=True)\n",
      "/Users/achyuth/miniconda3/envs/Proj/lib/python3.10/site-packages/sklearn/utils/validation.py:1143: DataConversionWarning: A column-vector y was passed when a 1d array was expected. Please change the shape of y to (n_samples, ), for example using ravel().\n",
      "  y = column_or_1d(y, warn=True)\n"
     ]
    },
    {
     "name": "stdout",
     "output_type": "stream",
     "text": [
      "Compiled Model: 2074\n",
      "\n",
      "Compiled Model: 2075\n",
      "\n",
      "Compiled Model: 2076\n",
      "\n",
      "Compiled Model: 2077\n",
      "\n",
      "Compiled Model: 2078\n",
      "\n",
      "Compiled Model: 2079\n",
      "\n",
      "Compiled Model: 2080\n",
      "\n",
      "Compiled Model: 2081\n",
      "\n",
      "Compiled Model: 2082\n",
      "\n",
      "Compiled Model: 2083\n",
      "\n",
      "Compiled Model: 2084\n",
      "\n",
      "Compiled Model: 2085\n",
      "\n",
      "Compiled Model: 2086\n",
      "\n",
      "Compiled Model: 2087\n",
      "\n",
      "Compiled Model: 2088\n",
      "\n",
      "Compiled Model: 2089\n",
      "\n",
      "Compiled Model: 2090\n",
      "\n",
      "Compiled Model: 2091\n",
      "\n",
      "Compiled Model: 2092\n",
      "\n",
      "Compiled Model: 2093\n",
      "\n",
      "Compiled Model: 2094\n",
      "\n",
      "Compiled Model: 2095\n",
      "\n",
      "Compiled Model: 2096\n",
      "\n",
      "Compiled Model: 2097\n",
      "\n",
      "Compiled Model: 2098\n",
      "\n",
      "Compiled Model: 2099\n",
      "\n",
      "Compiled Model: 2100\n",
      "\n",
      "Compiled Model: 2101\n",
      "\n",
      "Compiled Model: 2102\n",
      "\n",
      "Compiled Model: 2103\n",
      "\n",
      "Compiled Model: 2104\n",
      "\n",
      "Compiled Model: 2105\n",
      "\n",
      "Compiled Model: 2106\n",
      "\n",
      "Compiled Model: 2107\n",
      "\n",
      "Compiled Model: 2108\n",
      "\n",
      "Compiled Model: 2109\n",
      "\n",
      "Compiled Model: 2110\n",
      "\n",
      "Compiled Model: 2111\n",
      "\n",
      "Compiled Model: 2112\n",
      "\n",
      "Compiled Model: 2113\n",
      "\n",
      "Compiled Model: 2114\n",
      "\n",
      "Compiled Model: 2115\n",
      "\n",
      "Compiled Model: 2116\n",
      "\n",
      "Compiled Model: 2117\n",
      "\n",
      "Compiled Model: 2118\n",
      "\n",
      "Compiled Model: 2119\n",
      "\n",
      "Compiled Model: 2120\n",
      "\n"
     ]
    },
    {
     "name": "stderr",
     "output_type": "stream",
     "text": [
      "/Users/achyuth/miniconda3/envs/Proj/lib/python3.10/site-packages/sklearn/utils/validation.py:1143: DataConversionWarning: A column-vector y was passed when a 1d array was expected. Please change the shape of y to (n_samples, ), for example using ravel().\n",
      "  y = column_or_1d(y, warn=True)\n",
      "/Users/achyuth/miniconda3/envs/Proj/lib/python3.10/site-packages/sklearn/utils/validation.py:1143: DataConversionWarning: A column-vector y was passed when a 1d array was expected. Please change the shape of y to (n_samples, ), for example using ravel().\n",
      "  y = column_or_1d(y, warn=True)\n",
      "/Users/achyuth/miniconda3/envs/Proj/lib/python3.10/site-packages/sklearn/utils/validation.py:1143: DataConversionWarning: A column-vector y was passed when a 1d array was expected. Please change the shape of y to (n_samples, ), for example using ravel().\n",
      "  y = column_or_1d(y, warn=True)\n",
      "/Users/achyuth/miniconda3/envs/Proj/lib/python3.10/site-packages/sklearn/utils/validation.py:1143: DataConversionWarning: A column-vector y was passed when a 1d array was expected. Please change the shape of y to (n_samples, ), for example using ravel().\n",
      "  y = column_or_1d(y, warn=True)\n",
      "/Users/achyuth/miniconda3/envs/Proj/lib/python3.10/site-packages/sklearn/utils/validation.py:1143: DataConversionWarning: A column-vector y was passed when a 1d array was expected. Please change the shape of y to (n_samples, ), for example using ravel().\n",
      "  y = column_or_1d(y, warn=True)\n",
      "/Users/achyuth/miniconda3/envs/Proj/lib/python3.10/site-packages/sklearn/utils/validation.py:1143: DataConversionWarning: A column-vector y was passed when a 1d array was expected. Please change the shape of y to (n_samples, ), for example using ravel().\n",
      "  y = column_or_1d(y, warn=True)\n",
      "/Users/achyuth/miniconda3/envs/Proj/lib/python3.10/site-packages/sklearn/utils/validation.py:1143: DataConversionWarning: A column-vector y was passed when a 1d array was expected. Please change the shape of y to (n_samples, ), for example using ravel().\n",
      "  y = column_or_1d(y, warn=True)\n"
     ]
    },
    {
     "name": "stdout",
     "output_type": "stream",
     "text": [
      "Compiled Model: 2121\n",
      "\n",
      "Compiled Model: 2122\n",
      "\n",
      "Compiled Model: 2123\n",
      "\n"
     ]
    },
    {
     "name": "stderr",
     "output_type": "stream",
     "text": [
      "/Users/achyuth/miniconda3/envs/Proj/lib/python3.10/site-packages/sklearn/utils/validation.py:1143: DataConversionWarning: A column-vector y was passed when a 1d array was expected. Please change the shape of y to (n_samples, ), for example using ravel().\n",
      "  y = column_or_1d(y, warn=True)\n",
      "/Users/achyuth/miniconda3/envs/Proj/lib/python3.10/site-packages/sklearn/utils/validation.py:1143: DataConversionWarning: A column-vector y was passed when a 1d array was expected. Please change the shape of y to (n_samples, ), for example using ravel().\n",
      "  y = column_or_1d(y, warn=True)\n",
      "/Users/achyuth/miniconda3/envs/Proj/lib/python3.10/site-packages/sklearn/utils/validation.py:1143: DataConversionWarning: A column-vector y was passed when a 1d array was expected. Please change the shape of y to (n_samples, ), for example using ravel().\n",
      "  y = column_or_1d(y, warn=True)\n"
     ]
    },
    {
     "name": "stdout",
     "output_type": "stream",
     "text": [
      "Compiled Model: 2124\n",
      "\n",
      "Compiled Model: 2125\n",
      "\n",
      "Compiled Model: 2126\n",
      "\n",
      "Compiled Model: 2127\n",
      "\n",
      "Compiled Model: 2128\n",
      "\n",
      "Compiled Model: 2129\n",
      "\n",
      "Compiled Model: 2130\n",
      "\n",
      "Compiled Model: 2131\n",
      "\n",
      "Compiled Model: 2132\n",
      "\n",
      "Compiled Model: 2133\n",
      "\n",
      "Compiled Model: 2134\n",
      "\n",
      "Compiled Model: 2135\n",
      "\n",
      "Compiled Model: 2136\n",
      "\n",
      "Compiled Model: 2137\n",
      "\n",
      "Compiled Model: 2138\n",
      "\n",
      "Compiled Model: 2139\n",
      "\n",
      "Compiled Model: 2140\n",
      "\n",
      "Compiled Model: 2141\n",
      "\n",
      "Compiled Model: 2142\n",
      "\n",
      "Compiled Model: 2143\n",
      "\n",
      "Compiled Model: 2144\n",
      "\n",
      "Compiled Model: 2145\n",
      "\n",
      "Compiled Model: 2146\n",
      "\n",
      "Compiled Model: 2147\n",
      "\n",
      "Compiled Model: 2148\n",
      "\n",
      "Compiled Model: 2149\n",
      "\n",
      "Compiled Model: 2150\n",
      "\n",
      "Compiled Model: 2151\n",
      "\n",
      "Compiled Model: 2152\n",
      "\n",
      "Compiled Model: 2153\n",
      "\n",
      "Compiled Model: 2154\n",
      "\n",
      "Compiled Model: 2155\n",
      "\n",
      "Compiled Model: 2156\n",
      "\n",
      "Compiled Model: 2157\n",
      "\n",
      "Compiled Model: 2158\n",
      "\n",
      "Compiled Model: 2159\n",
      "\n",
      "Compiled Model: 2160\n",
      "\n",
      "Compiled Model: 2161\n",
      "\n",
      "Compiled Model: 2162\n",
      "\n",
      "Compiled Model: 2163\n",
      "\n",
      "Compiled Model: 2164\n",
      "\n",
      "Compiled Model: 2165\n",
      "\n",
      "Compiled Model: 2166\n",
      "\n",
      "Compiled Model: 2167\n",
      "\n",
      "Compiled Model: 2168\n",
      "\n",
      "Compiled Model: 2169\n",
      "\n",
      "Compiled Model: 2170\n",
      "\n",
      "Compiled Model: 2171\n",
      "\n",
      "Compiled Model: 2172\n",
      "\n",
      "Compiled Model: 2173\n",
      "\n",
      "Compiled Model: 2174\n",
      "\n",
      "Compiled Model: 2175\n",
      "\n",
      "Compiled Model: 2176\n",
      "\n",
      "Compiled Model: 2177\n",
      "\n",
      "Compiled Model: 2178\n",
      "\n",
      "Compiled Model: 2179\n",
      "\n",
      "Compiled Model: 2180\n",
      "\n",
      "Compiled Model: 2181\n",
      "\n",
      "Compiled Model: 2182\n",
      "\n",
      "Compiled Model: 2183\n",
      "\n",
      "Compiled Model: 2184\n",
      "\n",
      "Compiled Model: 2185\n",
      "\n",
      "Compiled Model: 2186\n",
      "\n",
      "Compiled Model: 2187\n",
      "\n",
      "Compiled Model: 2188\n",
      "\n",
      "Compiled Model: 2189\n",
      "\n",
      "Compiled Model: 2190\n",
      "\n",
      "Compiled Model: 2191\n",
      "\n",
      "Compiled Model: 2192\n",
      "\n",
      "Compiled Model: 2193\n",
      "\n",
      "Compiled Model: 2194\n",
      "\n",
      "Compiled Model: 2195\n",
      "\n",
      "Compiled Model: 2196\n",
      "\n",
      "Compiled Model: 2197\n",
      "\n",
      "Compiled Model: 2198\n",
      "\n",
      "Compiled Model: 2199\n",
      "\n",
      "Compiled Model: 2200\n",
      "\n",
      "Compiled Model: 2201\n",
      "\n",
      "Compiled Model: 2202\n",
      "\n",
      "Compiled Model: 2203\n",
      "\n",
      "Compiled Model: 2204\n",
      "\n",
      "Compiled Model: 2205\n",
      "\n",
      "Compiled Model: 2206\n",
      "\n",
      "Compiled Model: 2207\n",
      "\n",
      "Compiled Model: 2208\n",
      "\n",
      "Compiled Model: 2209\n",
      "\n",
      "Compiled Model: 2210\n",
      "\n",
      "Compiled Model: 2211\n",
      "\n"
     ]
    },
    {
     "name": "stderr",
     "output_type": "stream",
     "text": [
      "/Users/achyuth/miniconda3/envs/Proj/lib/python3.10/site-packages/sklearn/utils/validation.py:1143: DataConversionWarning: A column-vector y was passed when a 1d array was expected. Please change the shape of y to (n_samples, ), for example using ravel().\n",
      "  y = column_or_1d(y, warn=True)\n",
      "/Users/achyuth/miniconda3/envs/Proj/lib/python3.10/site-packages/sklearn/utils/validation.py:1143: DataConversionWarning: A column-vector y was passed when a 1d array was expected. Please change the shape of y to (n_samples, ), for example using ravel().\n",
      "  y = column_or_1d(y, warn=True)\n",
      "/Users/achyuth/miniconda3/envs/Proj/lib/python3.10/site-packages/sklearn/utils/validation.py:1143: DataConversionWarning: A column-vector y was passed when a 1d array was expected. Please change the shape of y to (n_samples, ), for example using ravel().\n",
      "  y = column_or_1d(y, warn=True)\n",
      "/Users/achyuth/miniconda3/envs/Proj/lib/python3.10/site-packages/sklearn/utils/validation.py:1143: DataConversionWarning: A column-vector y was passed when a 1d array was expected. Please change the shape of y to (n_samples, ), for example using ravel().\n",
      "  y = column_or_1d(y, warn=True)\n",
      "/Users/achyuth/miniconda3/envs/Proj/lib/python3.10/site-packages/sklearn/utils/validation.py:1143: DataConversionWarning: A column-vector y was passed when a 1d array was expected. Please change the shape of y to (n_samples, ), for example using ravel().\n",
      "  y = column_or_1d(y, warn=True)\n",
      "/Users/achyuth/miniconda3/envs/Proj/lib/python3.10/site-packages/sklearn/utils/validation.py:1143: DataConversionWarning: A column-vector y was passed when a 1d array was expected. Please change the shape of y to (n_samples, ), for example using ravel().\n",
      "  y = column_or_1d(y, warn=True)\n",
      "/Users/achyuth/miniconda3/envs/Proj/lib/python3.10/site-packages/sklearn/utils/validation.py:1143: DataConversionWarning: A column-vector y was passed when a 1d array was expected. Please change the shape of y to (n_samples, ), for example using ravel().\n",
      "  y = column_or_1d(y, warn=True)\n",
      "/Users/achyuth/miniconda3/envs/Proj/lib/python3.10/site-packages/sklearn/utils/validation.py:1143: DataConversionWarning: A column-vector y was passed when a 1d array was expected. Please change the shape of y to (n_samples, ), for example using ravel().\n",
      "  y = column_or_1d(y, warn=True)\n"
     ]
    },
    {
     "name": "stdout",
     "output_type": "stream",
     "text": [
      "Compiled Model: 2212\n",
      "\n",
      "Compiled Model: 2213\n",
      "\n",
      "Compiled Model: 2214\n",
      "\n",
      "Compiled Model: 2215\n",
      "\n",
      "Compiled Model: 2216\n",
      "\n",
      "Compiled Model: 2217\n",
      "\n",
      "Compiled Model: 2218\n",
      "\n"
     ]
    },
    {
     "name": "stderr",
     "output_type": "stream",
     "text": [
      "/Users/achyuth/miniconda3/envs/Proj/lib/python3.10/site-packages/sklearn/utils/validation.py:1143: DataConversionWarning: A column-vector y was passed when a 1d array was expected. Please change the shape of y to (n_samples, ), for example using ravel().\n",
      "  y = column_or_1d(y, warn=True)\n",
      "/Users/achyuth/miniconda3/envs/Proj/lib/python3.10/site-packages/sklearn/utils/validation.py:1143: DataConversionWarning: A column-vector y was passed when a 1d array was expected. Please change the shape of y to (n_samples, ), for example using ravel().\n",
      "  y = column_or_1d(y, warn=True)\n",
      "/Users/achyuth/miniconda3/envs/Proj/lib/python3.10/site-packages/sklearn/utils/validation.py:1143: DataConversionWarning: A column-vector y was passed when a 1d array was expected. Please change the shape of y to (n_samples, ), for example using ravel().\n",
      "  y = column_or_1d(y, warn=True)\n"
     ]
    },
    {
     "name": "stdout",
     "output_type": "stream",
     "text": [
      "Compiled Model: 2219\n",
      "\n",
      "Compiled Model: 2220\n",
      "\n",
      "Compiled Model: 2221\n",
      "\n",
      "Compiled Model: 2222\n",
      "\n",
      "Compiled Model: 2223\n",
      "\n",
      "Compiled Model: 2224\n",
      "\n"
     ]
    },
    {
     "name": "stderr",
     "output_type": "stream",
     "text": [
      "/Users/achyuth/miniconda3/envs/Proj/lib/python3.10/site-packages/sklearn/utils/validation.py:1143: DataConversionWarning: A column-vector y was passed when a 1d array was expected. Please change the shape of y to (n_samples, ), for example using ravel().\n",
      "  y = column_or_1d(y, warn=True)\n",
      "/Users/achyuth/miniconda3/envs/Proj/lib/python3.10/site-packages/sklearn/utils/validation.py:1143: DataConversionWarning: A column-vector y was passed when a 1d array was expected. Please change the shape of y to (n_samples, ), for example using ravel().\n",
      "  y = column_or_1d(y, warn=True)\n"
     ]
    },
    {
     "name": "stdout",
     "output_type": "stream",
     "text": [
      "Compiled Model: 2225\n",
      "\n"
     ]
    },
    {
     "name": "stderr",
     "output_type": "stream",
     "text": [
      "/Users/achyuth/miniconda3/envs/Proj/lib/python3.10/site-packages/sklearn/utils/validation.py:1143: DataConversionWarning: A column-vector y was passed when a 1d array was expected. Please change the shape of y to (n_samples, ), for example using ravel().\n",
      "  y = column_or_1d(y, warn=True)\n"
     ]
    },
    {
     "name": "stdout",
     "output_type": "stream",
     "text": [
      "Compiled Model: 2226\n",
      "\n",
      "Compiled Model: 2227\n",
      "\n"
     ]
    },
    {
     "name": "stderr",
     "output_type": "stream",
     "text": [
      "/Users/achyuth/miniconda3/envs/Proj/lib/python3.10/site-packages/sklearn/utils/validation.py:1143: DataConversionWarning: A column-vector y was passed when a 1d array was expected. Please change the shape of y to (n_samples, ), for example using ravel().\n",
      "  y = column_or_1d(y, warn=True)\n",
      "/Users/achyuth/miniconda3/envs/Proj/lib/python3.10/site-packages/sklearn/utils/validation.py:1143: DataConversionWarning: A column-vector y was passed when a 1d array was expected. Please change the shape of y to (n_samples, ), for example using ravel().\n",
      "  y = column_or_1d(y, warn=True)\n"
     ]
    },
    {
     "name": "stdout",
     "output_type": "stream",
     "text": [
      "Compiled Model: 2228\n",
      "\n",
      "Compiled Model: 2229\n",
      "\n",
      "Compiled Model: 2230\n",
      "\n",
      "Compiled Model: 2231\n",
      "\n",
      "Compiled Model: 2232\n",
      "\n"
     ]
    },
    {
     "name": "stderr",
     "output_type": "stream",
     "text": [
      "/Users/achyuth/miniconda3/envs/Proj/lib/python3.10/site-packages/sklearn/utils/validation.py:1143: DataConversionWarning: A column-vector y was passed when a 1d array was expected. Please change the shape of y to (n_samples, ), for example using ravel().\n",
      "  y = column_or_1d(y, warn=True)\n"
     ]
    },
    {
     "name": "stdout",
     "output_type": "stream",
     "text": [
      "Compiled Model: 2233\n",
      "\n"
     ]
    },
    {
     "name": "stderr",
     "output_type": "stream",
     "text": [
      "/Users/achyuth/miniconda3/envs/Proj/lib/python3.10/site-packages/sklearn/utils/validation.py:1143: DataConversionWarning: A column-vector y was passed when a 1d array was expected. Please change the shape of y to (n_samples, ), for example using ravel().\n",
      "  y = column_or_1d(y, warn=True)\n"
     ]
    },
    {
     "name": "stdout",
     "output_type": "stream",
     "text": [
      "Compiled Model: 2234\n",
      "\n"
     ]
    },
    {
     "name": "stderr",
     "output_type": "stream",
     "text": [
      "/Users/achyuth/miniconda3/envs/Proj/lib/python3.10/site-packages/sklearn/utils/validation.py:1143: DataConversionWarning: A column-vector y was passed when a 1d array was expected. Please change the shape of y to (n_samples, ), for example using ravel().\n",
      "  y = column_or_1d(y, warn=True)\n"
     ]
    },
    {
     "name": "stdout",
     "output_type": "stream",
     "text": [
      "Compiled Model: 2235\n",
      "\n"
     ]
    },
    {
     "name": "stderr",
     "output_type": "stream",
     "text": [
      "/Users/achyuth/miniconda3/envs/Proj/lib/python3.10/site-packages/sklearn/utils/validation.py:1143: DataConversionWarning: A column-vector y was passed when a 1d array was expected. Please change the shape of y to (n_samples, ), for example using ravel().\n",
      "  y = column_or_1d(y, warn=True)\n"
     ]
    },
    {
     "name": "stdout",
     "output_type": "stream",
     "text": [
      "Compiled Model: 2236\n",
      "\n",
      "Compiled Model: 2237\n",
      "\n",
      "Compiled Model: 2238\n",
      "\n",
      "Compiled Model: 2239\n",
      "\n",
      "Compiled Model: 2240\n",
      "\n",
      "Compiled Model: 2241\n",
      "\n",
      "Compiled Model: 2242\n",
      "\n",
      "Compiled Model: 2243\n",
      "\n",
      "Compiled Model: 2244\n",
      "\n",
      "Compiled Model: 2245\n",
      "\n",
      "Compiled Model: 2246\n",
      "\n",
      "Compiled Model: 2247\n",
      "\n",
      "Compiled Model: 2248\n",
      "\n",
      "Compiled Model: 2249\n",
      "\n",
      "Compiled Model: 2250\n",
      "\n",
      "Compiled Model: 2251\n",
      "\n",
      "Compiled Model: 2252\n",
      "\n",
      "Compiled Model: 2253\n",
      "\n",
      "Compiled Model: 2254\n",
      "\n",
      "Compiled Model: 2255\n",
      "\n",
      "Compiled Model: 2256\n",
      "\n",
      "Compiled Model: 2257\n",
      "\n",
      "Compiled Model: 2258\n",
      "\n",
      "Compiled Model: 2259\n",
      "\n",
      "Compiled Model: 2260\n",
      "\n",
      "Compiled Model: 2261\n",
      "\n",
      "Compiled Model: 2262\n",
      "\n",
      "Compiled Model: 2263\n",
      "\n",
      "Compiled Model: 2264\n",
      "\n"
     ]
    },
    {
     "name": "stderr",
     "output_type": "stream",
     "text": [
      "/Users/achyuth/miniconda3/envs/Proj/lib/python3.10/site-packages/sklearn/utils/validation.py:1143: DataConversionWarning: A column-vector y was passed when a 1d array was expected. Please change the shape of y to (n_samples, ), for example using ravel().\n",
      "  y = column_or_1d(y, warn=True)\n",
      "/Users/achyuth/miniconda3/envs/Proj/lib/python3.10/site-packages/sklearn/utils/validation.py:1143: DataConversionWarning: A column-vector y was passed when a 1d array was expected. Please change the shape of y to (n_samples, ), for example using ravel().\n",
      "  y = column_or_1d(y, warn=True)\n",
      "/Users/achyuth/miniconda3/envs/Proj/lib/python3.10/site-packages/sklearn/utils/validation.py:1143: DataConversionWarning: A column-vector y was passed when a 1d array was expected. Please change the shape of y to (n_samples, ), for example using ravel().\n",
      "  y = column_or_1d(y, warn=True)\n",
      "/Users/achyuth/miniconda3/envs/Proj/lib/python3.10/site-packages/sklearn/utils/validation.py:1143: DataConversionWarning: A column-vector y was passed when a 1d array was expected. Please change the shape of y to (n_samples, ), for example using ravel().\n",
      "  y = column_or_1d(y, warn=True)\n",
      "/Users/achyuth/miniconda3/envs/Proj/lib/python3.10/site-packages/sklearn/utils/validation.py:1143: DataConversionWarning: A column-vector y was passed when a 1d array was expected. Please change the shape of y to (n_samples, ), for example using ravel().\n",
      "  y = column_or_1d(y, warn=True)\n"
     ]
    },
    {
     "name": "stdout",
     "output_type": "stream",
     "text": [
      "Compiled Model: 2265\n",
      "\n",
      "Compiled Model: 2266\n",
      "\n",
      "Compiled Model: 2267\n",
      "\n",
      "Compiled Model: 2268\n",
      "\n",
      "Compiled Model: 2269\n",
      "\n",
      "Compiled Model: 2270\n",
      "\n",
      "Compiled Model: 2271\n",
      "\n",
      "Compiled Model: 2272\n",
      "\n",
      "Compiled Model: 2273\n",
      "\n",
      "Compiled Model: 2274\n",
      "\n",
      "Compiled Model: 2275\n",
      "\n",
      "Compiled Model: 2276\n",
      "\n",
      "Compiled Model: 2277\n",
      "\n",
      "Compiled Model: 2278\n",
      "\n",
      "Compiled Model: 2279\n",
      "\n",
      "Compiled Model: 2280\n",
      "\n",
      "Compiled Model: 2281\n",
      "\n",
      "Compiled Model: 2282\n",
      "\n",
      "Compiled Model: 2283\n",
      "\n",
      "Compiled Model: 2284\n",
      "\n",
      "Compiled Model: 2285\n",
      "\n",
      "Compiled Model: 2286\n",
      "\n",
      "Compiled Model: 2287\n",
      "\n",
      "Compiled Model: 2288\n",
      "\n",
      "Compiled Model: 2289\n",
      "\n",
      "Compiled Model: 2290\n",
      "\n",
      "Compiled Model: 2291\n",
      "\n",
      "Compiled Model: 2292\n",
      "\n",
      "Compiled Model: 2293\n",
      "\n",
      "Compiled Model: 2294\n",
      "\n",
      "Compiled Model: 2295\n",
      "\n",
      "Compiled Model: 2296\n",
      "\n",
      "Compiled Model: 2297\n",
      "\n",
      "Compiled Model: 2298\n",
      "\n",
      "Compiled Model: 2299\n",
      "\n",
      "Compiled Model: 2300\n",
      "\n",
      "Compiled Model: 2301\n",
      "\n",
      "Compiled Model: 2302\n",
      "\n",
      "Compiled Model: 2303\n",
      "\n",
      "0.7844568484328038 LogisticRegression(class_weight='balanced', max_iter=1000, penalty='l1',\n",
      "                   solver='saga', tol=0.001)\n",
      "0.7844568484328038 LogisticRegression(class_weight='balanced', max_iter=1000, penalty='l1',\n",
      "                   solver='saga', tol=0.001, warm_start=True)\n",
      "0.7827393731215114 LogisticRegression(class_weight='balanced', fit_intercept=False, max_iter=1000,\n",
      "                   penalty='l1', solver='saga')\n",
      "0.7827393731215114 LogisticRegression(class_weight='balanced', fit_intercept=False, max_iter=1000,\n",
      "                   penalty='l1', solver='saga', warm_start=True)\n",
      "0.7827393731215114 LogisticRegression(class_weight='balanced', max_iter=1000, penalty='l1',\n",
      "                   solver='saga')\n",
      "0.7827393731215114 LogisticRegression(class_weight='balanced', max_iter=1000, penalty='l1',\n",
      "                   solver='saga', warm_start=True)\n",
      "0.7827393731215114 LogisticRegression(class_weight='balanced', fit_intercept=False, max_iter=1000,\n",
      "                   penalty='l1', solver='liblinear')\n",
      "0.7823100042936882 LogisticRegression(class_weight='balanced', fit_intercept=False, max_iter=1000,\n",
      "                   penalty='l1', solver='liblinear', warm_start=True)\n",
      "0.781021897810219 LogisticRegression(class_weight='balanced', max_iter=1000, penalty='l1',\n",
      "                   solver='liblinear', warm_start=True)\n",
      "0.7805925289823958 LogisticRegression(class_weight='balanced', max_iter=1000, penalty='l1',\n",
      "                   solver='liblinear')\n",
      "0.7805925289823958 LogisticRegression(class_weight='balanced', fit_intercept=False, max_iter=1000,\n",
      "                   penalty='l1', solver='saga', tol=0.001)\n",
      "0.7805925289823958 LogisticRegression(class_weight='balanced', fit_intercept=False, max_iter=1000,\n",
      "                   penalty='l1', solver='saga', tol=0.001, warm_start=True)\n",
      "0.7801631601545728 LogisticRegression(class_weight='balanced', max_iter=1000, penalty='l1',\n",
      "                   solver='liblinear', tol=0.001)\n",
      "0.7797337913267497 LogisticRegression(class_weight='balanced', fit_intercept=False, max_iter=1000,\n",
      "                   penalty='l1', solver='liblinear', tol=0.001)\n",
      "0.7797337913267497 LogisticRegression(class_weight='balanced', max_iter=1000, penalty='l1',\n",
      "                   solver='liblinear', tol=0.001, warm_start=True)\n",
      "0.7793044224989266 LogisticRegression(class_weight='balanced', fit_intercept=False, max_iter=1000,\n",
      "                   penalty='l1', solver='liblinear', tol=0.001,\n",
      "                   warm_start=True)\n",
      "0.7788750536711034 LogisticRegression(class_weight='balanced', max_iter=1000, solver='liblinear')\n",
      "0.7788750536711034 LogisticRegression(class_weight='balanced', max_iter=1000, solver='liblinear',\n",
      "                   warm_start=True)\n",
      "0.7788750536711034 LogisticRegression(class_weight='balanced', dual=True, max_iter=1000,\n",
      "                   solver='liblinear')\n",
      "0.7788750536711034 LogisticRegression(class_weight='balanced', dual=True, max_iter=1000,\n",
      "                   solver='liblinear', warm_start=True)\n"
     ]
    },
    {
     "name": "stderr",
     "output_type": "stream",
     "text": [
      "/Users/achyuth/miniconda3/envs/Proj/lib/python3.10/site-packages/sklearn/utils/validation.py:1143: DataConversionWarning: A column-vector y was passed when a 1d array was expected. Please change the shape of y to (n_samples, ), for example using ravel().\n",
      "  y = column_or_1d(y, warn=True)\n",
      "/Users/achyuth/miniconda3/envs/Proj/lib/python3.10/site-packages/sklearn/utils/validation.py:1143: DataConversionWarning: A column-vector y was passed when a 1d array was expected. Please change the shape of y to (n_samples, ), for example using ravel().\n",
      "  y = column_or_1d(y, warn=True)\n",
      "/Users/achyuth/miniconda3/envs/Proj/lib/python3.10/site-packages/sklearn/utils/validation.py:1143: DataConversionWarning: A column-vector y was passed when a 1d array was expected. Please change the shape of y to (n_samples, ), for example using ravel().\n",
      "  y = column_or_1d(y, warn=True)\n",
      "/Users/achyuth/miniconda3/envs/Proj/lib/python3.10/site-packages/sklearn/utils/validation.py:1143: DataConversionWarning: A column-vector y was passed when a 1d array was expected. Please change the shape of y to (n_samples, ), for example using ravel().\n",
      "  y = column_or_1d(y, warn=True)\n",
      "/Users/achyuth/miniconda3/envs/Proj/lib/python3.10/site-packages/sklearn/utils/validation.py:1143: DataConversionWarning: A column-vector y was passed when a 1d array was expected. Please change the shape of y to (n_samples, ), for example using ravel().\n",
      "  y = column_or_1d(y, warn=True)\n",
      "/Users/achyuth/miniconda3/envs/Proj/lib/python3.10/site-packages/sklearn/utils/validation.py:1143: DataConversionWarning: A column-vector y was passed when a 1d array was expected. Please change the shape of y to (n_samples, ), for example using ravel().\n",
      "  y = column_or_1d(y, warn=True)\n",
      "/Users/achyuth/miniconda3/envs/Proj/lib/python3.10/site-packages/sklearn/utils/validation.py:1143: DataConversionWarning: A column-vector y was passed when a 1d array was expected. Please change the shape of y to (n_samples, ), for example using ravel().\n",
      "  y = column_or_1d(y, warn=True)\n"
     ]
    }
   ],
   "source": [
    "import pickle as pk\n",
    "n = 20\n",
    "compiled_models = []\n",
    "\n",
    "\n",
    "Cs = [1.0, 0.1, 0.01, 0.001, 0.0001, 0.00001]\n",
    "tolerances = [0.001, 0.0001]\n",
    "duals = [True, False]\n",
    "penalties = ['l2', 'l1', 'elasticnet']\n",
    "solvers = ['lbfgs', 'liblinear', 'sag', 'saga']\n",
    "max_iters = [1000]\n",
    "class_weights = ['balanced', 'None']\n",
    "fit_intercepts = [True, False]\n",
    "warm_starts = [True, False]\n",
    "\n",
    "counter = 0\n",
    "\n",
    "for C in Cs:\n",
    "    for tol in tolerances:\n",
    "        for dual in duals:\n",
    "            for penalty in penalties:\n",
    "                for solver in solvers:\n",
    "                    for max_iter in max_iters:\n",
    "                        for class_weight in class_weights:\n",
    "                            for fit_intercept in fit_intercepts:\n",
    "                                for warm_start in warm_starts:\n",
    "                        \n",
    "                                    print(f\"Compiled Model: {counter}\\n\")\n",
    "\n",
    "                                    try:\n",
    "                                        model = LogisticRegression(penalty=penalty, \n",
    "                                                                   dual=dual, \n",
    "                                                                   tol=tol, \n",
    "                                                                   C=C, \n",
    "                                                                   solver=solver, \n",
    "                                                                   max_iter=max_iter, \n",
    "                                                                   class_weight = class_weight,\n",
    "                                                                   fit_intercept = fit_intercept, \n",
    "                                                                   warm_start = warm_start).fit(x_train, y_train)\n",
    "                                    except:\n",
    "                                        counter += 1\n",
    "                                        continue\n",
    "\n",
    "                                    compiled_models.append([float(model.score(x_valid, y_valid)), model])\n",
    "                                    counter += 1\n",
    "                        \n",
    "compiled_models.sort(key=lambda row: (row[0]))\n",
    "compiled_models = compiled_models[::-1]\n",
    "compiled_models = compiled_models[0:n]\n",
    "\n",
    "for i, model in enumerate(compiled_models):\n",
    "    print(model[0], model[1])\n",
    "    filename = f'PIKLEDfiles/Logisitic_Reg_{i}'\n",
    "    pk.dump(model[1], open(filename, 'wb'))"
   ]
  },
  {
   "cell_type": "code",
   "execution_count": 78,
   "metadata": {},
   "outputs": [
    {
     "name": "stderr",
     "output_type": "stream",
     "text": [
      "/Users/achyuth/miniconda3/envs/Proj/lib/python3.10/site-packages/sklearn/ensemble/_gb.py:437: DataConversionWarning: A column-vector y was passed when a 1d array was expected. Please change the shape of y to (n_samples, ), for example using ravel().\n",
      "  y = column_or_1d(y, warn=True)\n"
     ]
    },
    {
     "name": "stdout",
     "output_type": "stream",
     "text": [
      "      Iter       Train Loss   Remaining Time \n",
      "         1           1.1240           41.16s\n",
      "         2           1.0746           39.92s\n",
      "         3           1.0332           41.13s\n",
      "         4           0.9941           39.94s\n",
      "         5           0.9609           39.59s\n",
      "         6           0.9351           37.73s\n",
      "         7           0.9099           36.43s\n",
      "         8           0.8879           35.39s\n",
      "         9           0.8661           34.51s\n",
      "        10           0.8459           33.72s\n",
      "        20           0.7024           28.43s\n",
      "        30           0.6187           24.87s\n",
      "        40           0.5562           21.74s\n",
      "        50           0.5030           18.00s\n",
      "        60           0.4625           15.55s\n",
      "        70           0.4266           13.23s\n",
      "        80           0.3979            9.17s\n",
      "        90           0.3757            4.56s\n",
      "       100           0.3533            0.00s\n"
     ]
    },
    {
     "data": {
      "text/plain": [
       "0.9368827823100043"
      ]
     },
     "execution_count": 78,
     "metadata": {},
     "output_type": "execute_result"
    }
   ],
   "source": [
    "model = GradientBoostingClassifier(verbose=1).fit(x_train, y_train)\n",
    "model.score(x_valid, y_valid)"
   ]
  },
  {
   "cell_type": "code",
   "execution_count": 79,
   "metadata": {},
   "outputs": [
    {
     "data": {
      "text/plain": [
       "0.9254807692307693"
      ]
     },
     "execution_count": 79,
     "metadata": {},
     "output_type": "execute_result"
    }
   ],
   "source": [
    "model.score(x_test, y_test)"
   ]
  },
  {
   "cell_type": "code",
   "execution_count": 80,
   "metadata": {},
   "outputs": [
    {
     "name": "stdout",
     "output_type": "stream",
     "text": [
      "Compiled Model: 0\n",
      "\n"
     ]
    },
    {
     "name": "stderr",
     "output_type": "stream",
     "text": [
      "/Users/achyuth/miniconda3/envs/Proj/lib/python3.10/site-packages/sklearn/ensemble/_gb.py:437: DataConversionWarning: A column-vector y was passed when a 1d array was expected. Please change the shape of y to (n_samples, ), for example using ravel().\n",
      "  y = column_or_1d(y, warn=True)\n"
     ]
    },
    {
     "name": "stdout",
     "output_type": "stream",
     "text": [
      "Compiled Model: 1\n",
      "\n"
     ]
    },
    {
     "name": "stderr",
     "output_type": "stream",
     "text": [
      "/Users/achyuth/miniconda3/envs/Proj/lib/python3.10/site-packages/sklearn/ensemble/_gb.py:437: DataConversionWarning: A column-vector y was passed when a 1d array was expected. Please change the shape of y to (n_samples, ), for example using ravel().\n",
      "  y = column_or_1d(y, warn=True)\n"
     ]
    },
    {
     "name": "stdout",
     "output_type": "stream",
     "text": [
      "Compiled Model: 2\n",
      "\n"
     ]
    },
    {
     "name": "stderr",
     "output_type": "stream",
     "text": [
      "/Users/achyuth/miniconda3/envs/Proj/lib/python3.10/site-packages/sklearn/ensemble/_gb.py:437: DataConversionWarning: A column-vector y was passed when a 1d array was expected. Please change the shape of y to (n_samples, ), for example using ravel().\n",
      "  y = column_or_1d(y, warn=True)\n"
     ]
    },
    {
     "name": "stdout",
     "output_type": "stream",
     "text": [
      "Compiled Model: 3\n",
      "\n"
     ]
    },
    {
     "name": "stderr",
     "output_type": "stream",
     "text": [
      "/Users/achyuth/miniconda3/envs/Proj/lib/python3.10/site-packages/sklearn/ensemble/_gb.py:437: DataConversionWarning: A column-vector y was passed when a 1d array was expected. Please change the shape of y to (n_samples, ), for example using ravel().\n",
      "  y = column_or_1d(y, warn=True)\n"
     ]
    },
    {
     "name": "stdout",
     "output_type": "stream",
     "text": [
      "Compiled Model: 4\n",
      "\n"
     ]
    },
    {
     "name": "stderr",
     "output_type": "stream",
     "text": [
      "/Users/achyuth/miniconda3/envs/Proj/lib/python3.10/site-packages/sklearn/ensemble/_gb.py:437: DataConversionWarning: A column-vector y was passed when a 1d array was expected. Please change the shape of y to (n_samples, ), for example using ravel().\n",
      "  y = column_or_1d(y, warn=True)\n"
     ]
    },
    {
     "name": "stdout",
     "output_type": "stream",
     "text": [
      "Compiled Model: 5\n",
      "\n"
     ]
    },
    {
     "name": "stderr",
     "output_type": "stream",
     "text": [
      "/Users/achyuth/miniconda3/envs/Proj/lib/python3.10/site-packages/sklearn/ensemble/_gb.py:437: DataConversionWarning: A column-vector y was passed when a 1d array was expected. Please change the shape of y to (n_samples, ), for example using ravel().\n",
      "  y = column_or_1d(y, warn=True)\n"
     ]
    },
    {
     "name": "stdout",
     "output_type": "stream",
     "text": [
      "Compiled Model: 6\n",
      "\n"
     ]
    },
    {
     "name": "stderr",
     "output_type": "stream",
     "text": [
      "/Users/achyuth/miniconda3/envs/Proj/lib/python3.10/site-packages/sklearn/ensemble/_gb.py:437: DataConversionWarning: A column-vector y was passed when a 1d array was expected. Please change the shape of y to (n_samples, ), for example using ravel().\n",
      "  y = column_or_1d(y, warn=True)\n"
     ]
    },
    {
     "name": "stdout",
     "output_type": "stream",
     "text": [
      "Compiled Model: 7\n",
      "\n"
     ]
    },
    {
     "name": "stderr",
     "output_type": "stream",
     "text": [
      "/Users/achyuth/miniconda3/envs/Proj/lib/python3.10/site-packages/sklearn/ensemble/_gb.py:437: DataConversionWarning: A column-vector y was passed when a 1d array was expected. Please change the shape of y to (n_samples, ), for example using ravel().\n",
      "  y = column_or_1d(y, warn=True)\n"
     ]
    },
    {
     "name": "stdout",
     "output_type": "stream",
     "text": [
      "Compiled Model: 8\n",
      "\n"
     ]
    },
    {
     "name": "stderr",
     "output_type": "stream",
     "text": [
      "/Users/achyuth/miniconda3/envs/Proj/lib/python3.10/site-packages/sklearn/ensemble/_gb.py:437: DataConversionWarning: A column-vector y was passed when a 1d array was expected. Please change the shape of y to (n_samples, ), for example using ravel().\n",
      "  y = column_or_1d(y, warn=True)\n"
     ]
    },
    {
     "name": "stdout",
     "output_type": "stream",
     "text": [
      "Compiled Model: 9\n",
      "\n"
     ]
    },
    {
     "name": "stderr",
     "output_type": "stream",
     "text": [
      "/Users/achyuth/miniconda3/envs/Proj/lib/python3.10/site-packages/sklearn/ensemble/_gb.py:437: DataConversionWarning: A column-vector y was passed when a 1d array was expected. Please change the shape of y to (n_samples, ), for example using ravel().\n",
      "  y = column_or_1d(y, warn=True)\n"
     ]
    },
    {
     "name": "stdout",
     "output_type": "stream",
     "text": [
      "Compiled Model: 10\n",
      "\n"
     ]
    },
    {
     "name": "stderr",
     "output_type": "stream",
     "text": [
      "/Users/achyuth/miniconda3/envs/Proj/lib/python3.10/site-packages/sklearn/ensemble/_gb.py:437: DataConversionWarning: A column-vector y was passed when a 1d array was expected. Please change the shape of y to (n_samples, ), for example using ravel().\n",
      "  y = column_or_1d(y, warn=True)\n"
     ]
    },
    {
     "name": "stdout",
     "output_type": "stream",
     "text": [
      "Compiled Model: 11\n",
      "\n"
     ]
    },
    {
     "name": "stderr",
     "output_type": "stream",
     "text": [
      "/Users/achyuth/miniconda3/envs/Proj/lib/python3.10/site-packages/sklearn/ensemble/_gb.py:437: DataConversionWarning: A column-vector y was passed when a 1d array was expected. Please change the shape of y to (n_samples, ), for example using ravel().\n",
      "  y = column_or_1d(y, warn=True)\n"
     ]
    },
    {
     "name": "stdout",
     "output_type": "stream",
     "text": [
      "Compiled Model: 12\n",
      "\n"
     ]
    },
    {
     "name": "stderr",
     "output_type": "stream",
     "text": [
      "/Users/achyuth/miniconda3/envs/Proj/lib/python3.10/site-packages/sklearn/ensemble/_gb.py:437: DataConversionWarning: A column-vector y was passed when a 1d array was expected. Please change the shape of y to (n_samples, ), for example using ravel().\n",
      "  y = column_or_1d(y, warn=True)\n",
      "/Users/achyuth/miniconda3/envs/Proj/lib/python3.10/site-packages/sklearn/ensemble/_gb.py:280: FutureWarning: The loss parameter name 'deviance' was deprecated in v1.1 and will be removed in version 1.3. Use the new parameter name 'log_loss' which is equivalent.\n",
      "  warnings.warn(\n"
     ]
    },
    {
     "name": "stdout",
     "output_type": "stream",
     "text": [
      "Compiled Model: 13\n",
      "\n"
     ]
    },
    {
     "name": "stderr",
     "output_type": "stream",
     "text": [
      "/Users/achyuth/miniconda3/envs/Proj/lib/python3.10/site-packages/sklearn/ensemble/_gb.py:437: DataConversionWarning: A column-vector y was passed when a 1d array was expected. Please change the shape of y to (n_samples, ), for example using ravel().\n",
      "  y = column_or_1d(y, warn=True)\n",
      "/Users/achyuth/miniconda3/envs/Proj/lib/python3.10/site-packages/sklearn/ensemble/_gb.py:280: FutureWarning: The loss parameter name 'deviance' was deprecated in v1.1 and will be removed in version 1.3. Use the new parameter name 'log_loss' which is equivalent.\n",
      "  warnings.warn(\n"
     ]
    },
    {
     "name": "stdout",
     "output_type": "stream",
     "text": [
      "Compiled Model: 14\n",
      "\n"
     ]
    },
    {
     "name": "stderr",
     "output_type": "stream",
     "text": [
      "/Users/achyuth/miniconda3/envs/Proj/lib/python3.10/site-packages/sklearn/ensemble/_gb.py:437: DataConversionWarning: A column-vector y was passed when a 1d array was expected. Please change the shape of y to (n_samples, ), for example using ravel().\n",
      "  y = column_or_1d(y, warn=True)\n",
      "/Users/achyuth/miniconda3/envs/Proj/lib/python3.10/site-packages/sklearn/ensemble/_gb.py:280: FutureWarning: The loss parameter name 'deviance' was deprecated in v1.1 and will be removed in version 1.3. Use the new parameter name 'log_loss' which is equivalent.\n",
      "  warnings.warn(\n"
     ]
    },
    {
     "name": "stdout",
     "output_type": "stream",
     "text": [
      "Compiled Model: 15\n",
      "\n"
     ]
    },
    {
     "name": "stderr",
     "output_type": "stream",
     "text": [
      "/Users/achyuth/miniconda3/envs/Proj/lib/python3.10/site-packages/sklearn/ensemble/_gb.py:437: DataConversionWarning: A column-vector y was passed when a 1d array was expected. Please change the shape of y to (n_samples, ), for example using ravel().\n",
      "  y = column_or_1d(y, warn=True)\n",
      "/Users/achyuth/miniconda3/envs/Proj/lib/python3.10/site-packages/sklearn/ensemble/_gb.py:280: FutureWarning: The loss parameter name 'deviance' was deprecated in v1.1 and will be removed in version 1.3. Use the new parameter name 'log_loss' which is equivalent.\n",
      "  warnings.warn(\n"
     ]
    },
    {
     "name": "stdout",
     "output_type": "stream",
     "text": [
      "Compiled Model: 16\n",
      "\n"
     ]
    },
    {
     "name": "stderr",
     "output_type": "stream",
     "text": [
      "/Users/achyuth/miniconda3/envs/Proj/lib/python3.10/site-packages/sklearn/ensemble/_gb.py:437: DataConversionWarning: A column-vector y was passed when a 1d array was expected. Please change the shape of y to (n_samples, ), for example using ravel().\n",
      "  y = column_or_1d(y, warn=True)\n",
      "/Users/achyuth/miniconda3/envs/Proj/lib/python3.10/site-packages/sklearn/ensemble/_gb.py:280: FutureWarning: The loss parameter name 'deviance' was deprecated in v1.1 and will be removed in version 1.3. Use the new parameter name 'log_loss' which is equivalent.\n",
      "  warnings.warn(\n"
     ]
    },
    {
     "name": "stdout",
     "output_type": "stream",
     "text": [
      "Compiled Model: 17\n",
      "\n"
     ]
    },
    {
     "name": "stderr",
     "output_type": "stream",
     "text": [
      "/Users/achyuth/miniconda3/envs/Proj/lib/python3.10/site-packages/sklearn/ensemble/_gb.py:437: DataConversionWarning: A column-vector y was passed when a 1d array was expected. Please change the shape of y to (n_samples, ), for example using ravel().\n",
      "  y = column_or_1d(y, warn=True)\n",
      "/Users/achyuth/miniconda3/envs/Proj/lib/python3.10/site-packages/sklearn/ensemble/_gb.py:280: FutureWarning: The loss parameter name 'deviance' was deprecated in v1.1 and will be removed in version 1.3. Use the new parameter name 'log_loss' which is equivalent.\n",
      "  warnings.warn(\n"
     ]
    },
    {
     "name": "stdout",
     "output_type": "stream",
     "text": [
      "Compiled Model: 18\n",
      "\n"
     ]
    },
    {
     "name": "stderr",
     "output_type": "stream",
     "text": [
      "/Users/achyuth/miniconda3/envs/Proj/lib/python3.10/site-packages/sklearn/ensemble/_gb.py:437: DataConversionWarning: A column-vector y was passed when a 1d array was expected. Please change the shape of y to (n_samples, ), for example using ravel().\n",
      "  y = column_or_1d(y, warn=True)\n",
      "/Users/achyuth/miniconda3/envs/Proj/lib/python3.10/site-packages/sklearn/ensemble/_gb.py:280: FutureWarning: The loss parameter name 'deviance' was deprecated in v1.1 and will be removed in version 1.3. Use the new parameter name 'log_loss' which is equivalent.\n",
      "  warnings.warn(\n"
     ]
    },
    {
     "name": "stdout",
     "output_type": "stream",
     "text": [
      "Compiled Model: 19\n",
      "\n"
     ]
    },
    {
     "name": "stderr",
     "output_type": "stream",
     "text": [
      "/Users/achyuth/miniconda3/envs/Proj/lib/python3.10/site-packages/sklearn/ensemble/_gb.py:437: DataConversionWarning: A column-vector y was passed when a 1d array was expected. Please change the shape of y to (n_samples, ), for example using ravel().\n",
      "  y = column_or_1d(y, warn=True)\n",
      "/Users/achyuth/miniconda3/envs/Proj/lib/python3.10/site-packages/sklearn/ensemble/_gb.py:280: FutureWarning: The loss parameter name 'deviance' was deprecated in v1.1 and will be removed in version 1.3. Use the new parameter name 'log_loss' which is equivalent.\n",
      "  warnings.warn(\n"
     ]
    },
    {
     "name": "stdout",
     "output_type": "stream",
     "text": [
      "Compiled Model: 20\n",
      "\n"
     ]
    },
    {
     "name": "stderr",
     "output_type": "stream",
     "text": [
      "/Users/achyuth/miniconda3/envs/Proj/lib/python3.10/site-packages/sklearn/ensemble/_gb.py:437: DataConversionWarning: A column-vector y was passed when a 1d array was expected. Please change the shape of y to (n_samples, ), for example using ravel().\n",
      "  y = column_or_1d(y, warn=True)\n",
      "/Users/achyuth/miniconda3/envs/Proj/lib/python3.10/site-packages/sklearn/ensemble/_gb.py:280: FutureWarning: The loss parameter name 'deviance' was deprecated in v1.1 and will be removed in version 1.3. Use the new parameter name 'log_loss' which is equivalent.\n",
      "  warnings.warn(\n"
     ]
    },
    {
     "name": "stdout",
     "output_type": "stream",
     "text": [
      "Compiled Model: 21\n",
      "\n"
     ]
    },
    {
     "name": "stderr",
     "output_type": "stream",
     "text": [
      "/Users/achyuth/miniconda3/envs/Proj/lib/python3.10/site-packages/sklearn/ensemble/_gb.py:437: DataConversionWarning: A column-vector y was passed when a 1d array was expected. Please change the shape of y to (n_samples, ), for example using ravel().\n",
      "  y = column_or_1d(y, warn=True)\n",
      "/Users/achyuth/miniconda3/envs/Proj/lib/python3.10/site-packages/sklearn/ensemble/_gb.py:280: FutureWarning: The loss parameter name 'deviance' was deprecated in v1.1 and will be removed in version 1.3. Use the new parameter name 'log_loss' which is equivalent.\n",
      "  warnings.warn(\n"
     ]
    },
    {
     "name": "stdout",
     "output_type": "stream",
     "text": [
      "Compiled Model: 22\n",
      "\n"
     ]
    },
    {
     "name": "stderr",
     "output_type": "stream",
     "text": [
      "/Users/achyuth/miniconda3/envs/Proj/lib/python3.10/site-packages/sklearn/ensemble/_gb.py:437: DataConversionWarning: A column-vector y was passed when a 1d array was expected. Please change the shape of y to (n_samples, ), for example using ravel().\n",
      "  y = column_or_1d(y, warn=True)\n",
      "/Users/achyuth/miniconda3/envs/Proj/lib/python3.10/site-packages/sklearn/ensemble/_gb.py:280: FutureWarning: The loss parameter name 'deviance' was deprecated in v1.1 and will be removed in version 1.3. Use the new parameter name 'log_loss' which is equivalent.\n",
      "  warnings.warn(\n"
     ]
    },
    {
     "name": "stdout",
     "output_type": "stream",
     "text": [
      "Compiled Model: 23\n",
      "\n"
     ]
    },
    {
     "name": "stderr",
     "output_type": "stream",
     "text": [
      "/Users/achyuth/miniconda3/envs/Proj/lib/python3.10/site-packages/sklearn/ensemble/_gb.py:437: DataConversionWarning: A column-vector y was passed when a 1d array was expected. Please change the shape of y to (n_samples, ), for example using ravel().\n",
      "  y = column_or_1d(y, warn=True)\n",
      "/Users/achyuth/miniconda3/envs/Proj/lib/python3.10/site-packages/sklearn/ensemble/_gb.py:280: FutureWarning: The loss parameter name 'deviance' was deprecated in v1.1 and will be removed in version 1.3. Use the new parameter name 'log_loss' which is equivalent.\n",
      "  warnings.warn(\n"
     ]
    },
    {
     "name": "stdout",
     "output_type": "stream",
     "text": [
      "Compiled Model: 24\n",
      "\n"
     ]
    },
    {
     "name": "stderr",
     "output_type": "stream",
     "text": [
      "/Users/achyuth/miniconda3/envs/Proj/lib/python3.10/site-packages/sklearn/ensemble/_gb.py:437: DataConversionWarning: A column-vector y was passed when a 1d array was expected. Please change the shape of y to (n_samples, ), for example using ravel().\n",
      "  y = column_or_1d(y, warn=True)\n"
     ]
    },
    {
     "name": "stdout",
     "output_type": "stream",
     "text": [
      "Compiled Model: 25\n",
      "\n"
     ]
    },
    {
     "name": "stderr",
     "output_type": "stream",
     "text": [
      "/Users/achyuth/miniconda3/envs/Proj/lib/python3.10/site-packages/sklearn/ensemble/_gb.py:437: DataConversionWarning: A column-vector y was passed when a 1d array was expected. Please change the shape of y to (n_samples, ), for example using ravel().\n",
      "  y = column_or_1d(y, warn=True)\n"
     ]
    },
    {
     "name": "stdout",
     "output_type": "stream",
     "text": [
      "Compiled Model: 26\n",
      "\n"
     ]
    },
    {
     "name": "stderr",
     "output_type": "stream",
     "text": [
      "/Users/achyuth/miniconda3/envs/Proj/lib/python3.10/site-packages/sklearn/ensemble/_gb.py:437: DataConversionWarning: A column-vector y was passed when a 1d array was expected. Please change the shape of y to (n_samples, ), for example using ravel().\n",
      "  y = column_or_1d(y, warn=True)\n"
     ]
    },
    {
     "name": "stdout",
     "output_type": "stream",
     "text": [
      "Compiled Model: 27\n",
      "\n"
     ]
    },
    {
     "name": "stderr",
     "output_type": "stream",
     "text": [
      "/Users/achyuth/miniconda3/envs/Proj/lib/python3.10/site-packages/sklearn/ensemble/_gb.py:437: DataConversionWarning: A column-vector y was passed when a 1d array was expected. Please change the shape of y to (n_samples, ), for example using ravel().\n",
      "  y = column_or_1d(y, warn=True)\n"
     ]
    },
    {
     "name": "stdout",
     "output_type": "stream",
     "text": [
      "Compiled Model: 28\n",
      "\n"
     ]
    },
    {
     "name": "stderr",
     "output_type": "stream",
     "text": [
      "/Users/achyuth/miniconda3/envs/Proj/lib/python3.10/site-packages/sklearn/ensemble/_gb.py:437: DataConversionWarning: A column-vector y was passed when a 1d array was expected. Please change the shape of y to (n_samples, ), for example using ravel().\n",
      "  y = column_or_1d(y, warn=True)\n"
     ]
    },
    {
     "name": "stdout",
     "output_type": "stream",
     "text": [
      "Compiled Model: 29\n",
      "\n"
     ]
    },
    {
     "name": "stderr",
     "output_type": "stream",
     "text": [
      "/Users/achyuth/miniconda3/envs/Proj/lib/python3.10/site-packages/sklearn/ensemble/_gb.py:437: DataConversionWarning: A column-vector y was passed when a 1d array was expected. Please change the shape of y to (n_samples, ), for example using ravel().\n",
      "  y = column_or_1d(y, warn=True)\n"
     ]
    },
    {
     "name": "stdout",
     "output_type": "stream",
     "text": [
      "Compiled Model: 30\n",
      "\n"
     ]
    },
    {
     "name": "stderr",
     "output_type": "stream",
     "text": [
      "/Users/achyuth/miniconda3/envs/Proj/lib/python3.10/site-packages/sklearn/ensemble/_gb.py:437: DataConversionWarning: A column-vector y was passed when a 1d array was expected. Please change the shape of y to (n_samples, ), for example using ravel().\n",
      "  y = column_or_1d(y, warn=True)\n"
     ]
    },
    {
     "name": "stdout",
     "output_type": "stream",
     "text": [
      "Compiled Model: 31\n",
      "\n"
     ]
    },
    {
     "name": "stderr",
     "output_type": "stream",
     "text": [
      "/Users/achyuth/miniconda3/envs/Proj/lib/python3.10/site-packages/sklearn/ensemble/_gb.py:437: DataConversionWarning: A column-vector y was passed when a 1d array was expected. Please change the shape of y to (n_samples, ), for example using ravel().\n",
      "  y = column_or_1d(y, warn=True)\n"
     ]
    },
    {
     "name": "stdout",
     "output_type": "stream",
     "text": [
      "Compiled Model: 32\n",
      "\n"
     ]
    },
    {
     "name": "stderr",
     "output_type": "stream",
     "text": [
      "/Users/achyuth/miniconda3/envs/Proj/lib/python3.10/site-packages/sklearn/ensemble/_gb.py:437: DataConversionWarning: A column-vector y was passed when a 1d array was expected. Please change the shape of y to (n_samples, ), for example using ravel().\n",
      "  y = column_or_1d(y, warn=True)\n"
     ]
    },
    {
     "name": "stdout",
     "output_type": "stream",
     "text": [
      "Compiled Model: 33\n",
      "\n"
     ]
    },
    {
     "name": "stderr",
     "output_type": "stream",
     "text": [
      "/Users/achyuth/miniconda3/envs/Proj/lib/python3.10/site-packages/sklearn/ensemble/_gb.py:437: DataConversionWarning: A column-vector y was passed when a 1d array was expected. Please change the shape of y to (n_samples, ), for example using ravel().\n",
      "  y = column_or_1d(y, warn=True)\n"
     ]
    },
    {
     "name": "stdout",
     "output_type": "stream",
     "text": [
      "Compiled Model: 34\n",
      "\n"
     ]
    },
    {
     "name": "stderr",
     "output_type": "stream",
     "text": [
      "/Users/achyuth/miniconda3/envs/Proj/lib/python3.10/site-packages/sklearn/ensemble/_gb.py:437: DataConversionWarning: A column-vector y was passed when a 1d array was expected. Please change the shape of y to (n_samples, ), for example using ravel().\n",
      "  y = column_or_1d(y, warn=True)\n"
     ]
    },
    {
     "name": "stdout",
     "output_type": "stream",
     "text": [
      "Compiled Model: 35\n",
      "\n"
     ]
    },
    {
     "name": "stderr",
     "output_type": "stream",
     "text": [
      "/Users/achyuth/miniconda3/envs/Proj/lib/python3.10/site-packages/sklearn/ensemble/_gb.py:437: DataConversionWarning: A column-vector y was passed when a 1d array was expected. Please change the shape of y to (n_samples, ), for example using ravel().\n",
      "  y = column_or_1d(y, warn=True)\n"
     ]
    },
    {
     "name": "stdout",
     "output_type": "stream",
     "text": [
      "0.9781021897810219 GradientBoostingClassifier(criterion='squared_error', learning_rate=0.3,\n",
      "                           loss='exponential', max_depth=5)\n",
      "0.9759553456419064 GradientBoostingClassifier(learning_rate=0.3, loss='exponential', max_depth=5)\n",
      "0.9759553456419064 GradientBoostingClassifier(criterion='squared_error', learning_rate=0.3,\n",
      "                           max_depth=5)\n",
      "0.9738085015027909 GradientBoostingClassifier(learning_rate=0.3, loss='deviance', max_depth=5)\n",
      "0.9738085015027909 GradientBoostingClassifier(learning_rate=0.3, max_depth=5)\n",
      "0.9725203950193216 GradientBoostingClassifier(criterion='squared_error', learning_rate=0.3,\n",
      "                           loss='deviance', max_depth=5)\n",
      "0.970373550880206 GradientBoostingClassifier(learning_rate=0.3, loss='deviance', max_depth=4)\n",
      "0.970373550880206 GradientBoostingClassifier(criterion='squared_error', learning_rate=0.3,\n",
      "                           max_depth=4)\n",
      "0.970373550880206 GradientBoostingClassifier(learning_rate=0.3, max_depth=4)\n",
      "0.9686560755689136 GradientBoostingClassifier(learning_rate=0.3, loss='exponential', max_depth=4)\n"
     ]
    }
   ],
   "source": [
    "n = 10\n",
    "compiled_models = []\n",
    "\n",
    "\n",
    "losss = ['log_loss', 'deviance', 'exponential']\n",
    "learning_rates = [0.1, 0.3]\n",
    "criterions = ['friedman_mse', 'squared_error']\n",
    "max_depths = [3, 4, 5]\n",
    "\n",
    "counter = 0\n",
    "\n",
    "for loss in losss:\n",
    "    for learning_rate in learning_rates:\n",
    "        for criterion in criterions:\n",
    "            for max_depth in max_depths:\n",
    "\n",
    "\n",
    "                print(f\"Compiled Model: {counter}\\n\")\n",
    "\n",
    "                try:\n",
    "                    model = GradientBoostingClassifier(loss = loss,\n",
    "                                                       learning_rate = learning_rate,\n",
    "                                                       criterion = criterion,\n",
    "                                                       max_depth = max_depth).fit(x_train, y_train)\n",
    "                except:\n",
    "                    counter += 1\n",
    "                    continue\n",
    "\n",
    "                compiled_models.append([float(model.score(x_valid, y_valid)), model])\n",
    "                counter += 1\n",
    "\n",
    "compiled_models.sort(key=lambda row: (row[0]))\n",
    "compiled_models = compiled_models[::-1]\n",
    "compiled_models = compiled_models[0:n]\n",
    "\n",
    "for i, model in enumerate(compiled_models):\n",
    "    print(model[0], model[1])\n",
    "    filename = f'PIKLE_GRADIENT/GBOOST{i}'\n",
    "    pk.dump(model[1], open(filename, 'wb'))"
   ]
  },
  {
   "cell_type": "code",
   "execution_count": 81,
   "metadata": {},
   "outputs": [
    {
     "name": "stderr",
     "output_type": "stream",
     "text": [
      "/Users/achyuth/miniconda3/envs/Proj/lib/python3.10/site-packages/sklearn/ensemble/_gb.py:437: DataConversionWarning: A column-vector y was passed when a 1d array was expected. Please change the shape of y to (n_samples, ), for example using ravel().\n",
      "  y = column_or_1d(y, warn=True)\n",
      "/Users/achyuth/miniconda3/envs/Proj/lib/python3.10/site-packages/sklearn/ensemble/_gb.py:437: DataConversionWarning: A column-vector y was passed when a 1d array was expected. Please change the shape of y to (n_samples, ), for example using ravel().\n",
      "  y = column_or_1d(y, warn=True)\n",
      "/Users/achyuth/miniconda3/envs/Proj/lib/python3.10/site-packages/sklearn/ensemble/_gb.py:437: DataConversionWarning: A column-vector y was passed when a 1d array was expected. Please change the shape of y to (n_samples, ), for example using ravel().\n",
      "  y = column_or_1d(y, warn=True)\n",
      "/Users/achyuth/miniconda3/envs/Proj/lib/python3.10/site-packages/sklearn/ensemble/_gb.py:437: DataConversionWarning: A column-vector y was passed when a 1d array was expected. Please change the shape of y to (n_samples, ), for example using ravel().\n",
      "  y = column_or_1d(y, warn=True)\n",
      "/Users/achyuth/miniconda3/envs/Proj/lib/python3.10/site-packages/sklearn/ensemble/_gb.py:437: DataConversionWarning: A column-vector y was passed when a 1d array was expected. Please change the shape of y to (n_samples, ), for example using ravel().\n",
      "  y = column_or_1d(y, warn=True)\n"
     ]
    },
    {
     "data": {
      "image/png": "[encoded data removed]",
      "text/plain": [
       "<Figure size 640x480 with 1 Axes>"
      ]
     },
     "metadata": {},
     "output_type": "display_data"
    }
   ],
   "source": [
    "train_results = []\n",
    "test_results = []\n",
    "list_nb_trees = [100, 150, 200, 300, 400]\n",
    "\n",
    "for nb_trees in list_nb_trees:\n",
    "    modelG = GradientBoostingClassifier(criterion='squared_error', learning_rate=0.3,\n",
    "                           loss='exponential', max_depth=5, n_estimators= nb_trees)\n",
    "    modelG.fit(x_train, y_train)\n",
    "\n",
    "    train_results.append(1 - (modelG.score(x_train,y_train)))\n",
    "    test_results.append(1 - (modelG.score(x_test, y_test)))\n",
    "\n",
    "line1, = plt.plot(list_nb_trees, train_results, color=\"r\", label=\"Training Score\")\n",
    "line2, = plt.plot(list_nb_trees, test_results, color=\"g\", label=\"Testing Score\")\n",
    "\n",
    "plt.legend(handler_map={line1: HandlerLine2D(numpoints=2)})\n",
    "plt.ylabel('Error')\n",
    "plt.xlabel('n_estimators')\n",
    "fig = plt.gcf()\n",
    "plt.show()\n",
    "fig.savefig('BestGradientBoostingClassifierNewData.png')"
   ]
  },
  {
   "cell_type": "code",
   "execution_count": 82,
   "metadata": {},
   "outputs": [
    {
     "name": "stderr",
     "output_type": "stream",
     "text": [
      "/Users/achyuth/miniconda3/envs/Proj/lib/python3.10/site-packages/sklearn/ensemble/_gb.py:437: DataConversionWarning: A column-vector y was passed when a 1d array was expected. Please change the shape of y to (n_samples, ), for example using ravel().\n",
      "  y = column_or_1d(y, warn=True)\n",
      "/Users/achyuth/miniconda3/envs/Proj/lib/python3.10/site-packages/sklearn/ensemble/_gb.py:437: DataConversionWarning: A column-vector y was passed when a 1d array was expected. Please change the shape of y to (n_samples, ), for example using ravel().\n",
      "  y = column_or_1d(y, warn=True)\n",
      "/Users/achyuth/miniconda3/envs/Proj/lib/python3.10/site-packages/sklearn/ensemble/_gb.py:437: DataConversionWarning: A column-vector y was passed when a 1d array was expected. Please change the shape of y to (n_samples, ), for example using ravel().\n",
      "  y = column_or_1d(y, warn=True)\n",
      "/Users/achyuth/miniconda3/envs/Proj/lib/python3.10/site-packages/sklearn/ensemble/_gb.py:437: DataConversionWarning: A column-vector y was passed when a 1d array was expected. Please change the shape of y to (n_samples, ), for example using ravel().\n",
      "  y = column_or_1d(y, warn=True)\n",
      "/Users/achyuth/miniconda3/envs/Proj/lib/python3.10/site-packages/sklearn/ensemble/_gb.py:437: DataConversionWarning: A column-vector y was passed when a 1d array was expected. Please change the shape of y to (n_samples, ), for example using ravel().\n",
      "  y = column_or_1d(y, warn=True)\n",
      "/Users/achyuth/miniconda3/envs/Proj/lib/python3.10/site-packages/sklearn/ensemble/_gb.py:437: DataConversionWarning: A column-vector y was passed when a 1d array was expected. Please change the shape of y to (n_samples, ), for example using ravel().\n",
      "  y = column_or_1d(y, warn=True)\n",
      "/Users/achyuth/miniconda3/envs/Proj/lib/python3.10/site-packages/sklearn/ensemble/_gb.py:437: DataConversionWarning: A column-vector y was passed when a 1d array was expected. Please change the shape of y to (n_samples, ), for example using ravel().\n",
      "  y = column_or_1d(y, warn=True)\n",
      "/Users/achyuth/miniconda3/envs/Proj/lib/python3.10/site-packages/sklearn/ensemble/_gb.py:437: DataConversionWarning: A column-vector y was passed when a 1d array was expected. Please change the shape of y to (n_samples, ), for example using ravel().\n",
      "  y = column_or_1d(y, warn=True)\n",
      "/Users/achyuth/miniconda3/envs/Proj/lib/python3.10/site-packages/sklearn/ensemble/_gb.py:437: DataConversionWarning: A column-vector y was passed when a 1d array was expected. Please change the shape of y to (n_samples, ), for example using ravel().\n",
      "  y = column_or_1d(y, warn=True)\n",
      "/Users/achyuth/miniconda3/envs/Proj/lib/python3.10/site-packages/sklearn/ensemble/_gb.py:437: DataConversionWarning: A column-vector y was passed when a 1d array was expected. Please change the shape of y to (n_samples, ), for example using ravel().\n",
      "  y = column_or_1d(y, warn=True)\n",
      "/Users/achyuth/miniconda3/envs/Proj/lib/python3.10/site-packages/sklearn/ensemble/_gb.py:437: DataConversionWarning: A column-vector y was passed when a 1d array was expected. Please change the shape of y to (n_samples, ), for example using ravel().\n",
      "  y = column_or_1d(y, warn=True)\n",
      "/Users/achyuth/miniconda3/envs/Proj/lib/python3.10/site-packages/sklearn/ensemble/_gb.py:437: DataConversionWarning: A column-vector y was passed when a 1d array was expected. Please change the shape of y to (n_samples, ), for example using ravel().\n",
      "  y = column_or_1d(y, warn=True)\n",
      "/Users/achyuth/miniconda3/envs/Proj/lib/python3.10/site-packages/sklearn/ensemble/_gb.py:437: DataConversionWarning: A column-vector y was passed when a 1d array was expected. Please change the shape of y to (n_samples, ), for example using ravel().\n",
      "  y = column_or_1d(y, warn=True)\n",
      "/Users/achyuth/miniconda3/envs/Proj/lib/python3.10/site-packages/sklearn/ensemble/_gb.py:437: DataConversionWarning: A column-vector y was passed when a 1d array was expected. Please change the shape of y to (n_samples, ), for example using ravel().\n",
      "  y = column_or_1d(y, warn=True)\n"
     ]
    },
    {
     "data": {
      "image/png": "[encoded data removed]",
      "text/plain": [
       "<Figure size 640x480 with 1 Axes>"
      ]
     },
     "metadata": {},
     "output_type": "display_data"
    }
   ],
   "source": [
    "train_results = []\n",
    "test_results = []\n",
    "list_nb_trees = [1,2,3,4,5,6,7,8,9,10,15,20,30,40]\n",
    "\n",
    "for nb_trees in list_nb_trees:\n",
    "    modelG = GradientBoostingClassifier(criterion='squared_error', learning_rate=0.3,\n",
    "                           loss='exponential', max_depth=5, n_estimators= nb_trees)\n",
    "    modelG.fit(x_train, y_train)\n",
    "\n",
    "    train_results.append(1 - (modelG.score(x_train,y_train)))\n",
    "    test_results.append(1 - (modelG.score(x_test, y_test)))\n",
    "\n",
    "line1, = plt.plot(list_nb_trees, train_results, color=\"r\", label=\"Training Score\")\n",
    "line2, = plt.plot(list_nb_trees, test_results, color=\"g\", label=\"Testing Score\")\n",
    "\n",
    "plt.legend(handler_map={line1: HandlerLine2D(numpoints=2)})\n",
    "plt.ylabel('Error')\n",
    "plt.xlabel('n_estimators')\n",
    "fig = plt.gcf()\n",
    "plt.show()\n",
    "fig.savefig('Test.png')"
   ]
  },
  {
   "cell_type": "code",
   "execution_count": 18,
   "metadata": {},
   "outputs": [
    {
     "data": {
      "text/plain": [
       "0.9965650493774152"
      ]
     },
     "execution_count": 18,
     "metadata": {},
     "output_type": "execute_result"
    }
   ],
   "source": [
    "file = open('PIKLE_GRADIENT/GBOOST0', 'rb')\n",
    "newModel = pk.load(file)\n",
    "file.close()\n",
    "newModel.score(x_valid,y_valid)"
   ]
  },
  {
   "cell_type": "code",
   "execution_count": 46,
   "metadata": {},
   "outputs": [
    {
     "data": {
      "image/png": "[encoded data removed]",
      "text/plain": [
       "<Figure size 640x480 with 2 Axes>"
      ]
     },
     "metadata": {},
     "output_type": "display_data"
    }
   ],
   "source": [
    "predictions = newModel.predict(x_test)\n",
    "cm = confusion_matrix(y_test, predictions, labels=newModel.classes_)\n",
    "disp = ConfusionMatrixDisplay(confusion_matrix=cm, display_labels=newModel.classes_)\n",
    "disp.plot()\n",
    "fig = plt.gcf()\n",
    "plt.show()\n",
    "fig.savefig('BaseModel_ConfusionMatrixLog.png')"
   ]
  },
  {
   "cell_type": "code",
   "execution_count": null,
   "metadata": {},
   "outputs": [],
   "source": []
  }
 ],
 "metadata": {
  "kernelspec": {
   "display_name": "Python 3 (ipykernel)",
   "language": "python",
   "name": "python3"
  },
  "language_info": {
   "codemirror_mode": {
    "name": "ipython",
    "version": 3
   },
   "file_extension": ".py",
   "mimetype": "text/x-python",
   "name": "python",
   "nbconvert_exporter": "python",
   "pygments_lexer": "ipython3",
   "version": "3.10.10"
  }
 },
 "nbformat": 4,
 "nbformat_minor": 2
}
